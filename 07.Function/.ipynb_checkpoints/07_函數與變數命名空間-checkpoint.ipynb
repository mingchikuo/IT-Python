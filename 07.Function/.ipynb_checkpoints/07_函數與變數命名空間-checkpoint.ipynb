{
 "cells": [
  {
   "cell_type": "markdown",
   "metadata": {},
   "source": [
    "## Function call "
   ]
  },
  {
   "cell_type": "code",
   "execution_count": null,
   "metadata": {},
   "outputs": [],
   "source": [
    "def fib(n):    # write Fibonacci series up to n\n",
    "    a, b = 0, 1\n",
    "    while a < n:\n",
    "        print(a,end=' ')\n",
    "        a, b = b, a+b\n",
    "\n",
    "def fib2(n):   # return Fibonacci series up to n\n",
    "    result = []\n",
    "    a, b = 0, 1\n",
    "    while a < n:\n",
    "        result.append(a)\n",
    "        a, b = b, a+b\n",
    "    return result\n",
    "\n",
    "fib(100)\n",
    "x=fib2(100)\n",
    "print()\n",
    "print(x)"
   ]
  },
  {
   "cell_type": "code",
   "execution_count": null,
   "metadata": {},
   "outputs": [],
   "source": [
    "#defautl argument \n",
    "def add(a=5,b,c=20):\n",
    "    return a+b+c\n",
    "\n",
    "print(add())\n",
    "    \n",
    "#def add(a=10,b,c): #non-default argument follows default argument  \n",
    "    \n",
    "#def add(a,b=10,c): #non-default argument follows default argument  "
   ]
  },
  {
   "cell_type": "code",
   "execution_count": null,
   "metadata": {},
   "outputs": [],
   "source": [
    "i=5\n",
    "def f(arg=i):   #immutalbe\n",
    "    print(arg)\n",
    "\n",
    "i=6\n",
    "f()\n",
    "\n"
   ]
  },
  {
   "cell_type": "code",
   "execution_count": null,
   "metadata": {},
   "outputs": [],
   "source": [
    "\n",
    "def f1(a, L=[]):\n",
    "    #print(type(L),id(L))\n",
    "    \n",
    "    L.append(a)\n",
    "    return L\n",
    "\n",
    "def f2(a, L=None):\n",
    "    if L is None:\n",
    "        L = []\n",
    "    L.append(a)\n",
    "    return L\n",
    "\n",
    "list1=f1(1)\n",
    "print(list1,id(list1))\n",
    "list2=f1(2)\n",
    "print(list2,id(list2))\n",
    "list3=f1(3)\n",
    "print(list3,id(list3))\n",
    "\n",
    "print('-----------------')\n",
    "list1=f2(1)\n",
    "print(list1,id(list1))\n",
    "list2=f2(2)\n",
    "print(list2,id(list2))\n",
    "list3=f2(3)\n",
    "print(list3,id(list3))\n",
    "\n",
    "\n"
   ]
  },
  {
   "cell_type": "markdown",
   "metadata": {},
   "source": [
    "## Default Function Argument"
   ]
  },
  {
   "cell_type": "code",
   "execution_count": null,
   "metadata": {},
   "outputs": [],
   "source": [
    "\n",
    "def ask_ok(prompt, retries=2, reminder='Please try again!'):\n",
    "    while True:\n",
    "        ok = input(prompt)\n",
    "        if ok in ('y', 'ye', 'yes'):\n",
    "            return True\n",
    "        if ok in ('n', 'no', 'nop', 'nope'):\n",
    "            return False\n",
    "        retries = retries - 1\n",
    "        if retries < 0:\n",
    "            raise ValueError('invalid user response')\n",
    "        print(reminder)\n",
    "\n",
    "        \n",
    "ask_ok('Do you really want to quit?')"
   ]
  },
  {
   "cell_type": "code",
   "execution_count": null,
   "metadata": {},
   "outputs": [],
   "source": [
    "def parrot(voltage, state='a stiff', action='voom', type='Norwegian Blue'):\n",
    "    print(\"-- This parrot wouldn't\", action, end=' ')\n",
    "    print(\"if you put\", voltage, \"volts through it.\")\n",
    "    print(\"-- Lovely plumage, the\", type)\n",
    "    print(\"-- It's\", state, \"!\")\n",
    "    \n",
    "    \n",
    "parrot(1000)                                          # 1 positional argument\n",
    "parrot(voltage=1000)                                  # 1 keyword argument\n",
    "parrot(voltage=1000000, action='VOOOOOM')             # 2 keyword arguments\n",
    "parrot(action='VOOOOOM', voltage=1000000)             # 2 keyword arguments\n",
    "parrot('a million', 'bereft of life', 'jump')         # 3 positional arguments\n",
    "parrot('a thousand', state='pushing up the daisies')  # 1 positional, 1 keyword\n",
    "\n",
    "\n",
    "#parrot()                     # required argument missing\n",
    "parrot(voltage=5.0, 'dead')  # non-keyword argument after a keyword argument\n",
    "#parrot(110, voltage=220)     # duplicate value for the same argument\n",
    "#parrot(actor='John Cleese')  # unknown keyword argument"
   ]
  },
  {
   "cell_type": "code",
   "execution_count": null,
   "metadata": {},
   "outputs": [],
   "source": [
    "#不定量參數寫法\n",
    "\n",
    "def test(value, *arguments, **keywords):\n",
    "    print(value)\n",
    "    for arg in arguments:\n",
    "        print(arg)\n",
    "    print(\"-\" * 40)\n",
    "    for kw in keywords:\n",
    "        print(kw, \":\", keywords[kw])\n",
    "        \n",
    "        \n",
    "test(10,20,30,a=100,b=200,c=300)\n",
    "test(10,20,30,300,a=100,b=200,c=300,d=500)\n"
   ]
  },
  {
   "cell_type": "code",
   "execution_count": 1,
   "metadata": {},
   "outputs": [
    {
     "name": "stdout",
     "output_type": "stream",
     "text": [
      "1,2,3,4,5\n",
      "['1', '2', '3', '4', '5']\n",
      "earth/mars/venus/earth/mars/venus\n",
      "earth.mars.venus\n"
     ]
    }
   ],
   "source": [
    "s=\",\".join(['1', '2', '3', '4', '5'])\n",
    "print(s)\n",
    "t=s.split(',')\n",
    "print(t)\n",
    "\n",
    "\n",
    "def concat(*args, sep=\"/\"):\n",
    "    return sep.join(args)\n",
    "\n",
    "str1=concat(\"earth\", \"mars\", \"venus\",'earth/mars/venus')\n",
    "print(str1)\n",
    "str1=concat(\"earth\", \"mars\", \"venus\", sep=\".\")\n",
    "print(str1)"
   ]
  },
  {
   "cell_type": "code",
   "execution_count": null,
   "metadata": {},
   "outputs": [],
   "source": [
    "\n",
    "args = [3, 6]\n",
    "\n",
    "print(*args)\n",
    "print(list(range(*args)))   # call with arguments unpacked from a list\n",
    "\n",
    "def test(**keywords):\n",
    "\n",
    "    for kw in keywords:\n",
    "        print(kw, \":\", keywords[kw])\n",
    "\n",
    "test(a=100,b=200,c=300)\n",
    "dict1={\"a\":100,\"b\":200,\"c\":300}\n",
    "\n",
    "test(**dict1)"
   ]
  },
  {
   "cell_type": "markdown",
   "metadata": {},
   "source": [
    "## Function Argument Passing\n"
   ]
  },
  {
   "cell_type": "code",
   "execution_count": null,
   "metadata": {},
   "outputs": [],
   "source": [
    "'''\n",
    "python的function 是屬於call by assignment, 由變數型態是 mutuable 或 immutable 決定\n",
    "是call by value or call by reference\n",
    "mutable belons to call by reference; immutable belons to call by value \n",
    "\n",
    "'''\n",
    "\n",
    "a=100\n",
    "b='it'\n",
    "def fun(a):\n",
    "    '''vvvvvv'''\n",
    "    a*=2\n",
    "    print(a)\n",
    "\n",
    "    \n",
    "def fun_str(s):\n",
    "    s=\"hello!\"+s\n",
    "    print(s)\n",
    "\n",
    "fun(a)    \n",
    "print(a)\n",
    "\n",
    "fun_str(b)\n",
    "print(b)"
   ]
  },
  {
   "cell_type": "code",
   "execution_count": null,
   "metadata": {},
   "outputs": [],
   "source": [
    "def fun(a):\n",
    "    a[0]=100\n",
    "    #=a[0]\n",
    "\n",
    "\n",
    "mylist=[10,20,30]\n",
    "print(mylist)\n",
    "fun(mylist)\n",
    "print(mylist)"
   ]
  },
  {
   "cell_type": "code",
   "execution_count": null,
   "metadata": {},
   "outputs": [],
   "source": [
    "\n",
    "def square(a):\n",
    "    return a**2\n",
    "\n",
    "a=10\n",
    "print(a)\n",
    "a=square(a)\n",
    "print(a)\n"
   ]
  },
  {
   "cell_type": "code",
   "execution_count": null,
   "metadata": {},
   "outputs": [],
   "source": [
    "#function內宣告的object 也可以用return方式給函式外來使用\n",
    "#但呼叫function, 其內部function宣告的object 每次都會產生新的\n",
    "def fun(a):\n",
    "    data=[]   #create a new list\n",
    "    print(id(data))\n",
    "    data.append(a);\n",
    "    data.append(a+10)\n",
    "    return data,a\n",
    "\n",
    "c=20\n",
    "x,y=fun(c)\n",
    "print(x)\n",
    "print(y)\n",
    "print(id(x))\n",
    "\n",
    "print('--------------')\n",
    "c=100\n",
    "s,t=fun(c)\n",
    "print(s)\n",
    "print(t)\n",
    "print(id(s))\n",
    "\n"
   ]
  },
  {
   "cell_type": "code",
   "execution_count": null,
   "metadata": {},
   "outputs": [],
   "source": [
    "#function example : list is called by reference\n",
    "# parameter: list\n",
    "def fun(a):\n",
    "    a[0]=100\n",
    "    \n",
    "\n",
    "mylist=[10,20,30]\n",
    "fun(mylist)\n",
    "print(mylist)\n",
    "\n",
    "\n",
    "#function example : dict is called by reference\n",
    "# parameter: dict\n",
    "def fun1(a):\n",
    "    a['a']=a['a']*2\n",
    "    \n",
    "\n",
    "mydict={'a':5,'b':10}\n",
    "fun1(mydict)\n",
    "print(mydict)\n",
    "\n"
   ]
  },
  {
   "cell_type": "markdown",
   "metadata": {},
   "source": [
    "# Name Scope"
   ]
  },
  {
   "cell_type": "code",
   "execution_count": null,
   "metadata": {},
   "outputs": [],
   "source": [
    "#You can “access” non-local variable without specifically declare it, but you have to declare it to change it.\n",
    "\n",
    "a=5\n",
    "b=300\n",
    "\n",
    "def myfun():\n",
    "    b+=10\n",
    "    print(a)\n",
    "    print(b)\n",
    "    \n",
    "\n",
    "print(a)\n",
    "print(b)\n",
    "print('-------------')\n",
    "a=500\n",
    "myfun()\n",
    "print('-------------')\n",
    "print(a)\n",
    "print(b)\n"
   ]
  },
  {
   "cell_type": "code",
   "execution_count": null,
   "metadata": {},
   "outputs": [],
   "source": [
    "#global \n",
    "\n",
    "#x = 10\n",
    "\n",
    "def myfun():\n",
    "    global x\n",
    "    x=20\n",
    "    print(x) \n",
    "      \n",
    "      \n",
    "\n",
    "    \n",
    "print(x)\n",
    "myfun()\n",
    "print(x)\n"
   ]
  },
  {
   "cell_type": "code",
   "execution_count": null,
   "metadata": {},
   "outputs": [],
   "source": [
    "#global . 針對immutable 參數要加global 才能存取到外部variable ,否則一律為local\n",
    "def square():\n",
    "    #global a\n",
    "    a=5\n",
    "    a=a**2\n",
    "    return a\n",
    "    \n",
    "    \n",
    "a=10\n",
    "print(a)\n",
    "square()\n",
    "print(a)\n"
   ]
  },
  {
   "cell_type": "code",
   "execution_count": null,
   "metadata": {},
   "outputs": [],
   "source": [
    "#You can “access” non-local variable without specifically declare\n",
    "#it, but you have to declare it to change it.\n",
    "\n",
    "a=5\n",
    "b=300\n",
    "\n",
    "def myfun():\n",
    "    global b  #一開始先說明 b是指外部變數b, 而不是函式內又定義的新label\n",
    "    a=10  #會重新定義一個local變數a指向10,不影響外面的a\n",
    "    b=400\n",
    "    \n",
    "\n",
    "print(a)\n",
    "print(b)\n",
    "\n",
    "myfun()\n",
    "print('---  after ---')\n",
    "\n",
    "print(a)\n",
    "print(b)"
   ]
  },
  {
   "cell_type": "code",
   "execution_count": null,
   "metadata": {},
   "outputs": [],
   "source": [
    "# Local variable vs Global variable\n",
    "#local 產生新的變數(label)\n",
    "def foo(x, y): \n",
    "\n",
    "    global a   # 代表外面的label\n",
    "    a = 100\n",
    "    x,y = y,x\n",
    "    b = 200\n",
    "    print(\"---\",a,b,x,y)\n",
    "\n",
    "a, b, x, y = 1, 2, 3,4 \n",
    "print(a, b, x, y)\n",
    "\n",
    "foo(x, y)\n",
    "print(a, b, x, y)"
   ]
  },
  {
   "cell_type": "code",
   "execution_count": null,
   "metadata": {},
   "outputs": [],
   "source": [
    "s = \"I love Paris!\"\n",
    "\n",
    "def f(): \n",
    "    #global s\n",
    "    s += \"I love London!\"\n",
    "    #print(s)   #--> casue \"UnboundLocalError\" \n",
    "\n",
    "    \n",
    "\n",
    "print(s)\n",
    "f()\n",
    "print(s)"
   ]
  },
  {
   "cell_type": "code",
   "execution_count": null,
   "metadata": {},
   "outputs": [],
   "source": [
    "h=[]\n",
    "a=10\n",
    "def fun():\n",
    "    #a+=10  #'a' referenced before assignment\n",
    "    h.append(a)  #h是拿外部 global的 object\n",
    "    #print(h)\n",
    "\n",
    "    \n",
    "    \n",
    "fun()\n",
    "fun()\n",
    "print(h)\n"
   ]
  },
  {
   "cell_type": "code",
   "execution_count": null,
   "metadata": {},
   "outputs": [],
   "source": [
    "# 全域變數vs 區域變數\n",
    "\n",
    "x1=[2,4,6]\n",
    "a=5\n",
    "\n",
    "def func1():\n",
    "    x1[1]=100   #會更改\n",
    "\n",
    "def func2(): \n",
    "    x1=[1,2,3]    #初值設定:x1是local\n",
    "    print(x1)\n",
    "    \n",
    "def func3():\n",
    "    a=10      #初值設定為local\n",
    "    print(a)\n",
    "\n",
    "    \n",
    "def func4():\n",
    "    global a\n",
    "    a=1000      #初值設定為local, 但global明確定義a是global\n",
    "    print(a)\n",
    "\n",
    "    \n",
    "def func5():\n",
    "    global x1   #改變外面的lable ,必須加入global, 否則新的x1代表是該function 內所定義的新label 變數指向[1,2,3]\n",
    "    x1=[1,2,3]    #初值設定:x1是local\n",
    "\n",
    "def func6():\n",
    "    x1.append(8)\n",
    "    \n",
    "    \n",
    "func1()\n",
    "print(x1)\n",
    "print('-------------')\n",
    "func2()\n",
    "print(x1)\n",
    "print('-------------')\n",
    "func3()\n",
    "print(a)\n",
    "print('-------------')\n",
    "func4()\n",
    "print(a)\n",
    "print('-------------')\n",
    "func5()\n",
    "print(x1)\n",
    "print('-------------')\n",
    "func6()\n",
    "print(x1)"
   ]
  },
  {
   "cell_type": "code",
   "execution_count": null,
   "metadata": {},
   "outputs": [],
   "source": [
    "\n",
    "x=[]\n",
    "\n",
    "def func():\n",
    "    global x   #this is for  x=np.array(x) assigment\n",
    "    for i in range(5):\n",
    "        x.append([i])\n",
    "    print(x)\n",
    "    x=np.array(x)  #y=np.array(x) is ok , but y=np.array(x) is wrong ( you should add 'global x)'\n",
    "\n",
    "    \n",
    "func()\n",
    "print(x)\n",
    "\n",
    "\n"
   ]
  },
  {
   "cell_type": "markdown",
   "metadata": {},
   "source": [
    "## nonlocal :在函數或其他作用域中使用外層(非全域)變數\n"
   ]
  },
  {
   "cell_type": "code",
   "execution_count": null,
   "metadata": {},
   "outputs": [],
   "source": [
    "i=1\n",
    "def l1():\n",
    "    i=2\n",
    "    def l2():\n",
    "        print(i)\n",
    "    \n",
    "    l2()\n",
    "l1()\n"
   ]
  },
  {
   "cell_type": "code",
   "execution_count": null,
   "metadata": {},
   "outputs": [],
   "source": [
    "def outer(a): \n",
    "    def inner(): \n",
    "        global a\n",
    "        a += 100 \n",
    "        print(\"inner a =\", a) \n",
    " \n",
    "    a += 1 \n",
    "    inner() \n",
    "    print(\"outer a =\", a) \n",
    "\n",
    "a=10 \n",
    "print(\"global a =\", a) \n",
    "outer(a) \n",
    "print(\"global a =\", a)"
   ]
  },
  {
   "cell_type": "code",
   "execution_count": null,
   "metadata": {},
   "outputs": [],
   "source": [
    "#LEGB Rule\n",
    "x = 10  \n",
    "\n",
    "def outer():\n",
    "    y = 20        # 在 outer() 函式範圍\n",
    "    x=100\n",
    "    def inner():\n",
    "        z = 30    # 在 inner() 函式範圍\n",
    "        #nonlocal x\n",
    "        global x\n",
    "        x=40\n",
    "        print(x)  # 內建範圍 print，全域的 x\n",
    "        print(y)  # 內建範圍 print，外包 outer() 函式的 y\n",
    "    inner()\n",
    "    print(x)\n",
    "\n",
    "\n",
    "outer()\n",
    "print(x)       "
   ]
  },
  {
   "cell_type": "code",
   "execution_count": null,
   "metadata": {},
   "outputs": [],
   "source": [
    "def outer(): \n",
    "    def inner(): \n",
    "        #nonlocal b\n",
    "        b.append(100) \n",
    "        print(\"inner b =\", b) \n",
    "\n",
    "    b.append(1) \n",
    "    inner() \n",
    "    print(\"outer b =\", b) \n",
    "\n",
    "b=[]\n",
    "\n",
    "print(\"global mylist =\", b) \n",
    "outer() \n",
    "print(\"global mylist =\", b)"
   ]
  },
  {
   "cell_type": "markdown",
   "metadata": {},
   "source": [
    "## Lamda, map Function"
   ]
  },
  {
   "cell_type": "code",
   "execution_count": null,
   "metadata": {},
   "outputs": [],
   "source": [
    "#function object with nonlocal\n",
    "\n",
    "\n",
    "def func():\n",
    "    x = 10\n",
    "    def getX():\n",
    "        return x\n",
    "    def setX(n):\n",
    "        nonlocal x  # try to comment it out , and see what happened?\n",
    "        x=n        \n",
    "    return (getX, setX)\n",
    "\n",
    "getX, setX = func()\n",
    "print(getX())\n",
    "\n",
    "setX(20)\n",
    "print(getX())\n"
   ]
  },
  {
   "cell_type": "code",
   "execution_count": null,
   "metadata": {},
   "outputs": [],
   "source": [
    "#lamda function\n",
    "#Python提供了一個簡易的function define：lambda，用完即丟，不著痕跡。讓你實作出很簡單的function(只處理一個運算)\n",
    "\n",
    "def func(x, y, z):\n",
    "    return x + y + z\n",
    "\n",
    "print(func(1,2,3))\n",
    "\n",
    "func2 = lambda x,y,z : x+y+z\n",
    "\n",
    "\n",
    "print(func2(1,2,3))\n",
    "\n"
   ]
  },
  {
   "cell_type": "code",
   "execution_count": null,
   "metadata": {},
   "outputs": [],
   "source": [
    "\n",
    "square=lambda x: x**2\n",
    "print(square(10))\n",
    "\n",
    "def make_incrementor(n):\n",
    "    return lambda x: x + n\n",
    "\n",
    "f = make_incrementor(50)\n",
    "print(f(10))\n",
    "print(f(20))\n"
   ]
  },
  {
   "cell_type": "code",
   "execution_count": null,
   "metadata": {},
   "outputs": [],
   "source": [
    "#map function\n",
    "#lamda 也可以應用在map上\n",
    "my_list = [1, 2, 3]\n",
    "ans=list(map( lambda i: i * i, my_list ))  #須要轉成list, 才能卬出\n",
    "print(ans)   #[1, 4, 9]\n",
    "\n",
    "a = [1,2,3,4]\n",
    "b = [17,12]\n",
    "c = [-1,-4,5,9]\n",
    "\n",
    "#lamda 須要2個數兩個參數\n",
    "print(list(map(lambda x,y:x+y, a,b)))    #[18, 14, 14, 14] ; 5 is ignored\n",
    "#lamda 須要3個數兩個參數\n",
    "print(list(map(lambda x,y,z:x+y+z, a,b,c)))   #[17, 10, 19, 23]\n",
    "\n"
   ]
  },
  {
   "cell_type": "markdown",
   "metadata": {},
   "source": [
    "## Zip & Enumerate Example"
   ]
  },
  {
   "cell_type": "code",
   "execution_count": null,
   "metadata": {},
   "outputs": [],
   "source": [
    "# zip Example 1\n",
    "\n",
    "A=list(range(5))   #[0, 1, 2, 3, 4]\n",
    "B=list(range(5,10))  #[5, 6, 7, 8, 9]\n",
    "Z=list(zip(A,B))     #[(0, 5), (1, 6), (2, 7), (3, 8), (4, 9)]\n",
    "print(Z)\n",
    "\n",
    "for i,j in Z:\n",
    "    print(i,j)\n",
    " "
   ]
  },
  {
   "cell_type": "code",
   "execution_count": null,
   "metadata": {},
   "outputs": [],
   "source": [
    "#enumerate\n",
    "A=[1,2,3,4]\n",
    "B=[5,6,7,8]\n",
    "for i, v in enumerate(zip(A,B)):\n",
    "    print(i,v[0],v[1])\n",
    "    \n",
    "    \n",
    "emotions = [\"Angry\", \"Disgust\", \"Fear\", \"Happy\", \"Sad\", \"Surprise\", \"Neutral\"]\n",
    "for emotion_id, emotion_name in enumerate(emotions):\n",
    "    print(emotion_id,emotion_name)\n",
    "    \n",
    "emotion_id=0   \n",
    "for emotion_name in emotions:\n",
    "    print(emotion_id,emotion_name)\n",
    "    emotion_id+=1"
   ]
  },
  {
   "cell_type": "code",
   "execution_count": null,
   "metadata": {},
   "outputs": [],
   "source": [
    "#zip Example2\n",
    "\n",
    "#kewyword: zip usage \n",
    "#zip() 是 Python 的一個內建函數，它接受一系列可迭代的對象作為參數，將對象中對應的元素打包成一個個 tuple（元組），\n",
    "#然後返回由這些 tuples 組成的 list（列表）。若傳入參數的長度不等，則返回list的長度和參數中長度最短的對象相同。\n",
    "#利用*號操作符，可以將 list unzip（解壓）。\n",
    "\n",
    "A=[1,2,3]\n",
    "B=[4,5,6]\n",
    "C=[7,8,9]\n",
    "\n",
    "x=zip(A, B,C)  #x==>[(1,4,7), (2,5,8), (3,6,9)]\n",
    "print(x)\n",
    "print(*x)\n",
    "\n",
    "vec_total = [x+y+z for x, y,z in zip(A, B, C)]\n",
    "print(vec_total)\n",
    "\n",
    "\n"
   ]
  },
  {
   "cell_type": "markdown",
   "metadata": {},
   "source": [
    "## Dict Example\n"
   ]
  },
  {
   "cell_type": "code",
   "execution_count": null,
   "metadata": {},
   "outputs": [],
   "source": [
    "#dict\n",
    "pollution={'AMB_TEMP':1,'CH4':0,'CO':0,'NMHC':0,'NO':0,'NO2':0,'NOx':0,'O3':0,'PM10':0,'PM2.5':0,'RAINFALL':0,\n",
    "               'RH':0,'SO2':0,'THC':0,'WD_HR':0,'WIND_DIREC':0,'WIND_SPEED':0,'WS_HR':1}\n",
    "\n",
    "print(pollution)\n",
    "for k, v in pollution.items():   # denotes (key,value)\n",
    "    print(k,\"-->\",v)\n",
    "\n",
    "# dict comprehension\n",
    "\n",
    "k={x: x**2 for x in [1,2,3]}  # {1: 1, 2: 4, 3: 9}\n",
    "\n",
    "print(k) \n",
    "\n",
    "k=dict(sape=4139, guido=4127, jack=4098)\n",
    "print(k) \n"
   ]
  },
  {
   "cell_type": "code",
   "execution_count": null,
   "metadata": {},
   "outputs": [],
   "source": [
    "\n",
    "\n",
    "mydict={'A':100,'B':1,'C':1}\n",
    "print(mydict)  #{'C': 1, 'B': 1, 'A': 0}\n",
    "\n",
    "\n",
    "\n",
    "# keys(). values()\n",
    "print(list(mydict.keys()))\n",
    "print(list(mydict.values()))\n",
    "\n",
    "# 'in' operator\n",
    "print('D' in mydict)\n",
    "\n",
    "if ('A' in mydict):\n",
    "    print(\"yes\",mydict[\"A\"])\n",
    "else:\n",
    "    print(\"no\")\n",
    "    \n",
    "    \n",
    "print('A' in mydict)\n",
    "\n",
    "for i, k in enumerate(mydict):  # denotes (index,key)\n",
    "    print(k)\n",
    "    \n",
    "\n",
    "for k, v in mydict.items():   # denotes (key,value)\n",
    "    print(k, v)\n",
    "\n",
    "\n"
   ]
  },
  {
   "cell_type": "code",
   "execution_count": null,
   "metadata": {
    "scrolled": true
   },
   "outputs": [],
   "source": [
    "# sort the dict by key\n",
    "\n",
    "from collections import OrderedDict\n",
    "a={'D':100,'A':0,'B':1,'C':1}\n",
    "print(a)\n",
    "\n",
    "b = dict(OrderedDict(sorted(a.items())))\n",
    "print(b)\n"
   ]
  },
  {
   "cell_type": "code",
   "execution_count": null,
   "metadata": {},
   "outputs": [],
   "source": [
    "items_index = range(3)\n",
    "value= [10, 40, 30]\n",
    "\n",
    "item = {}\n",
    "items = []\n",
    "for i in range(len(items_index)):\n",
    "    item = {}\n",
    "    print(value[i])\n",
    "    item['index'+str(i)] = value[i]\n",
    "    items.append(item)   #each element has same id\n",
    "\n",
    "print(items)\n",
    "\n"
   ]
  },
  {
   "cell_type": "code",
   "execution_count": null,
   "metadata": {},
   "outputs": [],
   "source": [
    "#dict comparison\n",
    "mydict={'A':100,'B':1,'C':1}\n",
    "\n",
    "if mydict == {'A':100,'C':1,'B':1}:\n",
    "    print('equal')\n",
    "else: \n",
    "    print('not equal')\n",
    "    \n",
    "#set comparison\n",
    "\n",
    "s1={1,2,3,4,5}\n",
    "s2={1,2,4,5,3}\n",
    "\n",
    "if s1 == s2:\n",
    "    print('equal')\n",
    "else: \n",
    "    print('not equal')\n",
    "\n"
   ]
  },
  {
   "cell_type": "markdown",
   "metadata": {},
   "source": [
    "## OrderedDict"
   ]
  },
  {
   "cell_type": "code",
   "execution_count": null,
   "metadata": {},
   "outputs": [],
   "source": [
    "from collections import OrderedDict\n",
    "\n",
    "items = [\n",
    "    ('A', 1),\n",
    "    ('B', 2),\n",
    "    ('C', 3)\n",
    "]\n",
    "\n",
    "regular_dict = dict(items)\n",
    "ordered_dict = OrderedDict(items)\n",
    "\n",
    "\n",
    "for k, v in regular_dict.items():\n",
    "    print(k, v)\n",
    "\n",
    "print('---------------')\n",
    "\n",
    "for k, v in ordered_dict.items():\n",
    "    print(k, v)\n"
   ]
  },
  {
   "cell_type": "markdown",
   "metadata": {},
   "source": [
    "## Set"
   ]
  },
  {
   "cell_type": "code",
   "execution_count": null,
   "metadata": {},
   "outputs": [],
   "source": [
    "a=set() #empty set\n",
    "a.add('A')\n",
    "a.add('B')\n",
    "print(a)\n",
    "\n",
    "a.remove('B')\n",
    "print(a)\n"
   ]
  },
  {
   "cell_type": "code",
   "execution_count": null,
   "metadata": {
    "scrolled": true
   },
   "outputs": [],
   "source": [
    "\n",
    "a = set('abracadabra')\n",
    "b = set('alacazam')\n",
    "\n",
    "print(a)\n",
    "print(b)\n",
    "\n",
    "print(a - b)                             # letters in a but not in b\n",
    "print(a | b)                             # letters in either a or b\n",
    "print(a & b)                             # letters in both a and b\n",
    "print(a ^ b)                             # letters in a or b but not both\n"
   ]
  },
  {
   "cell_type": "code",
   "execution_count": null,
   "metadata": {},
   "outputs": [],
   "source": [
    "a = {x for x in 'abracadabra' if x not in 'abc'}\n",
    "print(a)"
   ]
  },
  {
   "cell_type": "code",
   "execution_count": null,
   "metadata": {},
   "outputs": [],
   "source": [
    "a = set('abracadabra')\n",
    "for f in sorted(set(a)):\n",
    "    print(f)"
   ]
  },
  {
   "cell_type": "code",
   "execution_count": null,
   "metadata": {},
   "outputs": [],
   "source": []
  }
 ],
 "metadata": {
  "celltoolbar": "Raw Cell Format",
  "kernelspec": {
   "display_name": "Python 3",
   "language": "python",
   "name": "python3"
  },
  "language_info": {
   "codemirror_mode": {
    "name": "ipython",
    "version": 3
   },
   "file_extension": ".py",
   "mimetype": "text/x-python",
   "name": "python",
   "nbconvert_exporter": "python",
   "pygments_lexer": "ipython3",
   "version": "3.8.3"
  }
 },
 "nbformat": 4,
 "nbformat_minor": 2
}
