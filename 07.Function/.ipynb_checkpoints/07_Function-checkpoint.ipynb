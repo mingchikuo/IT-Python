{
 "cells": [
  {
   "cell_type": "markdown",
   "metadata": {},
   "source": [
    "# Function call "
   ]
  },
  {
   "cell_type": "code",
   "execution_count": null,
   "metadata": {},
   "outputs": [],
   "source": [
    "def square(a):\n",
    "    return a**2\n",
    "\n",
    "a=10\n",
    "print(a)\n",
    "a=square(a)\n",
    "print(a)\n"
   ]
  },
  {
   "cell_type": "code",
   "execution_count": null,
   "metadata": {},
   "outputs": [],
   "source": [
    "def my_function():\n",
    "  print(\"Hello from a function\")\n",
    "\n",
    "my_function()"
   ]
  },
  {
   "cell_type": "code",
   "execution_count": null,
   "metadata": {},
   "outputs": [],
   "source": [
    "def my_function(fname):\n",
    "  print(fname + \" Refsnes\")\n",
    "\n",
    "my_function(\"Emil\")\n",
    "my_function(\"Tobias\")\n",
    "my_function(\"Linus\")"
   ]
  },
  {
   "cell_type": "code",
   "execution_count": null,
   "metadata": {},
   "outputs": [],
   "source": [
    "def my_function(*kids):\n",
    "  print(\"The youngest child is \" + kids[2])\n",
    "\n",
    "my_function(\"Emil\", \"Tobias\", \"Linus\")"
   ]
  },
  {
   "cell_type": "markdown",
   "metadata": {},
   "source": [
    "## ^9/18"
   ]
  },
  {
   "cell_type": "markdown",
   "metadata": {},
   "source": [
    "# Function "
   ]
  },
  {
   "cell_type": "code",
   "execution_count": null,
   "metadata": {},
   "outputs": [],
   "source": [
    "def fib(n):    # write Fibonacci series up to n\n",
    "    a, b = 0, 1\n",
    "    while a < n:\n",
    "        print(a, end=' ')\n",
    "        a, b = b, a+b\n",
    "\n",
    "fib(100)"
   ]
  },
  {
   "cell_type": "code",
   "execution_count": null,
   "metadata": {},
   "outputs": [],
   "source": [
    "def fib(n):    # write Fibonacci series up to n\n",
    "    a, b = 0, 1\n",
    "    while a < n:\n",
    "        print(a, end=' ')\n",
    "        a, b = b, a+b\n",
    "\n",
    "print(fib(0))"
   ]
  },
  {
   "cell_type": "markdown",
   "metadata": {},
   "source": [
    "# return Keyword"
   ]
  },
  {
   "cell_type": "code",
   "execution_count": null,
   "metadata": {},
   "outputs": [],
   "source": [
    "def fib2(n):   # return Fibonacci series up to n\n",
    "    result = []\n",
    "    a, b = 0, 1\n",
    "    while a < n:\n",
    "        result.append(a)\n",
    "        a, b = b, a+b\n",
    "    return result\n",
    "\n",
    "x = fib2(100)\n",
    "print(x)"
   ]
  },
  {
   "cell_type": "markdown",
   "metadata": {},
   "source": [
    "# return 多個值"
   ]
  },
  {
   "cell_type": "code",
   "execution_count": null,
   "metadata": {},
   "outputs": [],
   "source": [
    "def fib2(n):   # return Fibonacci series up to n\n",
    "    return 2, 1\n",
    "\n",
    "x = fib2(100)\n",
    "print(x)\n",
    "print(type(x))"
   ]
  },
  {
   "cell_type": "code",
   "execution_count": null,
   "metadata": {},
   "outputs": [],
   "source": [
    "def fib2(n):   # return Fibonacci series up to n\n",
    "    return 2, 1\n",
    "\n",
    "x, y = fib2(100)\n",
    "print(x, y)\n",
    "print(type(x))"
   ]
  },
  {
   "cell_type": "markdown",
   "metadata": {},
   "source": [
    "# Function Object"
   ]
  },
  {
   "cell_type": "code",
   "execution_count": null,
   "metadata": {},
   "outputs": [],
   "source": [
    "def fib2(n):   # return Fibonacci series up to n\n",
    "    result = []\n",
    "    a, b = 0, 1\n",
    "    while a < n:\n",
    "        result.append(a)\n",
    "        a, b = b, a+b\n",
    "    return result\n",
    "\n",
    "x = fib2(0)\n",
    "print(x)\n",
    "\n",
    "#-------------------------------------\n",
    "\n",
    "x = fib2\n",
    "print(id(fib2))\n",
    "print(id(x))"
   ]
  },
  {
   "cell_type": "markdown",
   "metadata": {},
   "source": [
    "# 動手做 --------------------------------------------------------------------"
   ]
  },
  {
   "cell_type": "markdown",
   "metadata": {},
   "source": [
    "#### Example for 動手做"
   ]
  },
  {
   "cell_type": "code",
   "execution_count": null,
   "metadata": {},
   "outputs": [],
   "source": [
    "# direct print-----------------------------\n",
    "\n",
    "print(\"Emil\" + \" Refsnes\")   \n",
    "\n",
    "\n",
    "# Function---------------------------------\n",
    "\n",
    "def my_function(fname):      # Function\n",
    "  return fname + \" Refsnes\"\n",
    "\n",
    "print(my_function(\"Emil\"))\n"
   ]
  },
  {
   "cell_type": "markdown",
   "metadata": {},
   "source": [
    "#### 題目: 輸入名字，輸出歡迎資訊\n",
    "* 以function進行設計\n",
    "* 任意輸入一個英文名字，輸出 Hi 'name', welcome to Taiwan!。\n",
    "* 範例:\n",
    " * input: John\n",
    " * output: Hi John, welcome to Taiwan!。"
   ]
  },
  {
   "cell_type": "markdown",
   "metadata": {},
   "source": [
    "# -------------------------------------------------------------------------end"
   ]
  },
  {
   "cell_type": "code",
   "execution_count": null,
   "metadata": {},
   "outputs": [],
   "source": []
  },
  {
   "cell_type": "code",
   "execution_count": null,
   "metadata": {},
   "outputs": [],
   "source": []
  },
  {
   "cell_type": "markdown",
   "metadata": {},
   "source": [
    "# 動手做 --------------------------------------------------------------------"
   ]
  },
  {
   "cell_type": "markdown",
   "metadata": {},
   "source": [
    "#### 題目: 第一個字母，轉成大寫 \n",
    "* 給定一行小寫ASCII單詞（句子用空格分隔），並將每個單字的首字母大寫。\n",
    "* 範例:\n",
    " * input: we danced the mamushka at waterloo\n",
    " * output: We Danced The Mamushka At Waterloo"
   ]
  },
  {
   "cell_type": "code",
   "execution_count": null,
   "metadata": {},
   "outputs": [],
   "source": [
    "s = input().split()\n",
    "\n",
    "for word in s:\n",
    "    print(chr(ord(word[0]) - ord('a') + ord('A')), end='')\n",
    "    \n",
    "    for i in range(1, len(word)\n",
    "        print(word[i], end='')\n",
    "    print(end=' ')"
   ]
  },
  {
   "cell_type": "markdown",
   "metadata": {},
   "source": [
    "#### 題目: 第一個字母，轉成大寫 ( 請以Function方式 )\n",
    "* 編寫一個函式capitalize（lower_case_word），該函數採用小寫單字並返回首字母大寫的單字。例如，print（capitalize（'word'））應該打印單字Word。\n",
    "* 然後，給定一行小寫句子，並使用自己的函式capitalize（）將每個單字的首字母大寫。\n",
    "* 範例:\n",
    " * input: we danced the mamushka at waterloo\n",
    " * output: We Danced The Mamushka At Waterloo"
   ]
  },
  {
   "cell_type": "markdown",
   "metadata": {},
   "source": [
    "#### 題目: 將所有字母，轉成大寫 ( 請用剛剛完成的Function方式 )\n",
    "* 範例:\n",
    " * input: we danced the mamushka at waterloo\n",
    " * output: WE DANCED THE MAMUSHKA AT WATERLOO "
   ]
  },
  {
   "cell_type": "markdown",
   "metadata": {},
   "source": [
    "# -------------------------------------------------------------------------end"
   ]
  },
  {
   "cell_type": "code",
   "execution_count": null,
   "metadata": {},
   "outputs": [],
   "source": []
  },
  {
   "cell_type": "code",
   "execution_count": null,
   "metadata": {},
   "outputs": [],
   "source": []
  },
  {
   "cell_type": "markdown",
   "metadata": {},
   "source": [
    "# Argument Passing"
   ]
  },
  {
   "cell_type": "markdown",
   "metadata": {},
   "source": [
    "* Argument mutable or immutable (會不會改變)"
   ]
  },
  {
   "cell_type": "markdown",
   "metadata": {},
   "source": [
    "## Default Function Argument - Example"
   ]
  },
  {
   "cell_type": "code",
   "execution_count": null,
   "metadata": {},
   "outputs": [],
   "source": [
    "'''\n",
    "python的function 是屬於call by assignment, 由變數型態是 mutuable 或 immutable 決定\n",
    "是call by value or call by reference\n",
    "mutable belons to call by reference; immutable belons to call by value \n",
    "\n",
    "'''\n",
    "# immutable example\n",
    "\n",
    "a=100\n",
    "b='it'\n",
    "def fun(a):\n",
    "    '''vvvvvv'''\n",
    "    a*=2\n",
    "    print(a)\n",
    "\n",
    "    \n",
    "def fun_str(s):\n",
    "    s=\"hello!\"+s\n",
    "    print(s)\n",
    "\n",
    "fun(a)    \n",
    "print(a)\n",
    "\n",
    "fun_str(b)\n",
    "print(b)"
   ]
  },
  {
   "cell_type": "code",
   "execution_count": null,
   "metadata": {},
   "outputs": [],
   "source": [
    "#function example : list is called by reference\n",
    "# parameter: list\n",
    "# mutable example\n",
    "\n",
    "def fun(a):\n",
    "    a[0]=100\n",
    "    #=a[0]\n",
    "\n",
    "\n",
    "mylist=[10,20,30]\n",
    "print(mylist)\n",
    "\n",
    "fun(mylist)\n",
    "print(mylist)"
   ]
  },
  {
   "cell_type": "code",
   "execution_count": null,
   "metadata": {},
   "outputs": [],
   "source": [
    "#function example : dict is called by reference\n",
    "# parameter: dict\n",
    "# mutable example\n",
    "\n",
    "def fun1(a):\n",
    "    a['a'] = a['a'] * 2\n",
    "    \n",
    "\n",
    "mydict = {'a': 5, 'b': 10}\n",
    "print(mydict)\n",
    "\n",
    "fun1(mydict)\n",
    "print(mydict)"
   ]
  },
  {
   "cell_type": "markdown",
   "metadata": {},
   "source": [
    "# Default Argument Values"
   ]
  },
  {
   "cell_type": "code",
   "execution_count": null,
   "metadata": {},
   "outputs": [],
   "source": [
    "\n",
    "def ask_ok(prompt, retries=2, reminder='Please try again!'):\n",
    "    while True:\n",
    "        ok = input(prompt)\n",
    "        if ok in ('y', 'ye', 'yes'):\n",
    "            return True\n",
    "        if ok in ('n', 'no', 'nop', 'nope'):\n",
    "            return False\n",
    "        retries = retries - 1\n",
    "        if retries < 0:\n",
    "            raise ValueError('invalid user response')\n",
    "        print(reminder)\n",
    "\n",
    "        \n",
    "ask_ok('Do you really want to quit?')"
   ]
  },
  {
   "cell_type": "code",
   "execution_count": null,
   "metadata": {},
   "outputs": [],
   "source": [
    "\n",
    "def ask_ok(prompt, retries=2, reminder='Please try again!'):\n",
    "    while True:\n",
    "        ok = input()  # input data as first argument (prompt)\n",
    "        if ok in ('y', 'ye', 'yes'):\n",
    "            return True\n",
    "        if ok in ('n', 'no', 'nop', 'nope'):\n",
    "            return False\n",
    "        retries = retries - 1\n",
    "        if retries < 0:\n",
    "            raise ValueError('invalid user response')\n",
    "        print(reminder)\n",
    "\n",
    "        \n",
    "ask_ok('Do you really want to quit?')"
   ]
  },
  {
   "cell_type": "code",
   "execution_count": null,
   "metadata": {},
   "outputs": [],
   "source": [
    "\n",
    "def ask_ok(prompt, retries=2, reminder='Please try again!'):\n",
    "    while True:\n",
    "        ok = input()  # input data as first argument (prompt)\n",
    "        if ok in ('y', 'ye', 'yes'):\n",
    "            return True\n",
    "        if ok in ('n', 'no', 'nop', 'nope'):\n",
    "            return False\n",
    "        retries = retries - 1\n",
    "        if retries < 0:\n",
    "            raise ValueError('invalid user response')\n",
    "        print(reminder)\n",
    "\n",
    "        \n",
    "ask_ok('Do you really want to quit?', retries=1)"
   ]
  },
  {
   "cell_type": "markdown",
   "metadata": {},
   "source": [
    "# Default Argument Values - is evaluated at the point in the defining scope"
   ]
  },
  {
   "cell_type": "code",
   "execution_count": null,
   "metadata": {},
   "outputs": [],
   "source": [
    "# The default values are evaluated at the point of function definition in the defining scope\n",
    "\n",
    "i=5\n",
    "def f(arg=i):   # arg = i = 5\n",
    "    print(arg)\n",
    "\n",
    "i=6\n",
    "f()\n",
    "\n"
   ]
  },
  {
   "cell_type": "code",
   "execution_count": null,
   "metadata": {},
   "outputs": [],
   "source": [
    "# The default values are evaluated at the point of function definition in the defining scope\n",
    "\n",
    "i=5\n",
    "def f(arg=i):   # arg = 6\n",
    "    print(arg)\n",
    "\n",
    "i=6\n",
    "f(6)\n",
    "\n"
   ]
  },
  {
   "cell_type": "markdown",
   "metadata": {},
   "source": [
    "# Default Argument Values - is evaluated only once"
   ]
  },
  {
   "cell_type": "code",
   "execution_count": null,
   "metadata": {},
   "outputs": [],
   "source": [
    "def f1(a, L=[]):\n",
    "    #print(type(L),id(L))\n",
    "    \n",
    "    L.append(a)\n",
    "    return L\n",
    "\n",
    "def f2(a, L= None):\n",
    "    if L is None:\n",
    "        L = []\n",
    "    L.append(a)\n",
    "    return L\n",
    "\n",
    "print(f1(1))\n",
    "print(f1(2))\n",
    "print(f1(3))\n",
    "\n",
    "print('-----------------')\n",
    "print(f2(1))\n",
    "print(f2(2))\n",
    "print(f2(3))\n"
   ]
  },
  {
   "cell_type": "code",
   "execution_count": null,
   "metadata": {},
   "outputs": [],
   "source": [
    "import pprint\n",
    "\n",
    "\n",
    "def f1(a, L=[]):\n",
    "    #print(type(L),id(L))\n",
    "    \n",
    "    L.append(a)\n",
    "    return L\n",
    "\n",
    "def f2(a, L= None):\n",
    "    if L is None:\n",
    "        L = []\n",
    "    L.append(a)\n",
    "    return L\n",
    "\n",
    "\n",
    "list1=f1(1) ;     print(list1, id(list1))\n",
    "list2=f1(2) ;     print(list2, id(list2))\n",
    "list3=f1(3) ;     print(list3, id(list3))\n",
    "\n",
    "print('-----------------')\n",
    "list1=f2(1) ;     print(list1, id(list1))\n",
    "list2=f2(2) ;     print(list2, id(list2))\n",
    "list3=f2(3) ;     print(list3, id(list3))\n"
   ]
  },
  {
   "cell_type": "markdown",
   "metadata": {},
   "source": [
    "# Keyword Arguments"
   ]
  },
  {
   "cell_type": "code",
   "execution_count": null,
   "metadata": {},
   "outputs": [],
   "source": [
    "def parrot(voltage, state='a stiff', action='voom', type='Norwegian Blue'):\n",
    "    print(\"-- This parrot wouldn't\", action, end=' ')\n",
    "    print(\"if you put\", voltage, \"volts through it.\") \n",
    "    \n",
    "parrot(1000)                                          # 1 positional argument\n"
   ]
  },
  {
   "cell_type": "code",
   "execution_count": null,
   "metadata": {},
   "outputs": [],
   "source": [
    "def parrot(voltage, state='a stiff', action='voom', type='Norwegian Blue'):\n",
    "    print(\"-- This parrot wouldn't\", action, end=' ')\n",
    "    print(\"if you put\", voltage, \"volts through it.\")\n",
    "    print(\"-- Lovely plumage, the\", type)\n",
    "    print(\"-- It's\", state, \"!\")\n",
    "    \n",
    "    \n",
    "parrot(1000)                                          # 1 positional argument\n"
   ]
  },
  {
   "cell_type": "code",
   "execution_count": null,
   "metadata": {},
   "outputs": [],
   "source": [
    "def parrot(voltage, state='a stiff', action='voom', type='Norwegian Blue'):\n",
    "    print(\"-- This parrot wouldn't\", action, end=' ')\n",
    "    print(\"if you put\", voltage, \"volts through it.\")\n",
    "    print(\"-- Lovely plumage, the\", type)\n",
    "    print(\"-- It's\", state, \"!\")\n",
    "    \n",
    "    \n",
    "parrot(1000)                                          # 1 positional argument\n",
    "print('-----------------------------')\n",
    "\n",
    "parrot(voltage=1000)                                  # 1 keyword argument\n",
    "print('-----------------------------')\n",
    "\n",
    "parrot(voltage=1000000, action='VOOOOOM')             # 2 keyword arguments\n"
   ]
  },
  {
   "cell_type": "code",
   "execution_count": null,
   "metadata": {},
   "outputs": [],
   "source": [
    "def parrot(voltage, state='a stiff', action='voom', type='Norwegian Blue'):\n",
    "    print(\"-- This parrot wouldn't\", action, end=' ')\n",
    "    print(\"if you put\", voltage, \"volts through it.\")\n",
    "    print(\"-- Lovely plumage, the\", type)\n",
    "    print(\"-- It's\", state, \"!\")\n",
    "    \n",
    "parrot(action='VOOOOOM', voltage=1000000)             # 2 keyword arguments\n",
    "print('-----------------------------')\n",
    "\n",
    "parrot('a million', 'bereft of life', 'jump')         # 3 positional arguments\n",
    "print('-----------------------------')\n",
    "\n",
    "parrot('a thousand', state='pushing up the daisies')  # 1 positional, 1 keyword\n"
   ]
  },
  {
   "cell_type": "code",
   "execution_count": null,
   "metadata": {},
   "outputs": [],
   "source": [
    "# Error Case:\n",
    "\n",
    "def parrot(voltage, state='a stiff', action='voom', type='Norwegian Blue'):\n",
    "    print(\"-- This parrot wouldn't\", action, end=' ')\n",
    "    print(\"if you put\", voltage, \"volts through it.\")\n",
    "    print(\"-- Lovely plumage, the\", type)\n",
    "    print(\"-- It's\", state, \"!\")\n",
    "\n",
    "\n",
    "#parrot()                     # required argument missing\n",
    "#parrot(voltage=5.0, 'dead')  # non-keyword argument after a keyword argument\n",
    "#parrot(110, voltage=220)     # duplicate value for the same argument\n",
    "#parrot(actor='John Cleese')  # unknown keyword argument\n"
   ]
  },
  {
   "cell_type": "markdown",
   "metadata": {},
   "source": [
    "# 動手做 --------------------------------------------------------------------"
   ]
  },
  {
   "cell_type": "markdown",
   "metadata": {},
   "source": [
    "#### 題目:  修正以下函式中參數的錯誤\n",
    "* 需要輸入一個值，自動加總 a=5 與 c=20 的固定值後，列印正確的結果\n",
    "* 範例:\n",
    " * input: 5\n",
    " * output: 30"
   ]
  },
  {
   "cell_type": "code",
   "execution_count": null,
   "metadata": {},
   "outputs": [],
   "source": [
    "#修正錯誤\n",
    "\n",
    "def add(a=5, b, c=20):\n",
    "    return a+b+c\n",
    "\n",
    "x = int(input())\n",
    "print(add())"
   ]
  },
  {
   "cell_type": "markdown",
   "metadata": {},
   "source": [
    "# -------------------------------------------------------------------------end"
   ]
  },
  {
   "cell_type": "code",
   "execution_count": null,
   "metadata": {},
   "outputs": [],
   "source": []
  },
  {
   "cell_type": "markdown",
   "metadata": {},
   "source": [
    "# Arbitrary Argument Lists"
   ]
  },
  {
   "cell_type": "code",
   "execution_count": null,
   "metadata": {},
   "outputs": [],
   "source": [
    "#不定量參數寫法\n",
    "\n",
    "def test(value, *arguments, **keywords):\n",
    "    print(value)\n",
    "    print(\"-\" * 40)\n",
    "    \n",
    "    for arg in arguments:\n",
    "        print(arg)\n",
    "\n",
    "        \n",
    "test(10, 20, 30, a=100, b=200, c=300)\n"
   ]
  },
  {
   "cell_type": "code",
   "execution_count": null,
   "metadata": {},
   "outputs": [],
   "source": [
    "#不定量參數寫法\n",
    "\n",
    "def test(value, *arguments, **keywords):\n",
    "    print(value)\n",
    "    \n",
    "    for arg in arguments:\n",
    "        print(arg)\n",
    "        \n",
    "    print(\"-\" * 40)\n",
    "    \n",
    "    for kw in keywords:\n",
    "        print(kw, \":\", keywords[kw])\n",
    "        \n",
    "        \n",
    "test(10, 20, 30, a=100, b=200, c=300)\n"
   ]
  },
  {
   "cell_type": "code",
   "execution_count": null,
   "metadata": {},
   "outputs": [],
   "source": [
    "#不定量參數寫法\n",
    "\n",
    "def test(value, *arguments, **keywords):\n",
    "    print(value)\n",
    "    \n",
    "    for arg in arguments:\n",
    "        print(arg)\n",
    "    \n",
    "    print(\"-\" * 40)\n",
    "    for kw in keywords:\n",
    "        print(kw, \":\", keywords[kw])\n",
    "        \n",
    "\n",
    "test(10, 20, 30, 300, a=100, b=200, c=300, d=500)\n"
   ]
  },
  {
   "cell_type": "code",
   "execution_count": null,
   "metadata": {},
   "outputs": [],
   "source": []
  },
  {
   "cell_type": "markdown",
   "metadata": {},
   "source": [
    "# 動手做 --------------------------------------------------------------------"
   ]
  },
  {
   "cell_type": "markdown",
   "metadata": {},
   "source": [
    "#### 題目: 運用'不定量參數' 將所有資料印出\n",
    "* 輸入三個兒童的名字，分別輸出兒童的相關資訊。\n",
    "\n",
    "* 範例:\n",
    " * def my_function(*kids):\n",
    " * input: John, David, Linus\n",
    " * Output:  \n",
    "   * The youngest child is Linus\n",
    "   * The children include: John David Linus "
   ]
  },
  {
   "cell_type": "markdown",
   "metadata": {},
   "source": [
    "# -------------------------------------------------------------------------end"
   ]
  },
  {
   "cell_type": "code",
   "execution_count": null,
   "metadata": {},
   "outputs": [],
   "source": []
  },
  {
   "cell_type": "markdown",
   "metadata": {},
   "source": [
    "# Arbitrary Argument Lists - sep = \"/\""
   ]
  },
  {
   "cell_type": "code",
   "execution_count": null,
   "metadata": {},
   "outputs": [],
   "source": [
    "def concat(*args, sep=\"/\"):\n",
    "    return sep.join(args)\n",
    "\n",
    "str1 = concat(\"earth\", \"mars\", \"venus\", 'earth/mars/venus')\n",
    "print(str1)\n",
    "\n",
    "str1 = concat(\"earth\", \"mars\", \"venus\", sep=\".\")\n",
    "print(str1)"
   ]
  },
  {
   "cell_type": "code",
   "execution_count": null,
   "metadata": {},
   "outputs": [],
   "source": [
    "str = '-'\n",
    "seq = ['a', 'b', 'c']\n",
    "v = str.join(seq)\n",
    "print(v)\n",
    "\n",
    "print('-------------------------')\n",
    "\n",
    "s = \",\".join(['1', '2', '3', '4', '5'])\n",
    "print(s)\n",
    "print(type(s))\n",
    "\n",
    "print('-------------------------')\n",
    "\n",
    "t = s.split(',')\n",
    "print(t)\n",
    "print(type(t))"
   ]
  },
  {
   "cell_type": "code",
   "execution_count": null,
   "metadata": {},
   "outputs": [],
   "source": []
  },
  {
   "cell_type": "markdown",
   "metadata": {},
   "source": [
    "# 動手做 --------------------------------------------------------------------"
   ]
  },
  {
   "cell_type": "markdown",
   "metadata": {},
   "source": [
    "#### 題目: 填入正確內容，產出以下結果\n",
    "\n",
    "* 範例:\n",
    " * output: earth-->mars-->venus"
   ]
  },
  {
   "cell_type": "code",
   "execution_count": null,
   "metadata": {},
   "outputs": [],
   "source": [
    "def connection():\n",
    "    return  \n",
    "\n",
    "str1 = connection(\"earth\", \"mars\", \"venus\")\n",
    "print(str1)"
   ]
  },
  {
   "cell_type": "markdown",
   "metadata": {},
   "source": [
    "# -------------------------------------------------------------------------end"
   ]
  },
  {
   "cell_type": "code",
   "execution_count": null,
   "metadata": {},
   "outputs": [],
   "source": []
  },
  {
   "cell_type": "code",
   "execution_count": null,
   "metadata": {},
   "outputs": [],
   "source": []
  },
  {
   "cell_type": "markdown",
   "metadata": {},
   "source": [
    "# Unpacking Argument Lists"
   ]
  },
  {
   "cell_type": "code",
   "execution_count": null,
   "metadata": {},
   "outputs": [],
   "source": [
    "args = [3, 6]\n",
    "\n",
    "print(*args)\n",
    "\n",
    "print(list(range(*args)))   # as range(3, 6)  ; call with arguments unpacked from a list\n"
   ]
  },
  {
   "cell_type": "code",
   "execution_count": null,
   "metadata": {},
   "outputs": [],
   "source": [
    "\n",
    "def test(**keywords):\n",
    "    for kw in keywords:\n",
    "        print(kw, keywords[kw])\n",
    "\n",
    "test(a=100, b=200, c=300)"
   ]
  },
  {
   "cell_type": "code",
   "execution_count": null,
   "metadata": {},
   "outputs": [],
   "source": [
    "\n",
    "def test(**keywords):\n",
    "    for kw in keywords:\n",
    "        print(kw, \":\", keywords[kw])\n",
    "\n",
    "test(a=100, b=200, c=300)\n",
    "\n",
    "print('-------------------------')\n",
    "\n",
    "dict1={\"a\":100, \"b\":200, \"c\":300}\n",
    "test(**dict1)"
   ]
  },
  {
   "cell_type": "code",
   "execution_count": null,
   "metadata": {},
   "outputs": [],
   "source": []
  },
  {
   "cell_type": "code",
   "execution_count": null,
   "metadata": {},
   "outputs": [],
   "source": []
  },
  {
   "cell_type": "markdown",
   "metadata": {},
   "source": [
    "# Name Scope - LEGB Rule"
   ]
  },
  {
   "cell_type": "code",
   "execution_count": null,
   "metadata": {},
   "outputs": [],
   "source": [
    "#LEGB Rule\n",
    "x = 10  \n",
    "\n",
    "def outer():\n",
    "    #global x\n",
    "    x = 100\n",
    "    print(\"x =\", x) \n",
    "    \n",
    "outer()\n",
    "print(\"x =\", x)       "
   ]
  },
  {
   "cell_type": "code",
   "execution_count": null,
   "metadata": {},
   "outputs": [],
   "source": [
    "#LEGB Rule\n",
    "x = 10  \n",
    "\n",
    "def outer():\n",
    "    global x\n",
    "    x = 100\n",
    "    print(\"x =\", x) \n",
    "    \n",
    "outer()\n",
    "print(\"x =\", x)       "
   ]
  },
  {
   "cell_type": "code",
   "execution_count": null,
   "metadata": {},
   "outputs": [],
   "source": [
    "#LEGB Rule\n",
    "x = 10  \n",
    "y = 50\n",
    "\n",
    "def outer():\n",
    "    x = 100\n",
    "    y = 20        # 在 outer() 函式範圍\n",
    "    \n",
    "    def inner():\n",
    "        z = 30    # 在 inner() 函式範圍\n",
    "        \n",
    "        #nonlocal x\n",
    "        global x\n",
    "        x=40\n",
    "        print(\"x =\", x)  # 內建範圍 print，全域的 x\n",
    "        print(\"y =\", y)  # 內建範圍 print，外包 outer() 函式的 y\n",
    "        \n",
    "    inner()\n",
    "    print(\"x =\", x)   # 在 outer() 函式範圍，local first (LEGB rule)\n",
    "\n",
    "outer()\n",
    "print(\"x =\", x)       "
   ]
  },
  {
   "cell_type": "code",
   "execution_count": null,
   "metadata": {},
   "outputs": [],
   "source": [
    "#list is mutable, call by reference\n",
    "\n",
    "def outer(): \n",
    "    def inner(): \n",
    "        #nonlocal b\n",
    "        b.append(100) \n",
    "        print(\"inner b =\", b) \n",
    "\n",
    "    b.append(1) \n",
    "    inner() \n",
    "    print(\"outer b =\", b) \n",
    "\n",
    "b=[]\n",
    "\n",
    "print(\"global mylist =\", b) \n",
    "outer() \n",
    "print(\"global mylist =\", b)"
   ]
  },
  {
   "cell_type": "markdown",
   "metadata": {},
   "source": [
    "# Name Scope - UnboundleLocalError"
   ]
  },
  {
   "cell_type": "code",
   "execution_count": null,
   "metadata": {},
   "outputs": [],
   "source": [
    "\n",
    "x = 10\n",
    "\n",
    "def myfun():\n",
    "    print(x) \n",
    "      \n",
    "print(x)\n",
    "myfun()\n",
    "print(x)\n"
   ]
  },
  {
   "cell_type": "code",
   "execution_count": null,
   "metadata": {},
   "outputs": [],
   "source": [
    "\n",
    "x = 10\n",
    "\n",
    "def myfun():\n",
    "    x=20\n",
    "    print(x) \n",
    "      \n",
    "print(x)\n",
    "myfun()\n",
    "print(x)\n"
   ]
  },
  {
   "cell_type": "code",
   "execution_count": null,
   "metadata": {},
   "outputs": [],
   "source": [
    "#global \n",
    "\n",
    "x = 10\n",
    "\n",
    "def myfun():\n",
    "    global x\n",
    "    x=20\n",
    "    print(x) \n",
    "      \n",
    "print(x)\n",
    "myfun()\n",
    "print(x)\n"
   ]
  },
  {
   "cell_type": "code",
   "execution_count": null,
   "metadata": {},
   "outputs": [],
   "source": [
    "#UnboundLocalError\n",
    "\n",
    "x = 10\n",
    "\n",
    "def myfun():\n",
    "    #global x    #without global x, local variable 'x' referenced before assignment\n",
    "    print(x) \n",
    "    x=20\n",
    "    \n",
    "      \n",
    "print(x)\n",
    "myfun()\n",
    "print(x)\n"
   ]
  },
  {
   "cell_type": "markdown",
   "metadata": {},
   "source": [
    "# # Name Scope - UnboundleLocalError - “access” non-local variable"
   ]
  },
  {
   "cell_type": "code",
   "execution_count": null,
   "metadata": {},
   "outputs": [],
   "source": [
    "#You can “access” non-local variable without specifically declare it, but you have to declare it to change it.\n",
    "\n",
    "a=5\n",
    "b=300\n",
    "\n",
    "def myfun():\n",
    "    global b\n",
    "    a = 10\n",
    "    b = 400\n",
    "    print(\"a =\", a)\n",
    "    print(\"b =\", b)\n",
    "    \n",
    "print(\"a =\", a)\n",
    "print(\"b =\", b)\n",
    "print('----- myfun -----')\n",
    "\n",
    "myfun()\n",
    "print('----- after -----')\n",
    "\n",
    "print(\"a =\", a)\n",
    "print(\"b =\", b)"
   ]
  },
  {
   "cell_type": "code",
   "execution_count": null,
   "metadata": {},
   "outputs": [],
   "source": []
  },
  {
   "cell_type": "markdown",
   "metadata": {},
   "source": [
    "# Enclosing Functions"
   ]
  },
  {
   "cell_type": "code",
   "execution_count": null,
   "metadata": {},
   "outputs": [],
   "source": [
    "i=1\n",
    "def l1():\n",
    "    i=2\n",
    "    \n",
    "    def l2():\n",
    "        print(i)\n",
    "    \n",
    "    l2()\n",
    "l1()\n"
   ]
  },
  {
   "cell_type": "markdown",
   "metadata": {},
   "source": [
    "# nonlocal :在函數或其他作用域中使用外層(非全域)變數\n"
   ]
  },
  {
   "cell_type": "code",
   "execution_count": null,
   "metadata": {},
   "outputs": [],
   "source": [
    "def outer(a): \n",
    "    def inner(): \n",
    "        nonlocal a   # 只改變外層一層的結果\n",
    "        a += 100 \n",
    "        print(\"inner a =\", a) \n",
    " \n",
    "    a += 1 \n",
    "    inner() \n",
    "    print(\"outer a =\", a) # 沿用內層的結果\n",
    "\n",
    "a=10 \n",
    "print(\"global a =\", a) \n",
    "outer(a) \n",
    "print(\"global a =\", a)"
   ]
  },
  {
   "cell_type": "code",
   "execution_count": null,
   "metadata": {},
   "outputs": [],
   "source": [
    "def outer(a): \n",
    "    def inner(): \n",
    "        global a\n",
    "        a += 100 \n",
    "        print(\"inner a =\", a) \n",
    " \n",
    "    a += 1 \n",
    "    inner() \n",
    "    print(\"outer a =\", a) \n",
    "\n",
    "a=10 \n",
    "print(\"global a =\", a) \n",
    "outer(a) \n",
    "print(\"global a =\", a)"
   ]
  },
  {
   "cell_type": "code",
   "execution_count": null,
   "metadata": {},
   "outputs": [],
   "source": []
  },
  {
   "cell_type": "markdown",
   "metadata": {},
   "source": [
    "# Lamda and Closure"
   ]
  },
  {
   "cell_type": "code",
   "execution_count": null,
   "metadata": {},
   "outputs": [],
   "source": [
    "square = lambda x: x**2\n",
    "print(square(10))\n"
   ]
  },
  {
   "cell_type": "code",
   "execution_count": null,
   "metadata": {},
   "outputs": [],
   "source": [
    "#lamda function\n",
    "#Python提供了一個簡易的function define：lambda，用完即丟，不著痕跡。讓你實作出很簡單的function(只處理一個運算)\n",
    "\n",
    "def func(x, y, z):\n",
    "    return x + y + z\n",
    "\n",
    "print(func(1,2,3))\n",
    "\n",
    "print('------------------------')\n",
    "\n",
    "\n",
    "func2 = lambda x,y,z : x+y+z\n",
    "\n",
    "print(func2(1,2,3))\n",
    "\n"
   ]
  },
  {
   "cell_type": "code",
   "execution_count": null,
   "metadata": {},
   "outputs": [],
   "source": [
    "def make_incrementor(n):\n",
    "    return lambda x: x + n\n",
    "\n",
    "f = make_incrementor(50)  # passing to n\n",
    "print(f(10)) # passing to x\n",
    "print(f(20))\n"
   ]
  },
  {
   "cell_type": "markdown",
   "metadata": {},
   "source": [
    "# Lamda & map function"
   ]
  },
  {
   "cell_type": "code",
   "execution_count": null,
   "metadata": {},
   "outputs": [],
   "source": [
    "#map function\n",
    "#lamda 也可以應用在map上\n",
    "\n",
    "my_list = [1, 2, 3]\n",
    "\n",
    "ans = list(map( lambda i: i * i, my_list ))  #須要轉成list, 才能卬出\n",
    "\n",
    "print(ans)   #[1, 4, 9]"
   ]
  },
  {
   "cell_type": "code",
   "execution_count": null,
   "metadata": {},
   "outputs": [],
   "source": [
    "\n",
    "a = [1, 2, 3, 4]\n",
    "b = [17, 12]\n",
    "c = [-1, -4, 5, 9]\n",
    "\n",
    "print(list(map(lambda x,y: x, a,b)))\n",
    "\n",
    "#lamda 須要2個數兩個參數\n",
    "print(list(map(lambda x,y: x+y, a,b)))    #[18, 14, 14, 14] ; 5 is ignored\n",
    "\n",
    "\n",
    "#lamda 須要3個數兩個參數\n",
    "print(list(map(lambda x,y,z: x+y+z, a,b,c)))   #[17, 10, 19, 23]\n"
   ]
  },
  {
   "cell_type": "markdown",
   "metadata": {},
   "source": [
    "# Generator and yield"
   ]
  },
  {
   "cell_type": "code",
   "execution_count": null,
   "metadata": {},
   "outputs": [],
   "source": [
    "def yrange(n):\n",
    "    i = 0\n",
    "    while i < n:\n",
    "        x = yield i   # 用yield來產生值，yield像是return會傳回值\n",
    "        i += 1\n",
    "\n",
    "b = yrange(10)\n",
    "print(type(b))"
   ]
  },
  {
   "cell_type": "code",
   "execution_count": null,
   "metadata": {},
   "outputs": [],
   "source": [
    "def yrange(n):\n",
    "    i = 0\n",
    "    while i < n:\n",
    "        x = yield i   # 用yield來產生值，yield像是return會傳回值\n",
    "        i += 1\n",
    "    \n",
    "for i in yrange(10):\n",
    "    print(i, end='')"
   ]
  },
  {
   "cell_type": "code",
   "execution_count": null,
   "metadata": {},
   "outputs": [],
   "source": [
    "def yrange(n):\n",
    "    x = 0\n",
    "    while x < n:\n",
    "        yield x\n",
    "        x += 1\n",
    "    \n",
    "for i in yrange(10):\n",
    "    print(i, end='')"
   ]
  },
  {
   "cell_type": "markdown",
   "metadata": {},
   "source": [
    "# Generator and yield - example"
   ]
  },
  {
   "cell_type": "code",
   "execution_count": null,
   "metadata": {},
   "outputs": [],
   "source": [
    "def foo():\n",
    "    bar = yield 1\n",
    "    bar = yield 2\n",
    "    bar = yield 3\n",
    "\n",
    "f = foo()\n",
    "next(f)"
   ]
  },
  {
   "cell_type": "code",
   "execution_count": null,
   "metadata": {},
   "outputs": [],
   "source": [
    "def foo():\n",
    "    bar = yield 1\n",
    "    bar = yield 2\n",
    "    bar = yield 3\n",
    "\n",
    "f = foo()\n",
    "next(f)\n",
    "next(f)"
   ]
  },
  {
   "cell_type": "code",
   "execution_count": null,
   "metadata": {},
   "outputs": [],
   "source": []
  },
  {
   "cell_type": "markdown",
   "metadata": {},
   "source": [
    "# Generator and yield - p2"
   ]
  },
  {
   "cell_type": "code",
   "execution_count": null,
   "metadata": {},
   "outputs": [],
   "source": [
    "def yrange(n):\n",
    "    i = 0\n",
    "    while i < n:\n",
    "        x = yield i   # 用yield來產生值，yield像是return會傳回值\n",
    "        i += 1\n",
    "\n",
    "gen = yrange(10)\n",
    "\n",
    "for i in gen:\n",
    "    print(i, end='')"
   ]
  },
  {
   "cell_type": "code",
   "execution_count": null,
   "metadata": {},
   "outputs": [],
   "source": [
    "def yrange(n):\n",
    "    i = 0\n",
    "    while i < n:\n",
    "        x = yield i   # 用yield來產生值，yield像是return會傳回值\n",
    "        i += 1\n",
    "\n",
    "gen = yrange(10)\n",
    "\n",
    "print(next(gen))\n",
    "print(next(gen))"
   ]
  },
  {
   "cell_type": "code",
   "execution_count": null,
   "metadata": {},
   "outputs": [],
   "source": [
    "def yrange(n):\n",
    "    i = 0\n",
    "    while i < n:\n",
    "        x = yield i   # 用yield來產生值，yield像是return會傳回值\n",
    "        i += 1\n",
    "\n",
    "gen = yrange(10)\n",
    "\n",
    "next(gen)\n"
   ]
  },
  {
   "cell_type": "code",
   "execution_count": null,
   "metadata": {},
   "outputs": [],
   "source": [
    "def yrange(n):\n",
    "    i = 0\n",
    "    while i < n:\n",
    "        x = yield i   # 用yield來產生值，yield像是return會傳回值\n",
    "        i += 1\n",
    "\n",
    "gen = yrange(10)\n",
    "\n",
    "next(gen)\n",
    "\n",
    "gen.send(0)  # 要先有next(gen)產出"
   ]
  },
  {
   "cell_type": "code",
   "execution_count": null,
   "metadata": {},
   "outputs": [],
   "source": [
    "def foo():\n",
    "    bar_a = yield 1\n",
    "    bar_b = yield bar_a\n",
    "    yield \"old car\"\n",
    "\n",
    "f = foo()\n",
    "\n",
    "print(f.send(None))\n",
    "print(f.send(\"new car\"))\n",
    "print(next(f))"
   ]
  },
  {
   "cell_type": "markdown",
   "metadata": {},
   "source": [
    "# Decorator"
   ]
  },
  {
   "cell_type": "code",
   "execution_count": null,
   "metadata": {},
   "outputs": [],
   "source": [
    "def hi(name=\"yasoob\"):\n",
    "    print(\"hi() function\")\n",
    " \n",
    "    def greet():\n",
    "        return \"greet() function\"\n",
    " \n",
    "    def welcome():\n",
    "        return \"welcome() function\"\n",
    " \n",
    "    print(greet())\n",
    "    print(welcome())\n",
    "    print(\"back in the hi() function\")\n",
    " \n",
    "hi()\n",
    " \n",
    "greet()\n",
    "#outputs: NameError: name 'greet' is not defined"
   ]
  },
  {
   "cell_type": "code",
   "execution_count": null,
   "metadata": {},
   "outputs": [],
   "source": [
    "def hi(name=\"yasoob\"):\n",
    "    def greet():\n",
    "        return \"greet() function\"\n",
    " \n",
    "    def welcome():\n",
    "        return \"welcome() function\"\n",
    " \n",
    "    if name == \"yasoob\":\n",
    "        return greet\n",
    "    else:\n",
    "        return welcome\n",
    " \n",
    "a = hi()\n",
    "\n",
    "b = a()\n",
    "\n",
    "print(b)\n",
    "print(a())\n",
    "#outputs: greet() function"
   ]
  },
  {
   "cell_type": "code",
   "execution_count": null,
   "metadata": {},
   "outputs": [],
   "source": []
  },
  {
   "cell_type": "markdown",
   "metadata": {},
   "source": [
    "# 動手做 --------------------------------------------------------------------"
   ]
  },
  {
   "cell_type": "markdown",
   "metadata": {},
   "source": [
    "#### 題目: 計算點（x1，y1）和（x2，y2）之間的距離。\n",
    "* 給定四個表示笛卡爾坐標的實數：（x1，y1），（x2，y2）。編寫一個函數distance（x1，y1，x2，y2）以計算點（x1，y1）和（x2，y2）之間的距離。讀取四個實數並打印該函數計算出的結果距離。\n",
    "* 兩點之間的距離的公式可以在Wolfram中找到。\n",
    "\n",
    "* 範例:\n",
    " * input: \n",
    "   * 0\n",
    "   * 0\n",
    "   * 1\n",
    "   * 1\n",
    " * output: 1.4142135623730951"
   ]
  },
  {
   "cell_type": "markdown",
   "metadata": {},
   "source": [
    "# -------------------------------------------------------------------------end"
   ]
  },
  {
   "cell_type": "code",
   "execution_count": null,
   "metadata": {},
   "outputs": [],
   "source": []
  },
  {
   "cell_type": "code",
   "execution_count": null,
   "metadata": {},
   "outputs": [],
   "source": []
  },
  {
   "cell_type": "markdown",
   "metadata": {},
   "source": [
    "# 動手做 --------------------------------------------------------------------"
   ]
  },
  {
   "cell_type": "markdown",
   "metadata": {},
   "source": [
    "#### 題目: a的 n次方\n",
    "* 給定正實數a和整數n。計算一個編寫函數power（a，n）以使用該函數計算結果並打印表達式的結果。\n",
    "\n",
    "* 範例:\n",
    " * input: \n",
    "   * 2\n",
    "   * -3\n",
    " * output: 0.125"
   ]
  },
  {
   "cell_type": "markdown",
   "metadata": {},
   "source": [
    "# -------------------------------------------------------------------------end"
   ]
  },
  {
   "cell_type": "code",
   "execution_count": null,
   "metadata": {},
   "outputs": [],
   "source": []
  },
  {
   "cell_type": "code",
   "execution_count": null,
   "metadata": {},
   "outputs": [],
   "source": []
  },
  {
   "cell_type": "markdown",
   "metadata": {},
   "source": [
    "# 動手做 --------------------------------------------------------------------"
   ]
  },
  {
   "cell_type": "markdown",
   "metadata": {},
   "source": [
    "#### 題目: 相反的順序列印\n",
    "* 給定一個以0結尾的整數序列。以相反的順序打印序列。不要使用列表或其他數據結構。請改用遞迴。\n",
    "\n",
    "* 範例:\n",
    " * input: \n",
    "    * 1\n",
    "    * 2\n",
    "    * 3\n",
    "    * 0\n",
    " * output: \n",
    "    * 0\n",
    "    * 3\n",
    "    * 2\n",
    "    * 1"
   ]
  },
  {
   "cell_type": "markdown",
   "metadata": {},
   "source": [
    "# -------------------------------------------------------------------------end"
   ]
  }
 ],
 "metadata": {
  "kernelspec": {
   "display_name": "Python 3",
   "language": "python",
   "name": "python3"
  },
  "language_info": {
   "codemirror_mode": {
    "name": "ipython",
    "version": 3
   },
   "file_extension": ".py",
   "mimetype": "text/x-python",
   "name": "python",
   "nbconvert_exporter": "python",
   "pygments_lexer": "ipython3",
   "version": "3.8.3"
  }
 },
 "nbformat": 4,
 "nbformat_minor": 2
}
