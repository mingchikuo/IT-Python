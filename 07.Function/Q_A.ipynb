{
 "cells": [
  {
   "cell_type": "markdown",
   "metadata": {},
   "source": [
    "# dict "
   ]
  },
  {
   "cell_type": "code",
   "execution_count": 24,
   "metadata": {},
   "outputs": [
    {
     "name": "stdout",
     "output_type": "stream",
     "text": [
      "A1023 CRT\n",
      "A1029 Regulator\n",
      "A1030 Therm\n",
      "{'A1023': 'CRT', 'A1029': 'Regulator', 'A1030': 'Therm'}\n",
      "<class 'dict'>\n"
     ]
    }
   ],
   "source": [
    "data = {}\n",
    "n = 3\n",
    "data = dict(input().split() for x in range(n))\n",
    "print(data)\n",
    "print(type(data))"
   ]
  },
  {
   "cell_type": "markdown",
   "metadata": {},
   "source": [
    "* Input data:\n",
    " * A1023 CRT\n",
    " * A1029 Regulator\n",
    " * A1030 Therm"
   ]
  },
  {
   "cell_type": "code",
   "execution_count": null,
   "metadata": {},
   "outputs": [],
   "source": []
  }
 ],
 "metadata": {
  "kernelspec": {
   "display_name": "Python 3",
   "language": "python",
   "name": "python3"
  },
  "language_info": {
   "codemirror_mode": {
    "name": "ipython",
    "version": 3
   },
   "file_extension": ".py",
   "mimetype": "text/x-python",
   "name": "python",
   "nbconvert_exporter": "python",
   "pygments_lexer": "ipython3",
   "version": "3.8.3"
  }
 },
 "nbformat": 4,
 "nbformat_minor": 4
}
