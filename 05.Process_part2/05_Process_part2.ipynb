{
 "cells": [
  {
   "cell_type": "markdown",
   "metadata": {},
   "source": [
    "### if statement"
   ]
  },
  {
   "cell_type": "code",
   "execution_count": null,
   "metadata": {},
   "outputs": [],
   "source": [
    "a = 200\n",
    "b = 33\n",
    "if b > a:\n",
    "  print(\"b > a\")\n",
    "elif a == b:\n",
    "  print(\"a == b\")\n",
    "else:\n",
    "  print(\"a > b\")"
   ]
  },
  {
   "cell_type": "markdown",
   "metadata": {},
   "source": [
    "### for Statements"
   ]
  },
  {
   "cell_type": "code",
   "execution_count": null,
   "metadata": {},
   "outputs": [],
   "source": [
    "y = [1, 2, 5, 3, 4]\n",
    "\n",
    "for i in y:\n",
    "    if i % 2 == 0:    #print偶數\n",
    "        print(i)"
   ]
  },
  {
   "cell_type": "code",
   "execution_count": null,
   "metadata": {},
   "outputs": [],
   "source": [
    "fruits = [\"apple\", \"banana\", \"cherry\"]\n",
    "\n",
    "for x in fruits:\n",
    "  print(x, len(x))"
   ]
  },
  {
   "cell_type": "markdown",
   "metadata": {},
   "source": [
    "## Control Statement: break, continue, pass"
   ]
  },
  {
   "cell_type": "code",
   "execution_count": null,
   "metadata": {},
   "outputs": [],
   "source": [
    "fruits = [\"apple\", \"banana\", \"cherry\"]\n",
    "for x in fruits:\n",
    "  if x == \"banana\":\n",
    "    break\n",
    "  print(x)"
   ]
  },
  {
   "cell_type": "code",
   "execution_count": null,
   "metadata": {},
   "outputs": [],
   "source": [
    "a = 0\n",
    "for i in range(5):\n",
    "    if i % 2 == 0:\n",
    "        break\n",
    "    a = a + i\n",
    "print(a)"
   ]
  },
  {
   "cell_type": "code",
   "execution_count": null,
   "metadata": {},
   "outputs": [],
   "source": [
    "a = 0\n",
    "for i in range(5):\n",
    "    if i % 2 == 0:\n",
    "        continue\n",
    "    a = a + i\n",
    "print(a)"
   ]
  },
  {
   "cell_type": "markdown",
   "metadata": {},
   "source": [
    "## While Statements"
   ]
  },
  {
   "cell_type": "code",
   "execution_count": null,
   "metadata": {},
   "outputs": [],
   "source": [
    "n=5;\n",
    "i=0;\n",
    "while i<n:\n",
    "    print(i)\n",
    "    if (i==3):\n",
    "        print(\"i=\",i)\n",
    "        break\n",
    "    i+=1\n",
    "else:\n",
    "    print('ok')"
   ]
  },
  {
   "cell_type": "markdown",
   "metadata": {},
   "source": [
    "# 要注意"
   ]
  },
  {
   "cell_type": "code",
   "execution_count": null,
   "metadata": {},
   "outputs": [],
   "source": [
    "n=5;\n",
    "i=0;\n",
    "while i<n:\n",
    "    print(i)\n",
    "    if (i==3):\n",
    "        print(\"i=\",i)\n",
    "        continue\n",
    "    i+=1\n",
    "else:\n",
    "    print('ok')"
   ]
  },
  {
   "cell_type": "code",
   "execution_count": null,
   "metadata": {},
   "outputs": [],
   "source": [
    "b = [int(s) for s in input().split()]\n",
    "print(b)\n",
    "\n",
    "for i in range(len(b)):\n",
    "    for j in range(len(b)):\n",
    "        if a[i] == a[j+1]:\n",
    "            break\n",
    "    else:\n",
    "        print(a[i])"
   ]
  },
  {
   "cell_type": "code",
   "execution_count": null,
   "metadata": {},
   "outputs": [],
   "source": [
    "a = [int(s) for s in input().split()]\n",
    "for i in range(len(a)):\n",
    "    for j in range(len(a)):\n",
    "        if i != j and a[i] == a[j]:\n",
    "            break\n",
    "    else:\n",
    "        print(a[i], end=' ')\n",
    "        \n",
    "#輸入 1 2 2 3 3 3 5"
   ]
  },
  {
   "cell_type": "markdown",
   "metadata": {},
   "source": [
    "# 動手做"
   ]
  },
  {
   "cell_type": "markdown",
   "metadata": {},
   "source": [
    "#### 題目: 數字三角形\n",
    "* 輸入1~9其中一個數字，輸出以下的三角形\n",
    "* 範例:\n",
    " * input: 9\n",
    " * output: "
   ]
  },
  {
   "cell_type": "code",
   "execution_count": 1,
   "metadata": {},
   "outputs": [
    {
     "name": "stdout",
     "output_type": "stream",
     "text": [
      "        1 \n",
      "       2 2 \n",
      "      3 3 3 \n",
      "     4 4 4 4 \n",
      "    5 5 5 5 5 \n",
      "   6 6 6 6 6 6 \n",
      "  7 7 7 7 7 7 7 \n",
      " 8 8 8 8 8 8 8 8 \n",
      "9 9 9 9 9 9 9 9 9 \n"
     ]
    }
   ],
   "source": [
    "for i in range(1, 10):\n",
    "    for j in range(9, i, -1):\n",
    "        print(' ', end='')\n",
    "        \n",
    "    for k in range(1, i+1):\n",
    "        print(i, end=' ')\n",
    "    print()"
   ]
  },
  {
   "cell_type": "code",
   "execution_count": 21,
   "metadata": {},
   "outputs": [
    {
     "name": "stdout",
     "output_type": "stream",
     "text": [
      "請輸入1到9的整數8\n",
      "         1 \n",
      "        2 2 \n",
      "       3 3 3 \n",
      "      4 4 4 4 \n",
      "     5 5 5 5 5 \n",
      "    6 6 6 6 6 6 \n",
      "   7 7 7 7 7 7 7 \n",
      "  8 8 8 8 8 8 8 8 \n"
     ]
    }
   ],
   "source": [
    "n = int(input(\"請輸入1到9的整數\"))\n",
    "for i in range(n):\n",
    "    for k in range(9-i):\n",
    "        print(\" \", end=\"\")\n",
    "    for j in range(i+1):\n",
    "        print(i+1, end=\" \")\n",
    "    print(\"\")\n",
    "        "
   ]
  },
  {
   "cell_type": "code",
   "execution_count": null,
   "metadata": {},
   "outputs": [],
   "source": []
  },
  {
   "cell_type": "code",
   "execution_count": null,
   "metadata": {},
   "outputs": [],
   "source": []
  }
 ],
 "metadata": {
  "celltoolbar": "Raw Cell Format",
  "kernelspec": {
   "display_name": "Python 3",
   "language": "python",
   "name": "python3"
  },
  "language_info": {
   "codemirror_mode": {
    "name": "ipython",
    "version": 3
   },
   "file_extension": ".py",
   "mimetype": "text/x-python",
   "name": "python",
   "nbconvert_exporter": "python",
   "pygments_lexer": "ipython3",
   "version": "3.7.9"
  }
 },
 "nbformat": 4,
 "nbformat_minor": 2
}
