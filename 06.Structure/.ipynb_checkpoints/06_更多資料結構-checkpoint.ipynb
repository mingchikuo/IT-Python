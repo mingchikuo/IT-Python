{
 "cells": [
  {
   "cell_type": "markdown",
   "metadata": {},
   "source": [
    "## More on Data Structure: list comprehesion"
   ]
  },
  {
   "cell_type": "code",
   "execution_count": null,
   "metadata": {},
   "outputs": [],
   "source": [
    "combs=[(x, y) for x in [1,2,3] for y in [3,1,4] if x != y]\n",
    "print(combs)\n",
    "\n",
    "combs = []\n",
    "for x in [1,2,3]:\n",
    "     for y in [3,1,4]:\n",
    "        if x != y:\n",
    "            combs.append((x, y))\n",
    "            \n",
    "print(combs)"
   ]
  },
  {
   "cell_type": "code",
   "execution_count": null,
   "metadata": {},
   "outputs": [],
   "source": [
    "vec = [[1,2,3], [4,5,6], [7,8,9]]\n",
    "y=[num for elem in vec for num in elem]\n",
    "\n",
    "print(y)\n",
    "\n",
    "combs = []\n",
    "for elem in vec:\n",
    "    for num in elem:\n",
    "        combs.append(num) \n",
    "\n",
    "print(combs)"
   ]
  },
  {
   "cell_type": "code",
   "execution_count": null,
   "metadata": {},
   "outputs": [],
   "source": [
    "matrix = [\n",
    "    [1, 2, 3, 4],\n",
    "    [5, 6, 7, 8],\n",
    "    [9, 10, 11, 12],\n",
    "    ]\n",
    "\n",
    "print(matrix)\n",
    "\n",
    "\n",
    "i=0\n",
    "y=[[row[i] for row in matrix] for i in range(4)]\n",
    "print(y)\n",
    "\n",
    "\n",
    "print(*matrix) #脫離list\n",
    "a=list(zip(*matrix)) #zip: 上下併並存在tuple\n",
    "\n",
    "print(a)"
   ]
  },
  {
   "cell_type": "code",
   "execution_count": null,
   "metadata": {},
   "outputs": [],
   "source": [
    "a=(1,2)\n",
    "print(a)\n",
    "a=list(a)\n",
    "print(a)"
   ]
  },
  {
   "cell_type": "code",
   "execution_count": null,
   "metadata": {},
   "outputs": [],
   "source": [
    "transposed = []\n",
    "for i in range(4):\n",
    "    transposed.append([row[i] for row in matrix])\n",
    "\n",
    "\n",
    "print(transposed)"
   ]
  },
  {
   "cell_type": "code",
   "execution_count": null,
   "metadata": {},
   "outputs": [],
   "source": [
    "\n",
    "y=[x for x in [A,B]]\n",
    "print(y)    # y==> [[1, 2, 3], [4, 5, 6]]\n",
    "\n",
    "z=[ row[col] for row in y for col in range(len(y[0])) ]\n",
    "print(z)    #[1, 2, 3, 4, 5, 6]\n",
    "\n",
    "z=[ row[col] for col in range(len(y[0])) for row in y  ]\n",
    "print(z)    #[1, 4, 2, 5, 3, 6]\n",
    "\n",
    "z=[ [row[col] for col in range(len(y[0]))] for row in y  ]\n",
    "print(z)   #[[1, 2, 3], [4, 5, 6]]\n",
    "\n",
    "\n",
    "z=[ [row[col] for row in y] for col in range(len(y[0])) ]\n",
    "print(z)    #[[1, 4], [2, 5], [3, 6]]"
   ]
  },
  {
   "cell_type": "markdown",
   "metadata": {},
   "source": [
    "## Dict Example\n"
   ]
  },
  {
   "cell_type": "code",
   "execution_count": null,
   "metadata": {},
   "outputs": [],
   "source": [
    "#dict\n",
    "pollution={'AMB_TEMP':1,'CH4':0,'CO':0,'NMHC':0,'NO':0,'NO2':0,'NOx':0,'O3':0,'PM10':0,'PM2.5':0,'RAINFALL':0,\n",
    "               'RH':0,'SO2':0,'THC':0,'WD_HR':0,'WIND_DIREC':0,'WIND_SPEED':0,'WS_HR':1}\n",
    "\n",
    "print(pollution)\n",
    "for k, v in pollution.items():   # denotes (key,value)\n",
    "    print(k,\"-->\",v)\n",
    "\n",
    "# dict comprehension\n",
    "\n",
    "k={x: x**2 for x in [1,2,3]}  # {1: 1, 2: 4, 3: 9}\n",
    "\n",
    "print(k) \n",
    "\n",
    "k=dict(sape=4139, guido=4127, jack=4098)\n",
    "print(k) \n"
   ]
  },
  {
   "cell_type": "code",
   "execution_count": null,
   "metadata": {},
   "outputs": [],
   "source": [
    "\n",
    "\n",
    "mydict={'A':100,'B':1,'C':1}\n",
    "print(mydict)  #{'C': 1, 'B': 1, 'A': 0}\n",
    "\n",
    "\n",
    "\n",
    "# keys(). values()\n",
    "print(list(mydict.keys()))\n",
    "print(list(mydict.values()))\n",
    "\n",
    "# 'in' operator\n",
    "print('D' in mydict)\n",
    "\n",
    "if ('A' in mydict):\n",
    "    print(\"yes\",mydict[\"A\"])\n",
    "else:\n",
    "    print(\"no\")\n",
    "    \n",
    "    \n",
    "print('A' in mydict)\n",
    "\n",
    "for i, k in enumerate(mydict):  # denotes (index,key)\n",
    "    print(k)\n",
    "    \n",
    "\n",
    "for k, v in mydict.items():   # denotes (key,value)\n",
    "    print(k, v)\n",
    "\n",
    "\n"
   ]
  },
  {
   "cell_type": "code",
   "execution_count": null,
   "metadata": {
    "scrolled": true
   },
   "outputs": [],
   "source": [
    "# sort the dict by key\n",
    "\n",
    "from collections import OrderedDict\n",
    "a={'D':100,'A':0,'B':1,'C':1}\n",
    "print(a)\n",
    "\n",
    "b = dict(OrderedDict(sorted(a.items())))\n",
    "print(b)\n"
   ]
  },
  {
   "cell_type": "code",
   "execution_count": null,
   "metadata": {},
   "outputs": [],
   "source": [
    "items_index = range(3)\n",
    "value= [10, 40, 30]\n",
    "\n",
    "item = {}\n",
    "items = []\n",
    "for i in range(len(items_index)):\n",
    "    item = {}\n",
    "    print(value[i])\n",
    "    item['index'+str(i)] = value[i]\n",
    "    items.append(item)   #each element has same id\n",
    "\n",
    "print(items)\n",
    "\n"
   ]
  },
  {
   "cell_type": "code",
   "execution_count": null,
   "metadata": {},
   "outputs": [],
   "source": [
    "#dict comparison\n",
    "mydict={'A':100,'B':1,'C':1}\n",
    "\n",
    "if mydict == {'A':100,'C':1,'B':1}:\n",
    "    print('equal')\n",
    "else: \n",
    "    print('not equal')\n",
    "    \n",
    "#set comparison\n",
    "\n",
    "s1={1,2,3,4,5}\n",
    "s2={1,2,4,5,3}\n",
    "\n",
    "if s1 == s2:\n",
    "    print('equal')\n",
    "else: \n",
    "    print('not equal')\n",
    "\n"
   ]
  },
  {
   "cell_type": "markdown",
   "metadata": {},
   "source": [
    "## OrderedDict"
   ]
  },
  {
   "cell_type": "code",
   "execution_count": null,
   "metadata": {},
   "outputs": [],
   "source": [
    "from collections import OrderedDict\n",
    "\n",
    "items = [\n",
    "    ('A', 1),\n",
    "    ('B', 2),\n",
    "    ('C', 3)\n",
    "]\n",
    "\n",
    "regular_dict = dict(items)\n",
    "ordered_dict = OrderedDict(items)\n",
    "\n",
    "\n",
    "for k, v in regular_dict.items():\n",
    "    print(k, v)\n",
    "\n",
    "print('---------------')\n",
    "\n",
    "for k, v in ordered_dict.items():\n",
    "    print(k, v)\n"
   ]
  },
  {
   "cell_type": "markdown",
   "metadata": {},
   "source": [
    "## Set"
   ]
  },
  {
   "cell_type": "code",
   "execution_count": null,
   "metadata": {},
   "outputs": [],
   "source": [
    "a=set() #empty set\n",
    "a.add('A')\n",
    "a.add('B')\n",
    "print(a)\n",
    "\n",
    "a.remove('B')\n",
    "print(a)\n"
   ]
  },
  {
   "cell_type": "code",
   "execution_count": null,
   "metadata": {
    "scrolled": true
   },
   "outputs": [],
   "source": [
    "\n",
    "a = set('abracadabra')\n",
    "b = set('alacazam')\n",
    "\n",
    "print(a)\n",
    "print(b)\n",
    "\n",
    "print(a - b)                             # letters in a but not in b\n",
    "print(a | b)                             # letters in either a or b\n",
    "print(a & b)                             # letters in both a and b\n",
    "print(a ^ b)                             # letters in a or b but not both\n"
   ]
  },
  {
   "cell_type": "code",
   "execution_count": null,
   "metadata": {},
   "outputs": [],
   "source": [
    "a = {x for x in 'abracadabra' if x not in 'abc'}\n",
    "print(a)"
   ]
  },
  {
   "cell_type": "code",
   "execution_count": null,
   "metadata": {},
   "outputs": [],
   "source": [
    "a = set('abracadabra')\n",
    "for f in sorted(set(a)):\n",
    "    print(f)"
   ]
  },
  {
   "cell_type": "code",
   "execution_count": null,
   "metadata": {},
   "outputs": [],
   "source": []
  }
 ],
 "metadata": {
  "celltoolbar": "Raw Cell Format",
  "kernelspec": {
   "display_name": "Python 3",
   "language": "python",
   "name": "python3"
  },
  "language_info": {
   "codemirror_mode": {
    "name": "ipython",
    "version": 3
   },
   "file_extension": ".py",
   "mimetype": "text/x-python",
   "name": "python",
   "nbconvert_exporter": "python",
   "pygments_lexer": "ipython3",
   "version": "3.8.3"
  }
 },
 "nbformat": 4,
 "nbformat_minor": 2
}
