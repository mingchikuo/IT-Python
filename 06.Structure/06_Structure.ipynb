{
 "cells": [
  {
   "cell_type": "markdown",
   "metadata": {},
   "source": [
    "### Common Operation"
   ]
  },
  {
   "cell_type": "markdown",
   "metadata": {},
   "source": [
    "### add data"
   ]
  },
  {
   "cell_type": "code",
   "execution_count": null,
   "metadata": {},
   "outputs": [],
   "source": [
    "thislist = [\"apple\", \"banana\", \"cherry\"]\n",
    "thislist.append(\"orange\")\n",
    "print(thislist)"
   ]
  },
  {
   "cell_type": "code",
   "execution_count": null,
   "metadata": {},
   "outputs": [],
   "source": [
    "thislist = [\"apple\", \"banana\", \"cherry\"]\n",
    "thislist.insert(1, \"orange\")\n",
    "print(thislist)"
   ]
  },
  {
   "cell_type": "code",
   "execution_count": null,
   "metadata": {},
   "outputs": [],
   "source": [
    "list1 = [\"a\", \"b\" , \"c\"]\n",
    "list2 = [1, 2, 3]\n",
    "\n",
    "list1.extend(list2)\n",
    "print(list1)"
   ]
  },
  {
   "cell_type": "code",
   "execution_count": null,
   "metadata": {},
   "outputs": [],
   "source": [
    "list1 = [\"a\", \"b\" , \"c\"]\n",
    "list2 = [1, 2, 3]\n",
    "\n",
    "for x in list2:\n",
    "  list1.append(x)\n",
    "\n",
    "print(list1)"
   ]
  },
  {
   "cell_type": "markdown",
   "metadata": {},
   "source": [
    "### remove data"
   ]
  },
  {
   "cell_type": "code",
   "execution_count": null,
   "metadata": {},
   "outputs": [],
   "source": [
    "thislist = [\"apple\", \"banana\", \"cherry\"]\n",
    "thislist.remove(\"banana\")\n",
    "print(thislist)"
   ]
  },
  {
   "cell_type": "code",
   "execution_count": null,
   "metadata": {},
   "outputs": [],
   "source": [
    "thislist = [\"apple\", \"banana\", \"cherry\"]\n",
    "thislist.pop()\n",
    "print(thislist)"
   ]
  },
  {
   "cell_type": "code",
   "execution_count": null,
   "metadata": {},
   "outputs": [],
   "source": [
    "fruits = ['apple', 'banana', 'cherry']\n",
    "\n",
    "x = fruits.pop(1)\n",
    "print(x)"
   ]
  },
  {
   "cell_type": "code",
   "execution_count": 3,
   "metadata": {},
   "outputs": [
    {
     "name": "stdout",
     "output_type": "stream",
     "text": [
      "['banana', 'cherry']\n"
     ]
    }
   ],
   "source": [
    "thislist = [\"apple\", \"banana\", \"cherry\"]\n",
    "del thislist[0]\n",
    "print(thislist)"
   ]
  },
  {
   "cell_type": "code",
   "execution_count": null,
   "metadata": {},
   "outputs": [],
   "source": [
    "thislist = [\"apple\", \"banana\", \"cherry\"]\n",
    "thislist.clear()\n",
    "print(thislist)"
   ]
  },
  {
   "cell_type": "markdown",
   "metadata": {},
   "source": [
    "### Common operation"
   ]
  },
  {
   "cell_type": "code",
   "execution_count": 1,
   "metadata": {},
   "outputs": [
    {
     "name": "stdout",
     "output_type": "stream",
     "text": [
      "[1, 2, 7, 8, 9, 5]\n"
     ]
    }
   ],
   "source": [
    "A = [1, 2, 3, 4, 5]\n",
    "A[2:4] = [7, 8, 9]\n",
    "print(A)"
   ]
  },
  {
   "cell_type": "code",
   "execution_count": 11,
   "metadata": {},
   "outputs": [
    {
     "name": "stdout",
     "output_type": "stream",
     "text": [
      "[10, 2, 20, 4, 30, 6, 40]\n"
     ]
    }
   ],
   "source": [
    "A = [1, 2, 3, 4, 5, 6, 7]\n",
    "A[::-2] = [10, 20, 30, 40]\n",
    "print(A)"
   ]
  },
  {
   "cell_type": "markdown",
   "metadata": {},
   "source": [
    "### data operation"
   ]
  },
  {
   "cell_type": "code",
   "execution_count": 14,
   "metadata": {},
   "outputs": [
    {
     "name": "stdout",
     "output_type": "stream",
     "text": [
      "['apple', 'banana', 'cherry']\n"
     ]
    }
   ],
   "source": [
    "thislist = [\"apple\", \"banana\", \"cherry\"]\n",
    "mylist = thislist.copy()\n",
    "print(mylist)"
   ]
  },
  {
   "cell_type": "code",
   "execution_count": null,
   "metadata": {},
   "outputs": [],
   "source": [
    "cars = ['Ford', 'BMW', 'Volvo']\n",
    "\n",
    "cars.sort(reverse=True)\n",
    "print(cars)"
   ]
  },
  {
   "cell_type": "code",
   "execution_count": 16,
   "metadata": {},
   "outputs": [
    {
     "name": "stdout",
     "output_type": "stream",
     "text": [
      "<map object at 0x7fc8b492c150>\n",
      "1 <class 'int'>\n",
      "2 <class 'int'>\n",
      "3 <class 'int'>\n"
     ]
    }
   ],
   "source": [
    "a = ['1', '2', '3']\n",
    "list = map(int, a)\n",
    "\n",
    "print(list)\n",
    "\n",
    "for i in list: \n",
    "    print(i, type(i)) "
   ]
  },
  {
   "cell_type": "markdown",
   "metadata": {},
   "source": [
    "# 動手做 "
   ]
  },
  {
   "cell_type": "markdown",
   "metadata": {},
   "source": [
    "* 指令操作提示\n",
    " * x in A Checks whether an item is in the list A. Returns True or False\n",
    " * x not in A Checks whether an item is not in the list A. Returns True or False\n",
    " * min(A) Returns the smallest element of list A\n",
    " * max(A) Returns the biggest element of list A\n",
    " * A.index(x) The index of the first occurrence of element x in the list; in its absence generates an exception ValueError\n",
    " * A.count(x) The number of occurrences of element x in the list"
   ]
  },
  {
   "cell_type": "code",
   "execution_count": null,
   "metadata": {},
   "outputs": [],
   "source": []
  },
  {
   "cell_type": "markdown",
   "metadata": {},
   "source": [
    "#### 題目:  將list資料以下列方式，進行確認或找出內容\n",
    "* Given a list [2, 3, 5, 8, 13, 5, 5]\n",
    " * check if 8 is in it\n",
    " * Check if 15 isn't in it\n",
    " * Print the minimum of the list\n",
    " * Print the maximum of the list\n",
    " * Print the index of the element 13\n",
    " * Print the number of occurrences of 5 in the list"
   ]
  },
  {
   "cell_type": "code",
   "execution_count": null,
   "metadata": {},
   "outputs": [],
   "source": [
    "# 略"
   ]
  },
  {
   "cell_type": "code",
   "execution_count": null,
   "metadata": {},
   "outputs": [],
   "source": [
    "list = [2, 3, 5, 8, 13, 5, 5]\n",
    "print(8 in list)"
   ]
  },
  {
   "cell_type": "markdown",
   "metadata": {},
   "source": [
    "### 程式應用的範例"
   ]
  },
  {
   "cell_type": "code",
   "execution_count": 17,
   "metadata": {
    "scrolled": true
   },
   "outputs": [
    {
     "name": "stdout",
     "output_type": "stream",
     "text": [
      "Print the rainbow\n",
      "Red\n",
      "Orange\n",
      "Yellow\n",
      "Green\n",
      "Blue\n",
      "Indigo\n",
      "Violet\n"
     ]
    }
   ],
   "source": [
    "Rainbow = ['Red', 'Orange', 'Yellow', 'Green', 'Blue', 'Indigo', 'Violet']\n",
    "\n",
    "print('Print the rainbow')\n",
    "for i in range(len(Rainbow)):\n",
    "    print(Rainbow[i])"
   ]
  },
  {
   "cell_type": "code",
   "execution_count": null,
   "metadata": {},
   "outputs": [],
   "source": [
    "a = []\n",
    "n = int(input())  # read number of element in the list\n",
    "\n",
    "for i in range(n): \n",
    "    new_element = int(input()) # read next element\n",
    "    a.append(new_element)  \n",
    "\n",
    "print(a)\n",
    "\n",
    "\"\"\" input \n",
    "5\n",
    "1809\n",
    "1854\n",
    "1860\n",
    "1891\n",
    "1925\n",
    "\"\"\""
   ]
  },
  {
   "cell_type": "code",
   "execution_count": null,
   "metadata": {},
   "outputs": [],
   "source": [
    "a = []\n",
    "\n",
    "for i in range(int(input())):\n",
    "    a.append(int(input()))\n",
    "    \n",
    "print(a)\n",
    "\"\"\" input \n",
    "3\n",
    "1809\n",
    "1854\n",
    "1860\n",
    "\"\"\""
   ]
  },
  {
   "cell_type": "markdown",
   "metadata": {},
   "source": [
    "### 補充 for string  "
   ]
  },
  {
   "cell_type": "code",
   "execution_count": 18,
   "metadata": {},
   "outputs": [
    {
     "name": "stdout",
     "output_type": "stream",
     "text": [
      "b\n",
      "g\n",
      "bc\n",
      "bcdef\n",
      "abc\n",
      "cdefg\n",
      "abcdef\n",
      "aceg\n",
      "bdf\n",
      "gfedcba\n"
     ]
    }
   ],
   "source": [
    "s = 'abcdefg'\n",
    "print(s[1])\n",
    "print(s[-1])\n",
    "print(s[1:3])\n",
    "print(s[1:-1])\n",
    "print(s[:3])\n",
    "print(s[2:])\n",
    "print(s[:-1])\n",
    "print(s[::2])\n",
    "print(s[1::2])\n",
    "print(s[::-1])"
   ]
  },
  {
   "cell_type": "code",
   "execution_count": 19,
   "metadata": {},
   "outputs": [
    {
     "name": "stdout",
     "output_type": "stream",
     "text": [
      "acegi\n",
      "0 a\n",
      "2 c\n",
      "4 e\n",
      "6 g\n",
      "8 i\n"
     ]
    }
   ],
   "source": [
    "s = 'abcdefghijklm'\n",
    "print(s[0:10:2])\n",
    "for i in range(0, 10, 2):\n",
    "    print(i, s[i])"
   ]
  },
  {
   "cell_type": "code",
   "execution_count": null,
   "metadata": {},
   "outputs": [],
   "source": [
    "s = 'Hello'\n",
    "print(s.find('e'))\n",
    "# 1\n",
    "print(s.find('ll'))\n",
    "# 2\n",
    "print(s.find('L'))\n",
    "# -1"
   ]
  },
  {
   "cell_type": "code",
   "execution_count": null,
   "metadata": {},
   "outputs": [],
   "source": [
    "s = 'abracadabra'\n",
    "print(s.find('b'))\n",
    "# 1\n",
    "print(s.rfind('b'))\n",
    "# 8"
   ]
  },
  {
   "cell_type": "code",
   "execution_count": 21,
   "metadata": {},
   "outputs": [
    {
     "name": "stdout",
     "output_type": "stream",
     "text": [
      "a pub is a pub, essentially\n"
     ]
    }
   ],
   "source": [
    "print('a bar is a bar, essentially'.replace('bar', 'pub'))\n",
    "# 'a pub is a pub, essentially'"
   ]
  },
  {
   "cell_type": "code",
   "execution_count": 20,
   "metadata": {},
   "outputs": [
    {
     "name": "stdout",
     "output_type": "stream",
     "text": [
      "a pub is a bar, essentially\n"
     ]
    }
   ],
   "source": [
    "print('a bar is a bar, essentially'.replace('bar', 'pub', 1))\n",
    "# 'a pub is a bar, essentially'"
   ]
  },
  {
   "cell_type": "code",
   "execution_count": null,
   "metadata": {},
   "outputs": [],
   "source": [
    "print('Abracadabra'.count('a'))\n",
    "# 4\n",
    "print(('aaaaaaaaaa').count('aa'))\n",
    "# 5"
   ]
  },
  {
   "cell_type": "markdown",
   "metadata": {},
   "source": [
    "# 動手做"
   ]
  },
  {
   "cell_type": "markdown",
   "metadata": {},
   "source": [
    "#### 題目: 將單字從中間切割，調換後半部和前半部\n",
    "* 給定一個字符串。將其切成兩個“相等”的部分（如果字符串的長度是奇數，請將中心字符放在第一個字符串中，以便第一個字符串比第二個字符串包含更多的字符）。\n",
    "* 現在，在第一行和第二個後半部分互換的情況下，在單行上打印一個新字符串（第二個後半部分優先和第二個後半部分）\n",
    "\n",
    "* 範例:\n",
    " * input: Hello\n",
    " * output: loHel"
   ]
  },
  {
   "cell_type": "code",
   "execution_count": 60,
   "metadata": {},
   "outputs": [
    {
     "name": "stdout",
     "output_type": "stream",
     "text": [
      "請輸入英文字串1234\n",
      "3412\n"
     ]
    }
   ],
   "source": [
    "from collections import deque\n",
    "str = input(\"請輸入英文字串\")\n",
    "strSplit = \" \".join(str).split()\n",
    "\n",
    "if len(strSplit) % 2 ==0:\n",
    "    # 12345678\n",
    "    result = strSplit[int(len(strSplit))//2:] + strSplit[0:int(len(strSplit))//2]\n",
    "else:\n",
    "    pass\n",
    "\n",
    "# result.reverse()\n",
    "ans = \"\"\n",
    "for i in range(len(result)):\n",
    "    ans += result[i]\n",
    "print(ans)\n",
    "    "
   ]
  },
  {
   "cell_type": "markdown",
   "metadata": {},
   "source": [
    "#### 題目: 1 替換為 one\n",
    "* 給定一個字串。在此字串中，將所有數字1替換為One。\n",
    "\n",
    "* 範例:\n",
    " * input: 1+1=2\n",
    " * output: One+One=2"
   ]
  },
  {
   "cell_type": "code",
   "execution_count": 63,
   "metadata": {},
   "outputs": [
    {
     "name": "stdout",
     "output_type": "stream",
     "text": [
      "請輸入任意字串1+1=2\n"
     ]
    },
    {
     "data": {
      "text/plain": [
       "'One+One=2'"
      ]
     },
     "execution_count": 63,
     "metadata": {},
     "output_type": "execute_result"
    }
   ],
   "source": [
    "str = input(\"請輸入任意字串\")\n",
    "nstr = str.replace('1', 'One')\n",
    "nstr"
   ]
  },
  {
   "cell_type": "markdown",
   "metadata": {},
   "source": [
    "## More on Data Structure: list comprehesion"
   ]
  },
  {
   "cell_type": "code",
   "execution_count": 64,
   "metadata": {},
   "outputs": [
    {
     "name": "stdout",
     "output_type": "stream",
     "text": [
      "[0, 1, 4, 9, 16, 25, 36, 49, 64, 81]\n"
     ]
    }
   ],
   "source": [
    "s = []  #remember Empty array\n",
    "for i in range(10):\n",
    "    a = i**2\n",
    "    s.append(a)\n",
    "print(s)"
   ]
  },
  {
   "cell_type": "code",
   "execution_count": 69,
   "metadata": {},
   "outputs": [
    {
     "name": "stdout",
     "output_type": "stream",
     "text": [
      "125\n"
     ]
    }
   ],
   "source": [
    "a = lambda x: x ** 3\n",
    "print(a(5))"
   ]
  },
  {
   "cell_type": "code",
   "execution_count": 67,
   "metadata": {},
   "outputs": [
    {
     "name": "stdout",
     "output_type": "stream",
     "text": [
      "<map object at 0x7fc8b4a020d0>\n"
     ]
    }
   ],
   "source": [
    "a = map(lambda x: x ** 2, range(10))\n",
    "print(a)"
   ]
  },
  {
   "cell_type": "code",
   "execution_count": 76,
   "metadata": {},
   "outputs": [
    {
     "name": "stdout",
     "output_type": "stream",
     "text": [
      "[0, 1, 2, 3, 4, 5, 6, 7, 8, 9]\n",
      "<function <lambda> at 0x7fc8b4a330e0> [0, 1, 2, 3, 4, 5, 6, 7, 8, 9]\n",
      "[0, 1, 4, 9, 16, 25, 36, 49, 64, 81]\n"
     ]
    }
   ],
   "source": [
    "num_list = [i for i in range(10)]\n",
    "print(num_list)\n",
    "\n",
    "h = []\n",
    "# lambda 本身是記憶體位置，要記得定位 \n",
    "for i in map(lambda x: x ** 2, num_list):\n",
    "    h.append(i)\n",
    "print(h)"
   ]
  },
  {
   "cell_type": "code",
   "execution_count": null,
   "metadata": {},
   "outputs": [],
   "source": [
    "y = 0\n",
    "combs=[(x, y) for x in [1,2,3]]\n",
    "print(combs)"
   ]
  },
  {
   "cell_type": "code",
   "execution_count": null,
   "metadata": {},
   "outputs": [],
   "source": [
    "combs=[(x, y) for x in [1,2,3] for y in [3,1,4]]  #remove x!=y, for reference\n",
    "print(combs)\n",
    "\n",
    "combs = []\n",
    "for x in [1,2,3]:\n",
    "     for y in [3,1,4]:\n",
    "        combs.append((x, y))\n",
    "            \n",
    "print(combs)"
   ]
  },
  {
   "cell_type": "code",
   "execution_count": null,
   "metadata": {},
   "outputs": [],
   "source": [
    "combs=[(x, y) for x in [1,2,3] for y in [3,1,4] if x != y]\n",
    "print(combs)\n",
    "\n",
    "combs = []\n",
    "for x in [1,2,3]:\n",
    "     for y in [3,1,4]:\n",
    "        if x != y:\n",
    "            combs.append((x, y))\n",
    "            \n",
    "print(combs)"
   ]
  },
  {
   "cell_type": "code",
   "execution_count": 77,
   "metadata": {},
   "outputs": [
    {
     "name": "stdout",
     "output_type": "stream",
     "text": [
      "[1, 2, 3, 4, 5, 6, 7, 8, 9]\n",
      "[1, 2, 3, 4, 5, 6, 7, 8, 9]\n"
     ]
    }
   ],
   "source": [
    "vec = [[1,2,3], [4,5,6], [7,8,9]]\n",
    "y=[num for elem in vec for num in elem]\n",
    "\n",
    "print(y)\n",
    "\n",
    "combs = []\n",
    "for elem in vec:\n",
    "    for num in elem:\n",
    "        combs.append(num) \n",
    "\n",
    "print(combs)"
   ]
  },
  {
   "cell_type": "code",
   "execution_count": 78,
   "metadata": {},
   "outputs": [
    {
     "name": "stdout",
     "output_type": "stream",
     "text": [
      "[[1, 2, 3], [4, 5, 6]]\n",
      "[1, 2, 3, 4, 5, 6]\n"
     ]
    }
   ],
   "source": [
    "A = [1, 2, 3]\n",
    "B = [4, 5, 6]\n",
    "\n",
    "y=[x for x in [A,B]]\n",
    "print(y)    # y==> [[1, 2, 3], [4, 5, 6]]\n",
    "\n",
    "z=[ row[col] for row in y for col in range(len(y[0])) ]\n",
    "print(z)    #[1, 2, 3, 4, 5, 6]"
   ]
  },
  {
   "cell_type": "markdown",
   "metadata": {},
   "source": [
    "### zip"
   ]
  },
  {
   "cell_type": "code",
   "execution_count": 83,
   "metadata": {},
   "outputs": [
    {
     "name": "stdout",
     "output_type": "stream",
     "text": [
      "[[1, 2, 3, 4], [5, 6, 7, 8], [9, 10, 11, 12]]\n",
      "[1, 5, 9]\n"
     ]
    }
   ],
   "source": [
    "matrix = [\n",
    "    [1, 2, 3, 4],\n",
    "    [5, 6, 7, 8],\n",
    "    [9, 10, 11, 12]\n",
    "    ]\n",
    "\n",
    "print(matrix)\n",
    "\n",
    "i=0\n",
    "x=[row[i] for row in matrix]\n",
    "print(x)"
   ]
  },
  {
   "cell_type": "code",
   "execution_count": 106,
   "metadata": {},
   "outputs": [
    {
     "name": "stdout",
     "output_type": "stream",
     "text": [
      "<map object at 0x7fc8b4a50fd0>\n"
     ]
    }
   ],
   "source": [
    "matrix = [\n",
    "    [1, 2, 3, 4],\n",
    "    [5, 6, 7, 8],\n",
    "    [9, 10, 11, 12],\n",
    "    ]\n",
    "\n",
    "\n",
    "i=0\n",
    "y=[[row[i] for row in matrix] for i in range(3)]\n",
    "# print(y)\n",
    "\n",
    "zip(*matrix)\n",
    "print(map(list, zip(*matrix)))\n",
    "a=map(list, zip(*matrix)) #zip: 上下併並存在tuple\n",
    "\n",
    "# print(a)"
   ]
  },
  {
   "cell_type": "code",
   "execution_count": null,
   "metadata": {},
   "outputs": [],
   "source": []
  },
  {
   "cell_type": "code",
   "execution_count": 112,
   "metadata": {},
   "outputs": [
    {
     "name": "stdout",
     "output_type": "stream",
     "text": [
      "[[1, 5, 9], [2, 6, 10], [3, 7, 11], [4, 8, 12]]\n"
     ]
    }
   ],
   "source": [
    "transposed = []\n",
    "for i in range(4):\n",
    "    transposed.append([row[i] for row in matrix])\n",
    "\n",
    "\n",
    "print(transposed)"
   ]
  },
  {
   "cell_type": "code",
   "execution_count": 118,
   "metadata": {},
   "outputs": [
    {
     "data": {
      "text/plain": [
       "array([[ 1,  5,  9],\n",
       "       [ 2,  6, 10],\n",
       "       [ 3,  7, 11],\n",
       "       [ 4,  8, 12]])"
      ]
     },
     "execution_count": 118,
     "metadata": {},
     "output_type": "execute_result"
    }
   ],
   "source": [
    "import numpy as np\n",
    "matrix = np.array(matrix)\n",
    "matrix.transpose()"
   ]
  },
  {
   "cell_type": "code",
   "execution_count": 120,
   "metadata": {},
   "outputs": [
    {
     "name": "stdout",
     "output_type": "stream",
     "text": [
      "(1, 2)\n"
     ]
    },
    {
     "ename": "TypeError",
     "evalue": "'map' object is not callable",
     "output_type": "error",
     "traceback": [
      "\u001b[0;31m---------------------------------------------------------------------------\u001b[0m",
      "\u001b[0;31mTypeError\u001b[0m                                 Traceback (most recent call last)",
      "\u001b[0;32m<ipython-input-120-4c50e203d4a4>\u001b[0m in \u001b[0;36m<module>\u001b[0;34m\u001b[0m\n\u001b[1;32m      1\u001b[0m \u001b[0ma\u001b[0m\u001b[0;34m=\u001b[0m\u001b[0;34m(\u001b[0m\u001b[0;36m1\u001b[0m\u001b[0;34m,\u001b[0m\u001b[0;36m2\u001b[0m\u001b[0;34m)\u001b[0m\u001b[0;34m\u001b[0m\u001b[0;34m\u001b[0m\u001b[0m\n\u001b[1;32m      2\u001b[0m \u001b[0mprint\u001b[0m\u001b[0;34m(\u001b[0m\u001b[0ma\u001b[0m\u001b[0;34m)\u001b[0m\u001b[0;34m\u001b[0m\u001b[0;34m\u001b[0m\u001b[0m\n\u001b[0;32m----> 3\u001b[0;31m \u001b[0ma\u001b[0m\u001b[0;34m=\u001b[0m\u001b[0mlist\u001b[0m\u001b[0;34m(\u001b[0m\u001b[0ma\u001b[0m\u001b[0;34m)\u001b[0m\u001b[0;34m\u001b[0m\u001b[0;34m\u001b[0m\u001b[0m\n\u001b[0m\u001b[1;32m      4\u001b[0m \u001b[0mprint\u001b[0m\u001b[0;34m(\u001b[0m\u001b[0ma\u001b[0m\u001b[0;34m)\u001b[0m\u001b[0;34m\u001b[0m\u001b[0;34m\u001b[0m\u001b[0m\n",
      "\u001b[0;31mTypeError\u001b[0m: 'map' object is not callable"
     ]
    }
   ],
   "source": [
    "a=(1,2)\n",
    "print(a)\n",
    "a=list(a)\n",
    "print(a)"
   ]
  },
  {
   "cell_type": "markdown",
   "metadata": {},
   "source": [
    "### Tuples and Sequence"
   ]
  },
  {
   "cell_type": "code",
   "execution_count": 123,
   "metadata": {},
   "outputs": [
    {
     "name": "stdout",
     "output_type": "stream",
     "text": [
      "('apple', 'banana', 'cherry')\n"
     ]
    },
    {
     "ename": "TypeError",
     "evalue": "'tuple' object does not support item assignment",
     "output_type": "error",
     "traceback": [
      "\u001b[0;31m---------------------------------------------------------------------------\u001b[0m",
      "\u001b[0;31mTypeError\u001b[0m                                 Traceback (most recent call last)",
      "\u001b[0;32m<ipython-input-123-fb48e6598c73>\u001b[0m in \u001b[0;36m<module>\u001b[0;34m\u001b[0m\n\u001b[1;32m      1\u001b[0m \u001b[0mthistuple\u001b[0m \u001b[0;34m=\u001b[0m \u001b[0;34m(\u001b[0m\u001b[0;34m\"apple\"\u001b[0m\u001b[0;34m,\u001b[0m \u001b[0;34m\"banana\"\u001b[0m\u001b[0;34m,\u001b[0m \u001b[0;34m\"cherry\"\u001b[0m\u001b[0;34m)\u001b[0m\u001b[0;34m\u001b[0m\u001b[0;34m\u001b[0m\u001b[0m\n\u001b[1;32m      2\u001b[0m \u001b[0mprint\u001b[0m\u001b[0;34m(\u001b[0m\u001b[0mthistuple\u001b[0m\u001b[0;34m)\u001b[0m\u001b[0;34m\u001b[0m\u001b[0;34m\u001b[0m\u001b[0m\n\u001b[0;32m----> 3\u001b[0;31m \u001b[0mthistuple\u001b[0m\u001b[0;34m[\u001b[0m\u001b[0;36m2\u001b[0m\u001b[0;34m]\u001b[0m \u001b[0;34m=\u001b[0m \u001b[0;34m\"orange\"\u001b[0m \u001b[0;31m# This will raise an error\u001b[0m\u001b[0;34m\u001b[0m\u001b[0;34m\u001b[0m\u001b[0m\n\u001b[0m\u001b[1;32m      4\u001b[0m \u001b[0mprint\u001b[0m\u001b[0;34m(\u001b[0m\u001b[0mthistuple\u001b[0m\u001b[0;34m)\u001b[0m\u001b[0;34m\u001b[0m\u001b[0;34m\u001b[0m\u001b[0m\n",
      "\u001b[0;31mTypeError\u001b[0m: 'tuple' object does not support item assignment"
     ]
    }
   ],
   "source": [
    "thistuple = (\"apple\", \"banana\", \"cherry\")\n",
    "print(thistuple)\n",
    "thistuple[2] = \"orange\" # This will raise an error\n",
    "print(thistuple)"
   ]
  },
  {
   "cell_type": "code",
   "execution_count": 124,
   "metadata": {},
   "outputs": [
    {
     "name": "stdout",
     "output_type": "stream",
     "text": [
      "('apple',)\n",
      "([12, 34], ('apple',))\n"
     ]
    }
   ],
   "source": [
    "newtuple = \"apple\", \n",
    "print(newtuple)\n",
    "\n",
    "t = [12, 34]\n",
    "u = (t, newtuple)\n",
    "print(u)"
   ]
  },
  {
   "cell_type": "markdown",
   "metadata": {},
   "source": [
    "# 動手做"
   ]
  },
  {
   "cell_type": "markdown",
   "metadata": {},
   "source": [
    "#### 題目: 排序\n",
    "* 亂數產生器產出數字範圍1~100的10個號碼，將其排序後列印。\n",
    "\n",
    "* 範例:\n",
    " * input: (亂數產生器產出) \n",
    " * output: (範例) 2 28 35 41 54 58 59 66 80 82"
   ]
  },
  {
   "cell_type": "code",
   "execution_count": null,
   "metadata": {},
   "outputs": [],
   "source": [
    "# 略"
   ]
  },
  {
   "cell_type": "markdown",
   "metadata": {},
   "source": [
    "## Dict Example\n"
   ]
  },
  {
   "cell_type": "code",
   "execution_count": null,
   "metadata": {},
   "outputs": [],
   "source": [
    "#dict\n",
    "pollution={'AMB_TEMP':1,'CH4':0,'CO':0,'NMHC':0}\n",
    "\n",
    "print(pollution)\n",
    "print()\n",
    "\n",
    "print(\"keys-->\")\n",
    "for k in pollution.keys():   # denotes (key,value)\n",
    "    print(k)\n",
    "\n",
    "print()\n",
    "print(\"values-->\")\n",
    "for v in pollution.values():   # denotes (key,value)\n",
    "    print(v)"
   ]
  },
  {
   "cell_type": "code",
   "execution_count": null,
   "metadata": {},
   "outputs": [],
   "source": [
    "#dict\n",
    "pollution={'AMB_TEMP':1,'CH4':0,'CO':0,'NMHC':0}\n",
    "\n",
    "for k, v in pollution.items():   # denotes (key,value)\n",
    "    print(k,\"-->\",v)"
   ]
  },
  {
   "cell_type": "code",
   "execution_count": null,
   "metadata": {},
   "outputs": [],
   "source": []
  },
  {
   "cell_type": "code",
   "execution_count": null,
   "metadata": {},
   "outputs": [],
   "source": [
    "g=[x**2 for x in [1,2,3]]  \n",
    "print(g) \n",
    "\n",
    "k=[[x, x**2] for x in [1,2,3]]  \n",
    "print(k) "
   ]
  },
  {
   "cell_type": "code",
   "execution_count": null,
   "metadata": {},
   "outputs": [],
   "source": [
    "# dict comprehension\n",
    "\n",
    "k={x: x**2 for x in [1,2,3]}  # {1: 1, 2: 4, 3: 9}\n",
    "\n",
    "print(k) \n",
    "\n",
    "k=dict(sape=4139, guido=4127, jack=4098)\n",
    "print(k) \n"
   ]
  },
  {
   "cell_type": "code",
   "execution_count": null,
   "metadata": {},
   "outputs": [],
   "source": []
  },
  {
   "cell_type": "code",
   "execution_count": null,
   "metadata": {},
   "outputs": [],
   "source": [
    "mydict={'A':100,'B':1,'C':1}\n",
    "\n",
    "# keys(). values()\n",
    "print(list(mydict.keys()))\n",
    "print(list(mydict.values()))"
   ]
  },
  {
   "cell_type": "code",
   "execution_count": null,
   "metadata": {},
   "outputs": [],
   "source": [
    "mydict={'A':100,'B':1,'C':1}\n",
    "print(mydict)  #{'C': 1, 'B': 1, 'A': 0}\n",
    "\n",
    "# 'in' operator\n",
    "print('D' in mydict)    \n",
    "print('A' in mydict)\n",
    "\n",
    "print()\n",
    "for i, k in enumerate(mydict):  # denotes (index,key)\n",
    "    print(i, k)\n",
    "\n",
    "print()\n",
    "for k, v in mydict.items():   # denotes (key,value)\n",
    "    print(k, v)"
   ]
  },
  {
   "cell_type": "code",
   "execution_count": null,
   "metadata": {},
   "outputs": [],
   "source": []
  },
  {
   "cell_type": "code",
   "execution_count": null,
   "metadata": {},
   "outputs": [],
   "source": [
    "car = {\n",
    "  \"brand\": \"Ford\",\n",
    "  \"model\": \"Mustang\",\n",
    "  \"year\": 1964\n",
    "}\n",
    "\n",
    "x = car.get(\"model\")\n",
    "\n",
    "print(x)"
   ]
  },
  {
   "cell_type": "code",
   "execution_count": null,
   "metadata": {},
   "outputs": [],
   "source": [
    "dict = {'1':'one','2':'two','3':'three'}\n",
    "x = dict.get('2',0)\n",
    "print(x)\n",
    "\n",
    "y = dict.get('4',0)  #如果輸入的key 在dict中，會返回其對應的key值，否則會返回一個定義的參數d\n",
    "print(y)\n",
    "\n",
    "z = dict.get('4','false')\n",
    "print(z)"
   ]
  },
  {
   "cell_type": "markdown",
   "metadata": {},
   "source": [
    "## dict comparison"
   ]
  },
  {
   "cell_type": "code",
   "execution_count": null,
   "metadata": {},
   "outputs": [],
   "source": [
    "mydict={'A':100,'B':1,'C':1}\n",
    "\n",
    "if ('A' in mydict):\n",
    "    print(\"yes\", mydict[\"A\"])\n",
    "else:\n",
    "    print(\"no\")"
   ]
  },
  {
   "cell_type": "code",
   "execution_count": null,
   "metadata": {},
   "outputs": [],
   "source": [
    "#dict comparison\n",
    "mydict={'A':100,'B':1,'C':1}\n",
    "\n",
    "if mydict == {'A':100,'C':1,'B':1}:\n",
    "    print('equal')\n",
    "else: \n",
    "    print('not equal')\n",
    "    \n",
    "#set comparison\n",
    "\n",
    "s1={1,2,3,4,5}\n",
    "s2={1,2,4,5,3}\n",
    "\n",
    "if s1 == s2:\n",
    "    print('equal')\n",
    "else: \n",
    "    print('not equal')\n",
    "\n",
    "print(s1 is s2)\n"
   ]
  },
  {
   "cell_type": "markdown",
   "metadata": {},
   "source": [
    "## OrderedDict"
   ]
  },
  {
   "cell_type": "code",
   "execution_count": null,
   "metadata": {
    "scrolled": true
   },
   "outputs": [],
   "source": [
    "# sort the dict by key\n",
    "\n",
    "from collections import OrderedDict\n",
    "a={'D':100,'A':0,'B':1,'C':1}\n",
    "print(a)\n",
    "\n",
    "b = dict(OrderedDict(sorted(a.items())))\n",
    "print(b)\n"
   ]
  },
  {
   "cell_type": "code",
   "execution_count": null,
   "metadata": {},
   "outputs": [],
   "source": [
    "# Create empty dict Capitals\n",
    "Capitals = {}\n",
    "\n",
    "# Fill it with some values\n",
    "Capitals['Russia'] = 'Moscow'\n",
    "Capitals['Ukraine'] = 'Kiev'\n",
    "Capitals['USA'] = 'Washington'\n",
    "\n",
    "print(Capitals)\n",
    "\n",
    "Countries = ['Russia', 'France', 'USA', 'Russia']\n",
    "\n",
    "for country in Countries:\n",
    "  # For each country from the list check to see whether it is in the dictionary Capitals\n",
    "\n",
    "    if country in Capitals:\n",
    "        print('The capital of ' + country + ' is ' + Capitals[country])\n",
    "    else:\n",
    "        print('The capital of ' + country + ' is unknown')"
   ]
  },
  {
   "cell_type": "markdown",
   "metadata": {},
   "source": [
    "# 動手做"
   ]
  },
  {
   "cell_type": "markdown",
   "metadata": {},
   "source": [
    "#### 題目: 美國總統的選舉投票數加總\n",
    "* 美國總統選舉時，選民直接投票選舉總統的選舉人，然後在選舉人票制度的基礎上進行計票。計票採取「勝者全得制」的原則，各州選舉人票之和，即為該候選人最終獲得的總選舉人票。總選舉人票超過半數（即270張）就可當選。\n",
    "第一行包含州數。此後，每列都包含候選人的姓名以及他們在一個州中獲得的票數。計算選舉的總結果：將每個候選人的票數相加。按候選人字母順序印出\n",
    "* 範例:\n",
    " * input: \n",
    "   * 5\n",
    "   * McCain 10\n",
    "   * McCain 5\n",
    "   * Obama 9\n",
    "   * Obama 8\n",
    "   * McCain 1\n",
    " * output: \n",
    "   * McCain 16\n",
    "   * Obama 17"
   ]
  },
  {
   "cell_type": "markdown",
   "metadata": {},
   "source": [
    "#### 會用到的指令\n",
    "* input().split()\n",
    "* num_votes.get(candidate, 0)\n",
    "* sorted(num_votes.items()"
   ]
  },
  {
   "cell_type": "code",
   "execution_count": 132,
   "metadata": {},
   "outputs": [
    {
     "name": "stdout",
     "output_type": "stream",
     "text": [
      "請輸入州數4\n",
      "請輸入：候選人名 票數>>>me 100\n",
      "請輸入：候選人名 票數>>>me 2\n",
      "請輸入：候選人名 票數>>>u 55\n",
      "請輸入：候選人名 票數>>>u 3\n",
      "me 102\n",
      "u 58\n"
     ]
    }
   ],
   "source": [
    "nState = int(input(\"請輸入州數\"))\n",
    "dictNumVote = {}\n",
    "for i in range(nState):\n",
    "    candidate, nVote = input(\"請輸入：候選人名 票數>>>\").split()\n",
    "    dictNumVote[candidate] = dictNumVote.get(candidate, 0) + int(nVote)\n",
    "\n",
    "for candidate, nVote in sorted(dictNumVote.items()):\n",
    "    print(candidate, nVote)"
   ]
  },
  {
   "cell_type": "markdown",
   "metadata": {},
   "source": [
    "## Set"
   ]
  },
  {
   "cell_type": "code",
   "execution_count": null,
   "metadata": {},
   "outputs": [],
   "source": [
    "A = {1, 2, 3}\n",
    "A = set('qwerty')\n",
    "print(A)"
   ]
  },
  {
   "cell_type": "code",
   "execution_count": null,
   "metadata": {},
   "outputs": [],
   "source": [
    "a=set() #empty set\n",
    "a.add('A')\n",
    "a.add('B')\n",
    "print(a)\n",
    "\n",
    "a.remove('B')\n",
    "print(a)\n"
   ]
  },
  {
   "cell_type": "code",
   "execution_count": null,
   "metadata": {
    "scrolled": true
   },
   "outputs": [],
   "source": [
    "\n",
    "a = set('abracadabra')\n",
    "b = set('alacazam')\n",
    "\n",
    "print(a)\n",
    "print(b)\n",
    "\n",
    "print(a - b)                             # letters in a but not in b\n",
    "print(a | b)                             # letters in either a or b\n",
    "print(a & b)                             # letters in both a and b\n",
    "print(a ^ b)                             # letters in a or b but not both\n"
   ]
  },
  {
   "cell_type": "code",
   "execution_count": null,
   "metadata": {},
   "outputs": [],
   "source": [
    "a = {x for x in 'abracadabra' if x not in 'abc'}\n",
    "print(a)"
   ]
  },
  {
   "cell_type": "code",
   "execution_count": null,
   "metadata": {},
   "outputs": [],
   "source": [
    "a = set('abracadabra')\n",
    "for f in sorted(set(a)):\n",
    "    print(f)"
   ]
  },
  {
   "cell_type": "markdown",
   "metadata": {},
   "source": [
    "# 動手做"
   ]
  },
  {
   "cell_type": "markdown",
   "metadata": {},
   "source": [
    "#### 題目: 用集合()不重複的特性，進行大樂透選號\n",
    "* 大樂透的玩法是在 1 到 49 中選取6個號碼，請用 While 迴圈撰寫亂數產生器產出6個號碼，並用集合()不重複的特性，確保找出的6個號碼不重複。\n",
    "\n",
    "* 範例:\n",
    " * input: \n",
    " * output: 15 32 43 49 43 46"
   ]
  },
  {
   "cell_type": "code",
   "execution_count": 135,
   "metadata": {},
   "outputs": [
    {
     "name": "stdout",
     "output_type": "stream",
     "text": [
      "{11, 45, 46, 15, 27, 30}\n"
     ]
    }
   ],
   "source": [
    "import random\n",
    "set10 = set()\n",
    "count = 1\n",
    "\n",
    "while count <= 6:\n",
    "    randNum = random.randint(1, 49)\n",
    "    if randNum not in set10:\n",
    "        set10.add(randNum)\n",
    "        count += 1\n",
    "        \n",
    "print(set10)"
   ]
  },
  {
   "cell_type": "code",
   "execution_count": null,
   "metadata": {},
   "outputs": [],
   "source": []
  },
  {
   "cell_type": "code",
   "execution_count": null,
   "metadata": {},
   "outputs": [],
   "source": []
  }
 ],
 "metadata": {
  "celltoolbar": "Raw Cell Format",
  "kernelspec": {
   "display_name": "Python 3",
   "language": "python",
   "name": "python3"
  },
  "language_info": {
   "codemirror_mode": {
    "name": "ipython",
    "version": 3
   },
   "file_extension": ".py",
   "mimetype": "text/x-python",
   "name": "python",
   "nbconvert_exporter": "python",
   "pygments_lexer": "ipython3",
   "version": "3.7.9"
  }
 },
 "nbformat": 4,
 "nbformat_minor": 2
}
