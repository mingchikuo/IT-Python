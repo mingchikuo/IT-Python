{
 "cells": [
  {
   "cell_type": "markdown",
   "metadata": {},
   "source": [
    "### if statement"
   ]
  },
  {
   "cell_type": "code",
   "execution_count": null,
   "metadata": {},
   "outputs": [],
   "source": [
    "a = 200\n",
    "b = 33\n",
    "if b > a:\n",
    "  print(\"b is greater than a\")\n",
    "elif a == b:\n",
    "  print(\"a and b are equal\")\n",
    "else:\n",
    "  print(\"a is greater than b\")"
   ]
  },
  {
   "cell_type": "code",
   "execution_count": null,
   "metadata": {},
   "outputs": [],
   "source": [
    "a = 200\n",
    "b = 33\n",
    "\n",
    "if a > b: print(\"a is greater than b\")"
   ]
  },
  {
   "cell_type": "markdown",
   "metadata": {},
   "source": [
    "#### 計算單車出租費用規則如下\n",
    "* 出租一天費用是每天100元\n",
    "* 如果晚上10點後還車，將加收一天額外的費用\n",
    "* 如果是在星期天租借，將減收5%的費用\n",
    "* 如果是在星期四租接，將減收10%的費用\n",
    "#### 要如何設計程式?"
   ]
  },
  {
   "cell_type": "code",
   "execution_count": 4,
   "metadata": {},
   "outputs": [
    {
     "name": "stdout",
     "output_type": "stream",
     "text": [
      "單車是否在晚上10點前返還? (請填y或n): n\n",
      "請輸入單車出租天數: 5\n",
      "單車是在星期幾出租: sunday\n",
      "單車的出租費用總計為:  570 元\n"
     ]
    }
   ],
   "source": [
    "onTime = input(\"單車是否在晚上10點前返還? (請填y或n): \").lower()\n",
    "days = int(input(\"請輸入單車出租天數: \"))\n",
    "weekday = input(\"單車是在星期幾出租: \").capitalize()\n",
    "money = 100\n",
    "\n",
    "if onTime == \"n\":\n",
    "    days += 1\n",
    "    \n",
    "if weekday == \"Sunday\":\n",
    "    total = (days * money) * 0.95\n",
    "elif weekday == \"Thursday\":\n",
    "    total = (days * money) * 0.9\n",
    "else:\n",
    "    total = (days * money)\n",
    "    \n",
    "print(\"單車的出租費用總計為: \", int(total), \"元\")"
   ]
  },
  {
   "cell_type": "markdown",
   "metadata": {},
   "source": [
    "### for Statements"
   ]
  },
  {
   "cell_type": "code",
   "execution_count": null,
   "metadata": {},
   "outputs": [],
   "source": [
    "y = [1, 2, 5, 3, 4]\n",
    "\n",
    "for i in y:\n",
    "    print(i)"
   ]
  },
  {
   "cell_type": "code",
   "execution_count": null,
   "metadata": {},
   "outputs": [],
   "source": [
    "y = [1, 2, 5, 3, 4]\n",
    "\n",
    "for i in y:\n",
    "    if i % 2 == 0:    #print偶數\n",
    "        print(i)"
   ]
  },
  {
   "cell_type": "code",
   "execution_count": null,
   "metadata": {},
   "outputs": [],
   "source": [
    "fruits = [\"apple\", \"banana\", \"cherry\"]\n",
    "for x in fruits:\n",
    "  print(x, len(x))"
   ]
  },
  {
   "cell_type": "code",
   "execution_count": null,
   "metadata": {},
   "outputs": [],
   "source": [
    "for x in \"banana\":\n",
    "  print(x) "
   ]
  },
  {
   "cell_type": "markdown",
   "metadata": {},
   "source": [
    "# 動手做"
   ]
  },
  {
   "cell_type": "markdown",
   "metadata": {},
   "source": [
    "#### 題目: 印n步的梯形圖\n",
    "* 對於給定的整數n≤9，請打印n步的梯形圖。第k個步驟由1到k的整數組成，它們之間沒有空\n",
    "* 為此，可以對函數print（）使用sep和end參數。\n",
    "* 範例:\n",
    " * input: 3\n",
    " * output: \n",
    "   * 1\n",
    "   * 12\n",
    "   * 123"
   ]
  },
  {
   "cell_type": "code",
   "execution_count": 2,
   "metadata": {},
   "outputs": [
    {
     "name": "stdout",
     "output_type": "stream",
     "text": [
      "請輸入整數，對於給定的整數n≤9，請打印n步的梯形圖。3\n",
      "1\t\n",
      "12\t\n",
      "123\t\n"
     ]
    }
   ],
   "source": [
    "n = int(input(\"請輸入整數，對於給定的整數n≤9，請打印n步的梯形圖。\"))\n",
    "for i in range(n):\n",
    "    for j in range(i+1):\n",
    "        print(j+1, end=\"\")\n",
    "    print(\"\\t\")"
   ]
  },
  {
   "cell_type": "markdown",
   "metadata": {},
   "source": [
    "#### 題目: 找出 少掉的號碼\n",
    "* 有一組卡的編號從1到N。其中一張卡現在丟失了。給定剩餘卡的編號，確定丟失的卡上的編號。\n",
    "* 給定一個數字N代表卡片總數，後面列出N-1個整數-代表其餘卡上的數字（從1到N的整數）。查找並在丟失的卡，列印該號碼。\n",
    "* 範例:\n",
    " * input: \n",
    "5\n",
    " * input:\n",
    "   * 1\n",
    "   * 2\n",
    "   * 4\n",
    "   * 5\n",
    " \n",
    " * output: 3"
   ]
  },
  {
   "cell_type": "code",
   "execution_count": 8,
   "metadata": {},
   "outputs": [
    {
     "name": "stdout",
     "output_type": "stream",
     "text": [
      "請輸入整數，代表有一組卡的編號從1到N。5\n",
      "請依序輸入卡號：1\n",
      "請依序輸入卡號：2\n",
      "請依序輸入卡號：3\n",
      "請依序輸入卡號：5\n",
      "3\n"
     ]
    }
   ],
   "source": [
    "n = int(input(\"請輸入整數，代表有一組卡的編號從1到N。\"))\n",
    "cardList = []\n",
    "\n",
    "for i in range(n-1):\n",
    "    card = int(input(\"請依序輸入卡號：\"))\n",
    "    cardList.append(card)\n",
    "    \n",
    "for i in range(len(cardList)):\n",
    "    if i+1 < len(cardList):\n",
    "        if (cardList[i+1]-cardList[i])>1:\n",
    "            print(i+1)"
   ]
  },
  {
   "cell_type": "markdown",
   "metadata": {},
   "source": [
    "## Control Statement: break, continue, pass"
   ]
  },
  {
   "cell_type": "code",
   "execution_count": null,
   "metadata": {},
   "outputs": [],
   "source": [
    "fruits = [\"apple\", \"banana\", \"cherry\"]\n",
    "for x in fruits:\n",
    "  if x == \"banana\":\n",
    "    break\n",
    "  print(x)"
   ]
  },
  {
   "cell_type": "code",
   "execution_count": null,
   "metadata": {},
   "outputs": [],
   "source": [
    "fruits = [\"apple\", \"banana\", \"cherry\"]\n",
    "for x in fruits:\n",
    "  if x == \"banana\":\n",
    "    continue\n",
    "  print(x) "
   ]
  },
  {
   "cell_type": "code",
   "execution_count": null,
   "metadata": {},
   "outputs": [],
   "source": [
    "for x in [0, 1, 2]:\n",
    "  pass"
   ]
  },
  {
   "cell_type": "code",
   "execution_count": null,
   "metadata": {},
   "outputs": [],
   "source": [
    "for i in range(5):\n",
    "    print(i)\n",
    "    if (i==3):\n",
    "        print(\"%d\"%i)\n",
    "        #break;\n",
    "else:\n",
    "    print(\"ok\")\n",
    "\n"
   ]
  },
  {
   "cell_type": "code",
   "execution_count": null,
   "metadata": {},
   "outputs": [],
   "source": [
    "a = 0\n",
    "for i in range(5):\n",
    "    if i % 2 == 0:\n",
    "        break\n",
    "    a = a + i\n",
    "print(a)"
   ]
  },
  {
   "cell_type": "code",
   "execution_count": null,
   "metadata": {},
   "outputs": [],
   "source": [
    "a = 0\n",
    "for i in range(5):\n",
    "    if i % 2 == 0:\n",
    "        continue\n",
    "    a = a + i\n",
    "print(a)"
   ]
  },
  {
   "cell_type": "code",
   "execution_count": null,
   "metadata": {},
   "outputs": [],
   "source": [
    "a = 0\n",
    "for i in range(5):\n",
    "    if i % 2 == 0:\n",
    "        pass\n",
    "    a = a + i\n",
    "print(a)"
   ]
  },
  {
   "cell_type": "markdown",
   "metadata": {},
   "source": [
    "## While Statements"
   ]
  },
  {
   "cell_type": "code",
   "execution_count": null,
   "metadata": {},
   "outputs": [],
   "source": [
    "n=5;\n",
    "i=0;\n",
    "while i<n:\n",
    "    print(i)\n",
    "    if (i==3):\n",
    "        print(\"i=\",i)\n",
    "        break\n",
    "    i+=1\n",
    "else:\n",
    "    print('ok')"
   ]
  },
  {
   "cell_type": "code",
   "execution_count": null,
   "metadata": {},
   "outputs": [],
   "source": [
    "n=5;\n",
    "i=0;\n",
    "while i<n:\n",
    "    print(i)\n",
    "    if (i==3):\n",
    "        print(\"i=\",i)\n",
    "        pass\n",
    "    i+=1\n",
    "else:\n",
    "    print('ok')"
   ]
  },
  {
   "cell_type": "code",
   "execution_count": null,
   "metadata": {},
   "outputs": [],
   "source": [
    "n=5;\n",
    "i=0;\n",
    "while i<n:\n",
    "    print(i)\n",
    "    if (i==3):\n",
    "        print(\"i=\",i)\n",
    "        #continue\n",
    "    i+=1\n",
    "else:\n",
    "    print('ok')"
   ]
  },
  {
   "cell_type": "markdown",
   "metadata": {},
   "source": [
    "# 動手做"
   ]
  },
  {
   "cell_type": "markdown",
   "metadata": {},
   "source": [
    "#### 題目: 每天增加10%距離，計算要跑的天數\n",
    "* 作為未來的運動員，您剛剛開始練習即將舉行的比賽。假設您在第一天就跑了x英里，那麼到了那時，您必須能夠跑y英里。\n",
    "* 如果您每天將距離比前一天增加10％，請計算最終達到事件所需距離所需的天數。\n",
    "* 列印一個整數，表示達到所需距離的天數。\n",
    "* 範例:\n",
    " * input: \n",
    "   * 10\n",
    "   * 20\n",
    " * output: 9"
   ]
  },
  {
   "cell_type": "code",
   "execution_count": 15,
   "metadata": {},
   "outputs": [
    {
     "name": "stdout",
     "output_type": "stream",
     "text": [
      "作為未來的運動員，您剛剛開始練習即將舉行的比賽。假設您在第一天就跑了x英里，那麼到了那時，您必須能夠跑y英里。\n",
      "請輸入x10\n",
      "請輸入y20\n",
      "第9天完成目標\n"
     ]
    }
   ],
   "source": [
    "print(\"作為未來的運動員，您剛剛開始練習即將舉行的比賽。假設您在第一天就跑了x英里，那麼到了那時，您必須能夠跑y英里。\")\n",
    "x = int(input(\"請輸入x\"))\n",
    "y = int(input(\"請輸入y\"))\n",
    "day = 1\n",
    "\n",
    "while x < y:\n",
    "    x = x*(1.1)\n",
    "    day = day+1\n",
    "    \n",
    "print(\"第{}天完成目標\".format(day))"
   ]
  },
  {
   "cell_type": "markdown",
   "metadata": {},
   "source": [
    "#### 題目: 0之前所有數字的平均值\n",
    "* 輸出以數字0結尾的序列中所有元素的平均值。\n",
    "\n",
    "* 範例:\n",
    " * input: \n",
    "   * 1\n",
    "   * 7\n",
    "   * 9\n",
    "   * 0\n",
    " * output: 5.6666667"
   ]
  },
  {
   "cell_type": "code",
   "execution_count": 46,
   "metadata": {},
   "outputs": [
    {
     "name": "stdout",
     "output_type": "stream",
     "text": [
      "請輸入數字，0關閉程式1\n",
      "請輸入數字，0關閉程式7\n",
      "請輸入數字，0關閉程式9\n",
      "請輸入數字，0關閉程式0\n",
      "5.666666666666667\n"
     ]
    }
   ],
   "source": [
    "\n",
    "sum = 0\n",
    "count = 0\n",
    "\n",
    "while True:\n",
    "    n = int(input(\"請輸入數字，0關閉程式\"))\n",
    "    if n == 0:\n",
    "        print(sum/count)\n",
    "        break\n",
    "    else:\n",
    "        sum += n\n",
    "        count += 1\n",
    "        \n",
    "        \n",
    "    "
   ]
  },
  {
   "cell_type": "markdown",
   "metadata": {},
   "source": [
    "#### 題目: 找出獨有(不重複)的數字\n",
    "* 給定一個數字列表，查找並列印僅出現在列表中的元素一次。元素必須按照它們在原始列表中出現的順序進行打印。\n",
    "\n",
    "* 範例:\n",
    " * input: 1 2 2 3 3 3 \n",
    " * output: 1"
   ]
  },
  {
   "cell_type": "code",
   "execution_count": 58,
   "metadata": {},
   "outputs": [
    {
     "name": "stdout",
     "output_type": "stream",
     "text": [
      "1\n",
      "4\n"
     ]
    }
   ],
   "source": [
    "import numpy as np\n",
    "myList = [1, 2, 2, 3, 3, 3, 4]\n",
    "mySet = np.unique(myList)\n",
    "\n",
    "for i in range(len(mySet)):\n",
    "    myList.remove(mySet[i])\n",
    "\n",
    "\n",
    "for i in range(len(mySet)):\n",
    "    if mySet[i] not in myList:\n",
    "        print(mySet[i])\n",
    "\n"
   ]
  },
  {
   "cell_type": "markdown",
   "metadata": {},
   "source": [
    "#### 題目: 電腦選大樂透號碼\n",
    "* 大樂透的玩法是在 1 到 49 中選取6個號碼，請用 While 迴圈撰寫亂數產生器產出6個號碼。\n",
    "\n",
    "* 範例:\n",
    " * input: \n",
    " * output: 15 32 43 49 43 46"
   ]
  },
  {
   "cell_type": "code",
   "execution_count": 39,
   "metadata": {},
   "outputs": [
    {
     "name": "stdout",
     "output_type": "stream",
     "text": [
      "[35, 39, 22, 18, 9, 26]\n"
     ]
    }
   ],
   "source": [
    "import random\n",
    "pool = [num for num in range(1,50)]\n",
    "pick = []\n",
    "\n",
    "for i in range(6):\n",
    "    ball = pool.pop(random.randint(1, len(pool)))\n",
    "    pick.append(ball)\n",
    "    \n",
    "print(pick)\n",
    "    \n",
    "    \n",
    "\n",
    "\n"
   ]
  },
  {
   "cell_type": "code",
   "execution_count": null,
   "metadata": {},
   "outputs": [],
   "source": []
  },
  {
   "cell_type": "code",
   "execution_count": null,
   "metadata": {},
   "outputs": [],
   "source": []
  },
  {
   "cell_type": "code",
   "execution_count": null,
   "metadata": {},
   "outputs": [],
   "source": []
  }
 ],
 "metadata": {
  "celltoolbar": "Raw Cell Format",
  "kernelspec": {
   "display_name": "Python 3",
   "language": "python",
   "name": "python3"
  },
  "language_info": {
   "codemirror_mode": {
    "name": "ipython",
    "version": 3
   },
   "file_extension": ".py",
   "mimetype": "text/x-python",
   "name": "python",
   "nbconvert_exporter": "python",
   "pygments_lexer": "ipython3",
   "version": "3.7.9"
  }
 },
 "nbformat": 4,
 "nbformat_minor": 2
}
