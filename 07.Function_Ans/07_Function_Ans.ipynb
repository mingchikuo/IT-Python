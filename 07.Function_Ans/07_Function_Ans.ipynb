{
 "cells": [
  {
   "cell_type": "markdown",
   "metadata": {},
   "source": [
    "# Function call "
   ]
  },
  {
   "cell_type": "code",
   "execution_count": null,
   "metadata": {},
   "outputs": [],
   "source": [
    "def square(a):\n",
    "    return a**2\n",
    "\n",
    "a=10\n",
    "print(a)\n",
    "a=square(a)\n",
    "print(a)\n"
   ]
  },
  {
   "cell_type": "code",
   "execution_count": null,
   "metadata": {},
   "outputs": [],
   "source": [
    "def my_function():\n",
    "  print(\"Hello from a function\")\n",
    "\n",
    "my_function()"
   ]
  },
  {
   "cell_type": "code",
   "execution_count": null,
   "metadata": {},
   "outputs": [],
   "source": [
    "def my_function(fname):\n",
    "  print(fname + \" Refsnes\")\n",
    "\n",
    "my_function(\"Emil\")\n",
    "my_function(\"Tobias\")\n",
    "my_function(\"Linus\")"
   ]
  },
  {
   "cell_type": "code",
   "execution_count": null,
   "metadata": {},
   "outputs": [],
   "source": [
    "def my_function(*kids):\n",
    "  print(\"The youngest child is \" + kids[2])\n",
    "\n",
    "my_function(\"Emil\", \"Tobias\", \"Linus\")"
   ]
  },
  {
   "cell_type": "markdown",
   "metadata": {},
   "source": [
    "## ^9/18"
   ]
  },
  {
   "cell_type": "markdown",
   "metadata": {},
   "source": [
    "# Function "
   ]
  },
  {
   "cell_type": "code",
   "execution_count": null,
   "metadata": {},
   "outputs": [],
   "source": [
    "def fib(n):    # write Fibonacci series up to n\n",
    "    a, b = 0, 1\n",
    "    while a < n:\n",
    "        print(a, end=' ')\n",
    "        a, b = b, a+b\n",
    "\n",
    "fib(100)"
   ]
  },
  {
   "cell_type": "code",
   "execution_count": null,
   "metadata": {},
   "outputs": [],
   "source": [
    "def fib(n):    # write Fibonacci series up to n\n",
    "    a, b = 0, 1\n",
    "    while a < n:\n",
    "        print(a, end=' ')\n",
    "        a, b = b, a+b\n",
    "\n",
    "print(fib(0))"
   ]
  },
  {
   "cell_type": "markdown",
   "metadata": {},
   "source": [
    "# return Keyword"
   ]
  },
  {
   "cell_type": "code",
   "execution_count": null,
   "metadata": {},
   "outputs": [],
   "source": [
    "def fib2(n):   # return Fibonacci series up to n\n",
    "    result = []\n",
    "    a, b = 0, 1\n",
    "    while a < n:\n",
    "        result.append(a)\n",
    "        a, b = b, a+b\n",
    "    return result\n",
    "\n",
    "x = fib2(100)\n",
    "print(x)"
   ]
  },
  {
   "cell_type": "markdown",
   "metadata": {},
   "source": [
    "# return 多個值"
   ]
  },
  {
   "cell_type": "code",
   "execution_count": null,
   "metadata": {},
   "outputs": [],
   "source": [
    "def fib2(n):   # return Fibonacci series up to n\n",
    "    return 2, 1\n",
    "\n",
    "x = fib2(100)\n",
    "print(x)\n",
    "print(type(x))"
   ]
  },
  {
   "cell_type": "code",
   "execution_count": null,
   "metadata": {},
   "outputs": [],
   "source": [
    "def fib2(n):   # return Fibonacci series up to n\n",
    "    return 2, 1\n",
    "\n",
    "x, y = fib2(100)\n",
    "print(x, y)\n",
    "print(type(x))"
   ]
  },
  {
   "cell_type": "markdown",
   "metadata": {},
   "source": [
    "# Function Object"
   ]
  },
  {
   "cell_type": "code",
   "execution_count": null,
   "metadata": {},
   "outputs": [],
   "source": [
    "def fib2(n):   # return Fibonacci series up to n\n",
    "    result = []\n",
    "    a, b = 0, 1\n",
    "    while a < n:\n",
    "        result.append(a)\n",
    "        a, b = b, a+b\n",
    "    return result\n",
    "\n",
    "x = fib2(0)\n",
    "print(x)\n",
    "\n",
    "#-------------------------------------\n",
    "\n",
    "x = fib2\n",
    "print(id(fib2))\n",
    "print(id(x))"
   ]
  },
  {
   "cell_type": "markdown",
   "metadata": {},
   "source": [
    "# 動手做 --------------------------------------------------------------------"
   ]
  },
  {
   "cell_type": "markdown",
   "metadata": {},
   "source": [
    "#### Example for 動手做"
   ]
  },
  {
   "cell_type": "code",
   "execution_count": null,
   "metadata": {},
   "outputs": [],
   "source": [
    "# direct print-----------------------------\n",
    "\n",
    "print(\"Emil\" + \" Refsnes\")   \n",
    "\n",
    "\n",
    "# Function---------------------------------\n",
    "\n",
    "def my_function(fname):      # Function\n",
    "  return fname + \" Refsnes\"\n",
    "\n",
    "print(my_function(\"Emil\"))\n"
   ]
  },
  {
   "cell_type": "markdown",
   "metadata": {},
   "source": [
    "#### 題目: 輸入名字，輸出歡迎資訊\n",
    "* 以function進行設計\n",
    "* 任意輸入一個英文名字，輸出 Hi 'name', welcome to Taiwan!。\n",
    "* 範例:\n",
    " * input: John\n",
    " * output: Hi John, welcome to Taiwan!。"
   ]
  },
  {
   "cell_type": "code",
   "execution_count": 1,
   "metadata": {},
   "outputs": [
    {
     "name": "stdout",
     "output_type": "stream",
     "text": [
      "John\n",
      "Hi John, welcome to Taiwan!\n"
     ]
    }
   ],
   "source": [
    "def welcom(c_name):      # Function\n",
    "  return \"Hi \" + c_name + \", \" + \"welcome to Taiwan!\"\n",
    "\n",
    "customer_name = input()\n",
    "print(welcom(customer_name))\n"
   ]
  },
  {
   "cell_type": "markdown",
   "metadata": {},
   "source": [
    "# -------------------------------------------------------------------------end"
   ]
  },
  {
   "cell_type": "code",
   "execution_count": null,
   "metadata": {},
   "outputs": [],
   "source": []
  },
  {
   "cell_type": "code",
   "execution_count": null,
   "metadata": {},
   "outputs": [],
   "source": []
  },
  {
   "cell_type": "markdown",
   "metadata": {},
   "source": [
    "# 動手做 --------------------------------------------------------------------"
   ]
  },
  {
   "cell_type": "markdown",
   "metadata": {},
   "source": [
    "#### 題目: 第一個字母，轉成大寫 \n",
    "* 給定一行小寫ASCII單詞（句子用空格分隔），並將每個單字的首字母大寫。\n",
    "* 範例:\n",
    " * input: we danced the mamushka at waterloo\n",
    " * output: We Danced The Mamushka At Waterloo"
   ]
  },
  {
   "cell_type": "code",
   "execution_count": 5,
   "metadata": {},
   "outputs": [
    {
     "name": "stdout",
     "output_type": "stream",
     "text": [
      "we danced the mamushka at waterloo\n",
      "We Danced The Mamushka At Waterloo "
     ]
    }
   ],
   "source": [
    "s = input().split()\n",
    "\n",
    "for word in s:\n",
    "    print(chr(ord(word[0]) - ord('a') + ord('A')), end='')\n",
    "    \n",
    "    for i in range(1, len(word)):\n",
    "        print(word[i], end='')\n",
    "    print(end=' ')"
   ]
  },
  {
   "cell_type": "markdown",
   "metadata": {},
   "source": [
    "#### 題目: 第一個字母，轉成大寫 ( 請以Function方式 )\n",
    "* 編寫一個函式capitalize（lower_case_word），該函數採用小寫單字並返回首字母大寫的單字。例如，print（capitalize（'word'））應該打印單字Word。\n",
    "* 然後，給定一行小寫句子，並使用自己的函式capitalize（）將每個單字的首字母大寫。\n",
    "* 範例:\n",
    " * input: we danced the mamushka at waterloo\n",
    " * output: We Danced The Mamushka At Waterloo"
   ]
  },
  {
   "cell_type": "code",
   "execution_count": 4,
   "metadata": {},
   "outputs": [
    {
     "name": "stdout",
     "output_type": "stream",
     "text": [
      "we danced the mamushka at waterloo\n",
      "We Danced The Mamushka At Waterloo "
     ]
    }
   ],
   "source": [
    "def Up_letter(word):\n",
    "    big = chr(ord(word) - ord('a') + ord('A'))\n",
    "    return big\n",
    "    \n",
    "s = input().split()\n",
    "\n",
    "for word in s:\n",
    "    print(Up_letter(word[0]), end='')\n",
    "    \n",
    "    for i in range(1, len(word)):\n",
    "        print(word[i], end='')\n",
    "    print(end = ' ')\n"
   ]
  },
  {
   "cell_type": "markdown",
   "metadata": {},
   "source": [
    "#### 題目: 將所有字母，轉成大寫 ( 請用剛剛完成的Function方式 )\n",
    "* 範例:\n",
    " * input: we danced the mamushka at waterloo\n",
    " * output: WE DANCED THE MAMUSHKA AT WATERLOO "
   ]
  },
  {
   "cell_type": "code",
   "execution_count": 6,
   "metadata": {},
   "outputs": [
    {
     "name": "stdout",
     "output_type": "stream",
     "text": [
      "we danced the mamushka at waterloo\n",
      "WE DANCED THE MAMUSHKA AT WATERLOO "
     ]
    }
   ],
   "source": [
    "def Up_letter(word):\n",
    "    big = chr(ord(word) - ord('a') + ord('A'))\n",
    "    return big\n",
    "    \n",
    "s = input().split()\n",
    "\n",
    "for word in s:\n",
    "    for i in range(len(word)):\n",
    "        print(Up_letter(word[i]), end='')\n",
    "    print(end = ' ')\n"
   ]
  },
  {
   "cell_type": "code",
   "execution_count": null,
   "metadata": {},
   "outputs": [],
   "source": [
    "x = 'we danced the mamushka at waterloo'\n",
    "print(x.upper())"
   ]
  },
  {
   "cell_type": "markdown",
   "metadata": {},
   "source": [
    "# -------------------------------------------------------------------------end"
   ]
  },
  {
   "cell_type": "code",
   "execution_count": null,
   "metadata": {},
   "outputs": [],
   "source": []
  },
  {
   "cell_type": "code",
   "execution_count": null,
   "metadata": {},
   "outputs": [],
   "source": []
  },
  {
   "cell_type": "markdown",
   "metadata": {},
   "source": [
    "# Argument Passing"
   ]
  },
  {
   "cell_type": "markdown",
   "metadata": {},
   "source": [
    "* Argument mutable or immutable (會不會改變)"
   ]
  },
  {
   "cell_type": "markdown",
   "metadata": {},
   "source": [
    "## Default Function Argument - Example"
   ]
  },
  {
   "cell_type": "code",
   "execution_count": 11,
   "metadata": {},
   "outputs": [
    {
     "name": "stdout",
     "output_type": "stream",
     "text": [
      "200\n",
      "100\n",
      "hello!it\n",
      "it\n"
     ]
    }
   ],
   "source": [
    "'''\n",
    "python的function 是屬於call by assignment, 由變數型態是 mutuable 或 immutable 決定\n",
    "是call by value or call by reference\n",
    "mutable belons to call by reference; immutable belons to call by value \n",
    "\n",
    "'''\n",
    "# immutable example\n",
    "\n",
    "a=100\n",
    "b='it'\n",
    "def fun(a):\n",
    "    '''vvvvvv'''\n",
    "    a*=2\n",
    "    print(a)\n",
    "\n",
    "    \n",
    "def fun_str(s):\n",
    "    s=\"hello!\"+s\n",
    "    print(s)\n",
    "\n",
    "fun(a)    \n",
    "print(a)\n",
    "\n",
    "fun_str(b)\n",
    "print(b)"
   ]
  },
  {
   "cell_type": "code",
   "execution_count": 12,
   "metadata": {},
   "outputs": [
    {
     "name": "stdout",
     "output_type": "stream",
     "text": [
      "[10, 20, 30]\n",
      "[100, 20, 30]\n"
     ]
    }
   ],
   "source": [
    "#function example : list is called by reference\n",
    "# parameter: list\n",
    "# mutable example\n",
    "\n",
    "def fun(a):\n",
    "    a[0]=100\n",
    "    #=a[0]\n",
    "\n",
    "\n",
    "mylist=[10,20,30]\n",
    "print(mylist)\n",
    "\n",
    "fun(mylist)\n",
    "print(mylist)"
   ]
  },
  {
   "cell_type": "code",
   "execution_count": 13,
   "metadata": {},
   "outputs": [
    {
     "name": "stdout",
     "output_type": "stream",
     "text": [
      "{'a': 5, 'b': 10}\n",
      "{'a': 10, 'b': 10}\n"
     ]
    }
   ],
   "source": [
    "#function example : dict is called by reference\n",
    "# parameter: dict\n",
    "# mutable example\n",
    "\n",
    "def fun1(a):\n",
    "    a['a'] = a['a'] * 2\n",
    "    \n",
    "\n",
    "mydict = {'a': 5, 'b': 10}\n",
    "print(mydict)\n",
    "\n",
    "fun1(mydict)\n",
    "print(mydict)"
   ]
  },
  {
   "cell_type": "markdown",
   "metadata": {},
   "source": [
    "# Default Argument Values"
   ]
  },
  {
   "cell_type": "code",
   "execution_count": 14,
   "metadata": {},
   "outputs": [
    {
     "name": "stdout",
     "output_type": "stream",
     "text": [
      "Do you really want to quit?h\n",
      "Please try again!\n",
      "Do you really want to quit?h\n",
      "Please try again!\n",
      "Do you really want to quit?h\n"
     ]
    },
    {
     "ename": "ValueError",
     "evalue": "invalid user response",
     "output_type": "error",
     "traceback": [
      "\u001b[1;31m---------------------------------------------------------------------------\u001b[0m",
      "\u001b[1;31mValueError\u001b[0m                                Traceback (most recent call last)",
      "\u001b[1;32m<ipython-input-14-0d242f766c8f>\u001b[0m in \u001b[0;36m<module>\u001b[1;34m\u001b[0m\n\u001b[0;32m     12\u001b[0m \u001b[1;33m\u001b[0m\u001b[0m\n\u001b[0;32m     13\u001b[0m \u001b[1;33m\u001b[0m\u001b[0m\n\u001b[1;32m---> 14\u001b[1;33m \u001b[0mask_ok\u001b[0m\u001b[1;33m(\u001b[0m\u001b[1;34m'Do you really want to quit?'\u001b[0m\u001b[1;33m)\u001b[0m\u001b[1;33m\u001b[0m\u001b[1;33m\u001b[0m\u001b[0m\n\u001b[0m",
      "\u001b[1;32m<ipython-input-14-0d242f766c8f>\u001b[0m in \u001b[0;36mask_ok\u001b[1;34m(prompt, retries, reminder)\u001b[0m\n\u001b[0;32m      8\u001b[0m         \u001b[0mretries\u001b[0m \u001b[1;33m=\u001b[0m \u001b[0mretries\u001b[0m \u001b[1;33m-\u001b[0m \u001b[1;36m1\u001b[0m\u001b[1;33m\u001b[0m\u001b[1;33m\u001b[0m\u001b[0m\n\u001b[0;32m      9\u001b[0m         \u001b[1;32mif\u001b[0m \u001b[0mretries\u001b[0m \u001b[1;33m<\u001b[0m \u001b[1;36m0\u001b[0m\u001b[1;33m:\u001b[0m\u001b[1;33m\u001b[0m\u001b[1;33m\u001b[0m\u001b[0m\n\u001b[1;32m---> 10\u001b[1;33m             \u001b[1;32mraise\u001b[0m \u001b[0mValueError\u001b[0m\u001b[1;33m(\u001b[0m\u001b[1;34m'invalid user response'\u001b[0m\u001b[1;33m)\u001b[0m\u001b[1;33m\u001b[0m\u001b[1;33m\u001b[0m\u001b[0m\n\u001b[0m\u001b[0;32m     11\u001b[0m         \u001b[0mprint\u001b[0m\u001b[1;33m(\u001b[0m\u001b[0mreminder\u001b[0m\u001b[1;33m)\u001b[0m\u001b[1;33m\u001b[0m\u001b[1;33m\u001b[0m\u001b[0m\n\u001b[0;32m     12\u001b[0m \u001b[1;33m\u001b[0m\u001b[0m\n",
      "\u001b[1;31mValueError\u001b[0m: invalid user response"
     ]
    }
   ],
   "source": [
    "\n",
    "def ask_ok(prompt, retries=2, reminder='Please try again!'):\n",
    "    while True:\n",
    "        ok = input(prompt)\n",
    "        if ok in ('y', 'ye', 'yes'):\n",
    "            return True\n",
    "        if ok in ('n', 'no', 'nop', 'nope'):\n",
    "            return False\n",
    "        retries = retries - 1\n",
    "        if retries < 0:\n",
    "            raise ValueError('invalid user response')\n",
    "        print(reminder)\n",
    "\n",
    "        \n",
    "ask_ok('Do you really want to quit?')"
   ]
  },
  {
   "cell_type": "code",
   "execution_count": null,
   "metadata": {},
   "outputs": [],
   "source": [
    "\n",
    "def ask_ok(prompt, retries=2, reminder='Please try again!'):\n",
    "    while True:\n",
    "        ok = input()  # input data as first argument (prompt)\n",
    "        if ok in ('y', 'ye', 'yes'):\n",
    "            return True\n",
    "        if ok in ('n', 'no', 'nop', 'nope'):\n",
    "            return False\n",
    "        retries = retries - 1\n",
    "        if retries < 0:\n",
    "            raise ValueError('invalid user response')\n",
    "        print(reminder)\n",
    "\n",
    "        \n",
    "ask_ok('Do you really want to quit?')"
   ]
  },
  {
   "cell_type": "code",
   "execution_count": 17,
   "metadata": {},
   "outputs": [
    {
     "name": "stdout",
     "output_type": "stream",
     "text": [
      "\n",
      "Please try again!\n",
      "y\n"
     ]
    },
    {
     "data": {
      "text/plain": [
       "True"
      ]
     },
     "execution_count": 17,
     "metadata": {},
     "output_type": "execute_result"
    }
   ],
   "source": [
    "\n",
    "def ask_ok(prompt, retries=2, reminder='Please try again!'):\n",
    "    while True:\n",
    "        ok = input()  # input data as first argument (prompt)\n",
    "        if ok in ('y', 'ye', 'yes'):\n",
    "            return True\n",
    "        if ok in ('n', 'no', 'nop', 'nope'):\n",
    "            return False\n",
    "        retries = retries - 1\n",
    "        if retries < 0:\n",
    "            raise ValueError('invalid user response')\n",
    "        print(reminder)\n",
    "\n",
    "        \n",
    "ask_ok('Do you really want to quit?', retries=1)"
   ]
  },
  {
   "cell_type": "markdown",
   "metadata": {},
   "source": [
    "# Default Argument Values - is evaluated at the point in the defining scope"
   ]
  },
  {
   "cell_type": "code",
   "execution_count": null,
   "metadata": {},
   "outputs": [],
   "source": [
    "# The default values are evaluated at the point of function definition in the defining scope\n",
    "\n",
    "i=5\n",
    "def f(arg=i):   # arg = i = 5\n",
    "    print(arg)\n",
    "\n",
    "i=6\n",
    "f()\n",
    "\n"
   ]
  },
  {
   "cell_type": "code",
   "execution_count": null,
   "metadata": {},
   "outputs": [],
   "source": [
    "# The default values are evaluated at the point of function definition in the defining scope\n",
    "\n",
    "i=5\n",
    "def f(arg=i):   # arg = 6\n",
    "    print(arg)\n",
    "\n",
    "i=6\n",
    "f(6)\n",
    "\n"
   ]
  },
  {
   "cell_type": "markdown",
   "metadata": {},
   "source": [
    "# Default Argument Values - is evaluated only once"
   ]
  },
  {
   "cell_type": "code",
   "execution_count": 9,
   "metadata": {},
   "outputs": [
    {
     "name": "stdout",
     "output_type": "stream",
     "text": [
      "[1]\n",
      "[1, 2]\n",
      "[1, 2, 3]\n",
      "-----------------\n",
      "[1]\n",
      "[2]\n",
      "[3]\n"
     ]
    }
   ],
   "source": [
    "def f1(a, L=[]):\n",
    "    #print(type(L),id(L))\n",
    "    \n",
    "    L.append(a)\n",
    "    return L\n",
    "\n",
    "def f2(a, L= None):\n",
    "    if L is None:\n",
    "        L = []\n",
    "    L.append(a)\n",
    "    return L\n",
    "\n",
    "print(f1(1))\n",
    "print(f1(2))\n",
    "print(f1(3))\n",
    "\n",
    "print('-----------------')\n",
    "print(f2(1))\n",
    "print(f2(2))\n",
    "print(f2(3))\n"
   ]
  },
  {
   "cell_type": "code",
   "execution_count": 10,
   "metadata": {},
   "outputs": [
    {
     "name": "stdout",
     "output_type": "stream",
     "text": [
      "[1] 1834017621248\n",
      "[1, 2] 1834017621248\n",
      "[1, 2, 3] 1834017621248\n",
      "-----------------\n",
      "[1] 1834017621504\n",
      "[2] 1834017621568\n",
      "[3] 1834017621824\n"
     ]
    }
   ],
   "source": [
    "import pprint\n",
    "\n",
    "\n",
    "def f1(a, L=[]):\n",
    "    #print(type(L),id(L))\n",
    "    \n",
    "    L.append(a)\n",
    "    return L\n",
    "\n",
    "def f2(a, L= None):\n",
    "    if L is None:\n",
    "        L = []\n",
    "    L.append(a)\n",
    "    return L\n",
    "\n",
    "\n",
    "list1=f1(1) ;     print(list1, id(list1))\n",
    "list2=f1(2) ;     print(list2, id(list2))\n",
    "list3=f1(3) ;     print(list3, id(list3))\n",
    "\n",
    "print('-----------------')\n",
    "list1=f2(1) ;     print(list1, id(list1))\n",
    "list2=f2(2) ;     print(list2, id(list2))\n",
    "list3=f2(3) ;     print(list3, id(list3))\n"
   ]
  },
  {
   "cell_type": "markdown",
   "metadata": {},
   "source": [
    "# Keyword Arguments"
   ]
  },
  {
   "cell_type": "code",
   "execution_count": 18,
   "metadata": {},
   "outputs": [
    {
     "name": "stdout",
     "output_type": "stream",
     "text": [
      "-- This parrot wouldn't voom if you put 1000 volts through it.\n"
     ]
    }
   ],
   "source": [
    "def parrot(voltage, state='a stiff', action='voom', type='Norwegian Blue'):\n",
    "    print(\"-- This parrot wouldn't\", action, end=' ')\n",
    "    print(\"if you put\", voltage, \"volts through it.\") \n",
    "    \n",
    "parrot(1000)                                          # 1 positional argument\n"
   ]
  },
  {
   "cell_type": "code",
   "execution_count": 19,
   "metadata": {},
   "outputs": [
    {
     "name": "stdout",
     "output_type": "stream",
     "text": [
      "-- This parrot wouldn't voom if you put 1000 volts through it.\n",
      "-- Lovely plumage, the Norwegian Blue\n",
      "-- It's a stiff !\n"
     ]
    }
   ],
   "source": [
    "def parrot(voltage, state='a stiff', action='voom', type='Norwegian Blue'):\n",
    "    print(\"-- This parrot wouldn't\", action, end=' ')\n",
    "    print(\"if you put\", voltage, \"volts through it.\")\n",
    "    print(\"-- Lovely plumage, the\", type)\n",
    "    print(\"-- It's\", state, \"!\")\n",
    "    \n",
    "    \n",
    "parrot(1000)                                          # 1 positional argument\n"
   ]
  },
  {
   "cell_type": "code",
   "execution_count": 20,
   "metadata": {},
   "outputs": [
    {
     "name": "stdout",
     "output_type": "stream",
     "text": [
      "-- This parrot wouldn't voom if you put 1000 volts through it.\n",
      "-- Lovely plumage, the Norwegian Blue\n",
      "-- It's a stiff !\n",
      "-----------------------------\n",
      "-- This parrot wouldn't voom if you put 1000 volts through it.\n",
      "-- Lovely plumage, the Norwegian Blue\n",
      "-- It's a stiff !\n",
      "-----------------------------\n",
      "-- This parrot wouldn't VOOOOOM if you put 1000000 volts through it.\n",
      "-- Lovely plumage, the Norwegian Blue\n",
      "-- It's a stiff !\n"
     ]
    }
   ],
   "source": [
    "def parrot(voltage, state='a stiff', action='voom', type='Norwegian Blue'):\n",
    "    print(\"-- This parrot wouldn't\", action, end=' ')\n",
    "    print(\"if you put\", voltage, \"volts through it.\")\n",
    "    print(\"-- Lovely plumage, the\", type)\n",
    "    print(\"-- It's\", state, \"!\")\n",
    "    \n",
    "    \n",
    "parrot(1000)                                          # 1 positional argument\n",
    "print('-----------------------------')\n",
    "\n",
    "parrot(voltage=1000)                                  # 1 keyword argument\n",
    "print('-----------------------------')\n",
    "\n",
    "parrot(voltage=1000000, action='VOOOOOM')             # 2 keyword arguments\n"
   ]
  },
  {
   "cell_type": "code",
   "execution_count": 21,
   "metadata": {},
   "outputs": [
    {
     "name": "stdout",
     "output_type": "stream",
     "text": [
      "-- This parrot wouldn't VOOOOOM if you put 1000000 volts through it.\n",
      "-- Lovely plumage, the Norwegian Blue\n",
      "-- It's a stiff !\n",
      "-----------------------------\n",
      "-- This parrot wouldn't jump if you put a million volts through it.\n",
      "-- Lovely plumage, the Norwegian Blue\n",
      "-- It's bereft of life !\n",
      "-----------------------------\n",
      "-- This parrot wouldn't voom if you put a thousand volts through it.\n",
      "-- Lovely plumage, the Norwegian Blue\n",
      "-- It's pushing up the daisies !\n"
     ]
    }
   ],
   "source": [
    "def parrot(voltage, state='a stiff', action='voom', type='Norwegian Blue'):\n",
    "    print(\"-- This parrot wouldn't\", action, end=' ')\n",
    "    print(\"if you put\", voltage, \"volts through it.\")\n",
    "    print(\"-- Lovely plumage, the\", type)\n",
    "    print(\"-- It's\", state, \"!\")\n",
    "    \n",
    "parrot(action='VOOOOOM', voltage=1000000)             # 2 keyword arguments\n",
    "print('-----------------------------')\n",
    "\n",
    "parrot('a million', 'bereft of life', 'jump')         # 3 positional arguments\n",
    "print('-----------------------------')\n",
    "\n",
    "parrot('a thousand', state='pushing up the daisies')  # 1 positional, 1 keyword\n"
   ]
  },
  {
   "cell_type": "code",
   "execution_count": 22,
   "metadata": {},
   "outputs": [],
   "source": [
    "# Error Case:\n",
    "\n",
    "def parrot(voltage, state='a stiff', action='voom', type='Norwegian Blue'):\n",
    "    print(\"-- This parrot wouldn't\", action, end=' ')\n",
    "    print(\"if you put\", voltage, \"volts through it.\")\n",
    "    print(\"-- Lovely plumage, the\", type)\n",
    "    print(\"-- It's\", state, \"!\")\n",
    "\n",
    "\n",
    "#parrot()                     # required argument missing\n",
    "#parrot(voltage=5.0, 'dead')  # non-keyword argument after a keyword argument\n",
    "#parrot(110, voltage=220)     # duplicate value for the same argument\n",
    "#parrot(actor='John Cleese')  # unknown keyword argument\n"
   ]
  },
  {
   "cell_type": "markdown",
   "metadata": {},
   "source": [
    "# 動手做 --------------------------------------------------------------------"
   ]
  },
  {
   "cell_type": "markdown",
   "metadata": {},
   "source": [
    "#### 題目:  修正以下函式中參數的錯誤\n",
    "* 需要輸入一個值，自動加總 a=5 與 c=20 的固定值後，列印正確的結果\n",
    "* 範例:\n",
    " * input: 5\n",
    " * output: 30"
   ]
  },
  {
   "cell_type": "code",
   "execution_count": null,
   "metadata": {},
   "outputs": [],
   "source": [
    "#修正錯誤\n",
    "\n",
    "def add(a=5, b, c=20):\n",
    "    return a+b+c\n",
    "\n",
    "x = int(input())\n",
    "print(add())"
   ]
  },
  {
   "cell_type": "code",
   "execution_count": 7,
   "metadata": {},
   "outputs": [
    {
     "name": "stdout",
     "output_type": "stream",
     "text": [
      "5\n",
      "30\n"
     ]
    }
   ],
   "source": [
    "#正確方法之一\n",
    "\n",
    "def add(b, a=5,  c=20):\n",
    "    return a+b+c\n",
    "\n",
    "x = int(input())\n",
    "print(add(x))"
   ]
  },
  {
   "cell_type": "markdown",
   "metadata": {},
   "source": [
    "# -------------------------------------------------------------------------end"
   ]
  },
  {
   "cell_type": "code",
   "execution_count": null,
   "metadata": {},
   "outputs": [],
   "source": []
  },
  {
   "cell_type": "markdown",
   "metadata": {},
   "source": [
    "# Arbitrary Argument Lists"
   ]
  },
  {
   "cell_type": "code",
   "execution_count": 9,
   "metadata": {},
   "outputs": [
    {
     "name": "stdout",
     "output_type": "stream",
     "text": [
      "----------------------------------------\n",
      "10\n",
      "20\n",
      "30\n"
     ]
    }
   ],
   "source": [
    "#不定量參數寫法\n",
    "\n",
    "def test(*arguments, **keywords):\n",
    "#    print(value)\n",
    "    print(\"-\" * 40)\n",
    "    \n",
    "    for arg in arguments:\n",
    "        print(arg)\n",
    "\n",
    "        \n",
    "test(10, 20, 30, a=100, b=200, c=300)\n"
   ]
  },
  {
   "cell_type": "code",
   "execution_count": 8,
   "metadata": {},
   "outputs": [
    {
     "name": "stdout",
     "output_type": "stream",
     "text": [
      "10\n",
      "----------------------------------------\n",
      "20\n",
      "30\n"
     ]
    }
   ],
   "source": [
    "#不定量參數寫法\n",
    "\n",
    "def test(value, *arguments, **keywords):\n",
    "    print(value)\n",
    "    print(\"-\" * 40)\n",
    "    \n",
    "    for arg in arguments:\n",
    "        print(arg)\n",
    "\n",
    "        \n",
    "test(10, 20, 30, a=100, b=200, c=300)\n"
   ]
  },
  {
   "cell_type": "code",
   "execution_count": 10,
   "metadata": {},
   "outputs": [
    {
     "name": "stdout",
     "output_type": "stream",
     "text": [
      "10\n",
      "20\n",
      "30\n",
      "----------------------------------------\n",
      "a : 100\n",
      "b : 200\n",
      "c : 300\n"
     ]
    }
   ],
   "source": [
    "#不定量參數寫法\n",
    "\n",
    "def test(value, *arguments, **keywords):\n",
    "    print(value)\n",
    "    \n",
    "    for arg in arguments:\n",
    "        print(arg)\n",
    "        \n",
    "    print(\"-\" * 40)\n",
    "    \n",
    "    for kw in keywords:\n",
    "        print(kw, \":\", keywords[kw])\n",
    "        \n",
    "        \n",
    "test(10, 20, 30, a=100, b=200, c=300)\n"
   ]
  },
  {
   "cell_type": "code",
   "execution_count": 25,
   "metadata": {},
   "outputs": [
    {
     "name": "stdout",
     "output_type": "stream",
     "text": [
      "10\n",
      "20\n",
      "30\n",
      "300\n",
      "----------------------------------------\n",
      "a : 100\n",
      "b : 200\n",
      "c : 300\n",
      "d : 500\n"
     ]
    }
   ],
   "source": [
    "#不定量參數寫法\n",
    "\n",
    "def test(value, *arguments, **keywords):\n",
    "    print(value)\n",
    "    \n",
    "    for arg in arguments:\n",
    "        print(arg)\n",
    "    \n",
    "    print(\"-\" * 40)\n",
    "    for kw in keywords:\n",
    "        print(kw, \":\", keywords[kw])\n",
    "        \n",
    "\n",
    "test(10, 20, 30, 300, a=100, b=200, c=300, d=500)\n"
   ]
  },
  {
   "cell_type": "code",
   "execution_count": null,
   "metadata": {},
   "outputs": [],
   "source": []
  },
  {
   "cell_type": "markdown",
   "metadata": {},
   "source": [
    "# 動手做 --------------------------------------------------------------------"
   ]
  },
  {
   "cell_type": "markdown",
   "metadata": {},
   "source": [
    "#### 題目: 運用'不定量參數' 將所有資料印出\n",
    "* 輸入三個兒童的名字，分別輸出兒童的相關資訊。\n",
    "\n",
    "* 範例:\n",
    " * def my_function(*kids):\n",
    " * input: John, David, Linus\n",
    " * Output:  \n",
    "   * The youngest child is Linus\n",
    "   * The children include: John David Linus "
   ]
  },
  {
   "cell_type": "code",
   "execution_count": 8,
   "metadata": {},
   "outputs": [
    {
     "name": "stdout",
     "output_type": "stream",
     "text": [
      "The youngest child is Linus\n",
      "The children include: John David Linus "
     ]
    }
   ],
   "source": [
    "def my_function(*kids):\n",
    "    print(\"The youngest child is \" + kids[2])\n",
    "    \n",
    "    print(\"The children include: \", end='')\n",
    "    for k in kids:\n",
    "        print(k, end=' ')\n",
    "\n",
    "        \n",
    "data = [\"John\", \"David\", \"Linus\"]\n",
    "my_function(data[0], data[1], data[2])"
   ]
  },
  {
   "cell_type": "code",
   "execution_count": 7,
   "metadata": {},
   "outputs": [
    {
     "name": "stdout",
     "output_type": "stream",
     "text": [
      "John, David, Linus\n",
      "The youngest child is  Linus\n",
      "The children include: John,  David,  Linus, "
     ]
    }
   ],
   "source": [
    "def my_function(*kids):\n",
    "    print(\"The youngest child is \" + kids[2])\n",
    "    \n",
    "    print(\"The children include: \", end='')\n",
    "    for k in kids:\n",
    "        print(k, end=' ')\n",
    "\n",
    "        \n",
    "a,b,c = map(str, input().split(','))\n",
    "my_function(a, b, c)"
   ]
  },
  {
   "cell_type": "markdown",
   "metadata": {},
   "source": [
    "# -------------------------------------------------------------------------end"
   ]
  },
  {
   "cell_type": "code",
   "execution_count": null,
   "metadata": {},
   "outputs": [],
   "source": []
  },
  {
   "cell_type": "code",
   "execution_count": null,
   "metadata": {},
   "outputs": [],
   "source": []
  },
  {
   "cell_type": "code",
   "execution_count": null,
   "metadata": {},
   "outputs": [],
   "source": []
  },
  {
   "cell_type": "markdown",
   "metadata": {},
   "source": [
    "# Arbitrary Argument Lists - sep = \"/\""
   ]
  },
  {
   "cell_type": "code",
   "execution_count": 26,
   "metadata": {},
   "outputs": [
    {
     "name": "stdout",
     "output_type": "stream",
     "text": [
      "earth/mars/venus/earth/mars/venus\n",
      "earth.mars.venus\n"
     ]
    }
   ],
   "source": [
    "def concat(*args, sep=\"/\"):\n",
    "    return sep.join(args)\n",
    "\n",
    "str1 = concat(\"earth\", \"mars\", \"venus\", 'earth/mars/venus')\n",
    "print(str1)\n",
    "\n",
    "str1 = concat(\"earth\", \"mars\", \"venus\", sep=\".\")\n",
    "print(str1)"
   ]
  },
  {
   "cell_type": "code",
   "execution_count": 27,
   "metadata": {},
   "outputs": [
    {
     "name": "stdout",
     "output_type": "stream",
     "text": [
      "a-b-c\n",
      "-------------------------\n",
      "1,2,3,4,5\n",
      "<class 'str'>\n",
      "-------------------------\n",
      "['1', '2', '3', '4', '5']\n",
      "<class 'list'>\n"
     ]
    }
   ],
   "source": [
    "str = '-'\n",
    "seq = ['a', 'b', 'c']\n",
    "v = str.join(seq)\n",
    "print(v)\n",
    "\n",
    "print('-------------------------')\n",
    "\n",
    "s = \",\".join(['1', '2', '3', '4', '5'])\n",
    "print(s)\n",
    "print(type(s))\n",
    "\n",
    "print('-------------------------')\n",
    "\n",
    "t = s.split(',')\n",
    "print(t)\n",
    "print(type(t))"
   ]
  },
  {
   "cell_type": "code",
   "execution_count": null,
   "metadata": {},
   "outputs": [],
   "source": []
  },
  {
   "cell_type": "markdown",
   "metadata": {},
   "source": [
    "# 動手做 --------------------------------------------------------------------"
   ]
  },
  {
   "cell_type": "markdown",
   "metadata": {},
   "source": [
    "#### 題目: 填入正確內容，產出以下結果\n",
    "\n",
    "* 範例:\n",
    " * output: earth-->mars-->venus"
   ]
  },
  {
   "cell_type": "code",
   "execution_count": 12,
   "metadata": {},
   "outputs": [
    {
     "name": "stdout",
     "output_type": "stream",
     "text": [
      "earth-->mars-->venus\n"
     ]
    }
   ],
   "source": [
    "def connection(*args, sep=\"-->\"):\n",
    "    return sep.join(args)\n",
    "\n",
    "str1 = connection(\"earth\", \"mars\", \"venus\")\n",
    "print(str1)"
   ]
  },
  {
   "cell_type": "markdown",
   "metadata": {},
   "source": [
    "# -------------------------------------------------------------------------end"
   ]
  },
  {
   "cell_type": "code",
   "execution_count": null,
   "metadata": {},
   "outputs": [],
   "source": []
  },
  {
   "cell_type": "code",
   "execution_count": null,
   "metadata": {},
   "outputs": [],
   "source": []
  },
  {
   "cell_type": "markdown",
   "metadata": {},
   "source": [
    "# Unpacking Argument Lists"
   ]
  },
  {
   "cell_type": "code",
   "execution_count": 28,
   "metadata": {},
   "outputs": [
    {
     "name": "stdout",
     "output_type": "stream",
     "text": [
      "3 6\n",
      "[3, 4, 5]\n"
     ]
    }
   ],
   "source": [
    "args = [3, 6]\n",
    "\n",
    "print(*args)\n",
    "\n",
    "print(list(range(*args)))   # as range(3, 6)  ; call with arguments unpacked from a list\n"
   ]
  },
  {
   "cell_type": "code",
   "execution_count": 29,
   "metadata": {},
   "outputs": [
    {
     "name": "stdout",
     "output_type": "stream",
     "text": [
      "a 100\n",
      "b 200\n",
      "c 300\n"
     ]
    }
   ],
   "source": [
    "\n",
    "def test(**keywords):\n",
    "    for kw in keywords:\n",
    "        print(kw, keywords[kw])\n",
    "\n",
    "test(a=100, b=200, c=300)"
   ]
  },
  {
   "cell_type": "code",
   "execution_count": 30,
   "metadata": {},
   "outputs": [
    {
     "name": "stdout",
     "output_type": "stream",
     "text": [
      "a : 100\n",
      "b : 200\n",
      "c : 300\n",
      "-------------------------\n",
      "a : 100\n",
      "b : 200\n",
      "c : 300\n"
     ]
    }
   ],
   "source": [
    "\n",
    "def test(**keywords):\n",
    "    for kw in keywords:\n",
    "        print(kw, \":\", keywords[kw])\n",
    "\n",
    "test(a=100, b=200, c=300)\n",
    "\n",
    "print('-------------------------')\n",
    "\n",
    "dict1={\"a\":100, \"b\":200, \"c\":300}\n",
    "test(**dict1)"
   ]
  },
  {
   "cell_type": "code",
   "execution_count": null,
   "metadata": {},
   "outputs": [],
   "source": []
  },
  {
   "cell_type": "code",
   "execution_count": null,
   "metadata": {},
   "outputs": [],
   "source": []
  },
  {
   "cell_type": "markdown",
   "metadata": {},
   "source": [
    "# Name Scope - LEGB Rule"
   ]
  },
  {
   "cell_type": "code",
   "execution_count": 37,
   "metadata": {},
   "outputs": [
    {
     "name": "stdout",
     "output_type": "stream",
     "text": [
      "x = 100\n",
      "x = 10\n"
     ]
    }
   ],
   "source": [
    "#LEGB Rule\n",
    "x = 10  \n",
    "\n",
    "def outer():\n",
    "    #global x\n",
    "    x = 100\n",
    "    print(\"x =\", x) \n",
    "    \n",
    "outer()\n",
    "print(\"x =\", x)       "
   ]
  },
  {
   "cell_type": "code",
   "execution_count": 36,
   "metadata": {},
   "outputs": [
    {
     "name": "stdout",
     "output_type": "stream",
     "text": [
      "x = 100\n",
      "x = 100\n"
     ]
    }
   ],
   "source": [
    "#LEGB Rule\n",
    "x = 10  \n",
    "\n",
    "def outer():\n",
    "    global x\n",
    "    x = 100\n",
    "    print(\"x =\", x) \n",
    "    \n",
    "outer()\n",
    "print(\"x =\", x)       "
   ]
  },
  {
   "cell_type": "code",
   "execution_count": 38,
   "metadata": {},
   "outputs": [
    {
     "name": "stdout",
     "output_type": "stream",
     "text": [
      "x = 40\n",
      "y = 20\n",
      "x = 100\n",
      "x = 40\n"
     ]
    }
   ],
   "source": [
    "#LEGB Rule\n",
    "x = 10  \n",
    "y = 50\n",
    "\n",
    "def outer():\n",
    "    x = 100\n",
    "    y = 20        # 在 outer() 函式範圍\n",
    "    \n",
    "    def inner():\n",
    "        z = 30    # 在 inner() 函式範圍\n",
    "        \n",
    "        #nonlocal x\n",
    "        global x\n",
    "        x=40\n",
    "        print(\"x =\", x)  # 內建範圍 print，全域的 x\n",
    "        print(\"y =\", y)  # 內建範圍 print，外包 outer() 函式的 y\n",
    "        \n",
    "    inner()\n",
    "    print(\"x =\", x)   # 在 outer() 函式範圍，local first (LEGB rule)\n",
    "\n",
    "outer()\n",
    "print(\"x =\", x)       "
   ]
  },
  {
   "cell_type": "code",
   "execution_count": 39,
   "metadata": {},
   "outputs": [
    {
     "name": "stdout",
     "output_type": "stream",
     "text": [
      "global mylist = []\n",
      "inner b = [1, 100]\n",
      "outer b = [1, 100]\n",
      "global mylist = [1, 100]\n"
     ]
    }
   ],
   "source": [
    "#list is mutable, call by reference\n",
    "\n",
    "def outer(): \n",
    "    def inner(): \n",
    "        #nonlocal b\n",
    "        b.append(100) \n",
    "        print(\"inner b =\", b) \n",
    "\n",
    "    b.append(1) \n",
    "    inner() \n",
    "    print(\"outer b =\", b) \n",
    "\n",
    "b=[]\n",
    "\n",
    "print(\"global mylist =\", b) \n",
    "outer() \n",
    "print(\"global mylist =\", b)"
   ]
  },
  {
   "cell_type": "markdown",
   "metadata": {},
   "source": [
    "# Name Scope - UnboundleLocalError"
   ]
  },
  {
   "cell_type": "code",
   "execution_count": 40,
   "metadata": {},
   "outputs": [
    {
     "name": "stdout",
     "output_type": "stream",
     "text": [
      "10\n",
      "10\n",
      "10\n"
     ]
    }
   ],
   "source": [
    "\n",
    "x = 10\n",
    "\n",
    "def myfun():\n",
    "    print(x) \n",
    "      \n",
    "print(x)\n",
    "myfun()\n",
    "print(x)\n"
   ]
  },
  {
   "cell_type": "code",
   "execution_count": 41,
   "metadata": {},
   "outputs": [
    {
     "name": "stdout",
     "output_type": "stream",
     "text": [
      "10\n",
      "20\n",
      "10\n"
     ]
    }
   ],
   "source": [
    "\n",
    "x = 10\n",
    "\n",
    "def myfun():\n",
    "    x=20\n",
    "    print(x) \n",
    "      \n",
    "print(x)\n",
    "myfun()\n",
    "print(x)\n"
   ]
  },
  {
   "cell_type": "code",
   "execution_count": null,
   "metadata": {},
   "outputs": [],
   "source": [
    "#global \n",
    "\n",
    "x = 10\n",
    "\n",
    "def myfun():\n",
    "    global x\n",
    "    x=20\n",
    "    print(x) \n",
    "      \n",
    "print(x)\n",
    "myfun()\n",
    "print(x)\n"
   ]
  },
  {
   "cell_type": "code",
   "execution_count": 42,
   "metadata": {},
   "outputs": [
    {
     "name": "stdout",
     "output_type": "stream",
     "text": [
      "10\n"
     ]
    },
    {
     "ename": "UnboundLocalError",
     "evalue": "local variable 'x' referenced before assignment",
     "output_type": "error",
     "traceback": [
      "\u001b[1;31m---------------------------------------------------------------------------\u001b[0m",
      "\u001b[1;31mUnboundLocalError\u001b[0m                         Traceback (most recent call last)",
      "\u001b[1;32m<ipython-input-42-4106301fe56f>\u001b[0m in \u001b[0;36m<module>\u001b[1;34m\u001b[0m\n\u001b[0;32m     10\u001b[0m \u001b[1;33m\u001b[0m\u001b[0m\n\u001b[0;32m     11\u001b[0m \u001b[0mprint\u001b[0m\u001b[1;33m(\u001b[0m\u001b[0mx\u001b[0m\u001b[1;33m)\u001b[0m\u001b[1;33m\u001b[0m\u001b[1;33m\u001b[0m\u001b[0m\n\u001b[1;32m---> 12\u001b[1;33m \u001b[0mmyfun\u001b[0m\u001b[1;33m(\u001b[0m\u001b[1;33m)\u001b[0m\u001b[1;33m\u001b[0m\u001b[1;33m\u001b[0m\u001b[0m\n\u001b[0m\u001b[0;32m     13\u001b[0m \u001b[0mprint\u001b[0m\u001b[1;33m(\u001b[0m\u001b[0mx\u001b[0m\u001b[1;33m)\u001b[0m\u001b[1;33m\u001b[0m\u001b[1;33m\u001b[0m\u001b[0m\n",
      "\u001b[1;32m<ipython-input-42-4106301fe56f>\u001b[0m in \u001b[0;36mmyfun\u001b[1;34m()\u001b[0m\n\u001b[0;32m      5\u001b[0m \u001b[1;32mdef\u001b[0m \u001b[0mmyfun\u001b[0m\u001b[1;33m(\u001b[0m\u001b[1;33m)\u001b[0m\u001b[1;33m:\u001b[0m\u001b[1;33m\u001b[0m\u001b[1;33m\u001b[0m\u001b[0m\n\u001b[0;32m      6\u001b[0m     \u001b[1;31m#global x    #without global x, local variable 'x' referenced before assignment\u001b[0m\u001b[1;33m\u001b[0m\u001b[1;33m\u001b[0m\u001b[1;33m\u001b[0m\u001b[0m\n\u001b[1;32m----> 7\u001b[1;33m     \u001b[0mprint\u001b[0m\u001b[1;33m(\u001b[0m\u001b[0mx\u001b[0m\u001b[1;33m)\u001b[0m\u001b[1;33m\u001b[0m\u001b[1;33m\u001b[0m\u001b[0m\n\u001b[0m\u001b[0;32m      8\u001b[0m     \u001b[0mx\u001b[0m\u001b[1;33m=\u001b[0m\u001b[1;36m20\u001b[0m\u001b[1;33m\u001b[0m\u001b[1;33m\u001b[0m\u001b[0m\n\u001b[0;32m      9\u001b[0m \u001b[1;33m\u001b[0m\u001b[0m\n",
      "\u001b[1;31mUnboundLocalError\u001b[0m: local variable 'x' referenced before assignment"
     ]
    }
   ],
   "source": [
    "#UnboundLocalError\n",
    "\n",
    "x = 10\n",
    "\n",
    "def myfun():\n",
    "    #global x    #without global x, local variable 'x' referenced before assignment\n",
    "    print(x) \n",
    "    x=20\n",
    "    \n",
    "      \n",
    "print(x)\n",
    "myfun()\n",
    "print(x)\n"
   ]
  },
  {
   "cell_type": "markdown",
   "metadata": {},
   "source": [
    "# # Name Scope - UnboundleLocalError - “access” non-local variable"
   ]
  },
  {
   "cell_type": "code",
   "execution_count": 43,
   "metadata": {},
   "outputs": [
    {
     "name": "stdout",
     "output_type": "stream",
     "text": [
      "a = 5\n",
      "b = 300\n",
      "----- myfun -----\n",
      "a = 10\n",
      "b = 400\n",
      "----- after -----\n",
      "a = 5\n",
      "b = 400\n"
     ]
    }
   ],
   "source": [
    "#You can “access” non-local variable without specifically declare it, but you have to declare it to change it.\n",
    "\n",
    "a=5\n",
    "b=300\n",
    "\n",
    "def myfun():\n",
    "    global b\n",
    "    a = 10\n",
    "    b = 400\n",
    "    print(\"a =\", a)\n",
    "    print(\"b =\", b)\n",
    "    \n",
    "print(\"a =\", a)\n",
    "print(\"b =\", b)\n",
    "print('----- myfun -----')\n",
    "\n",
    "myfun()\n",
    "print('----- after -----')\n",
    "\n",
    "print(\"a =\", a)\n",
    "print(\"b =\", b)"
   ]
  },
  {
   "cell_type": "code",
   "execution_count": null,
   "metadata": {},
   "outputs": [],
   "source": []
  },
  {
   "cell_type": "markdown",
   "metadata": {},
   "source": [
    "# Enclosing Functions"
   ]
  },
  {
   "cell_type": "code",
   "execution_count": 45,
   "metadata": {},
   "outputs": [
    {
     "name": "stdout",
     "output_type": "stream",
     "text": [
      "2\n"
     ]
    }
   ],
   "source": [
    "i=1\n",
    "def l1():\n",
    "    i=2\n",
    "    \n",
    "    def l2():\n",
    "        print(i)\n",
    "    \n",
    "    l2()\n",
    "l1()\n"
   ]
  },
  {
   "cell_type": "markdown",
   "metadata": {},
   "source": [
    "# nonlocal :在函數或其他作用域中使用外層(非全域)變數\n"
   ]
  },
  {
   "cell_type": "code",
   "execution_count": 46,
   "metadata": {},
   "outputs": [
    {
     "name": "stdout",
     "output_type": "stream",
     "text": [
      "global a = 10\n",
      "inner a = 111\n",
      "outer a = 111\n",
      "global a = 10\n"
     ]
    }
   ],
   "source": [
    "def outer(a): \n",
    "    def inner(): \n",
    "        nonlocal a   # 只改變外層一層的結果\n",
    "        a += 100 \n",
    "        print(\"inner a =\", a) \n",
    " \n",
    "    a += 1 \n",
    "    inner() \n",
    "    print(\"outer a =\", a) # 沿用內層的結果\n",
    "\n",
    "a=10 \n",
    "print(\"global a =\", a) \n",
    "outer(a) \n",
    "print(\"global a =\", a)"
   ]
  },
  {
   "cell_type": "code",
   "execution_count": 47,
   "metadata": {},
   "outputs": [
    {
     "name": "stdout",
     "output_type": "stream",
     "text": [
      "global a = 10\n",
      "inner a = 110\n",
      "outer a = 11\n",
      "global a = 110\n"
     ]
    }
   ],
   "source": [
    "def outer(a): \n",
    "    def inner(): \n",
    "        global a\n",
    "        a += 100 \n",
    "        print(\"inner a =\", a) \n",
    " \n",
    "    a += 1 \n",
    "    inner() \n",
    "    print(\"outer a =\", a) \n",
    "\n",
    "a=10 \n",
    "print(\"global a =\", a) \n",
    "outer(a) \n",
    "print(\"global a =\", a)"
   ]
  },
  {
   "cell_type": "code",
   "execution_count": null,
   "metadata": {},
   "outputs": [],
   "source": []
  },
  {
   "cell_type": "markdown",
   "metadata": {},
   "source": [
    "# Lamda and Closure"
   ]
  },
  {
   "cell_type": "code",
   "execution_count": 48,
   "metadata": {},
   "outputs": [
    {
     "name": "stdout",
     "output_type": "stream",
     "text": [
      "100\n"
     ]
    }
   ],
   "source": [
    "square = lambda x: x**2\n",
    "print(square(10))\n"
   ]
  },
  {
   "cell_type": "code",
   "execution_count": 49,
   "metadata": {},
   "outputs": [
    {
     "name": "stdout",
     "output_type": "stream",
     "text": [
      "6\n",
      "------------------------\n",
      "6\n"
     ]
    }
   ],
   "source": [
    "#lamda function\n",
    "#Python提供了一個簡易的function define：lambda，用完即丟，不著痕跡。讓你實作出很簡單的function(只處理一個運算)\n",
    "\n",
    "def func(x, y, z):\n",
    "    return x + y + z\n",
    "\n",
    "print(func(1,2,3))\n",
    "\n",
    "print('------------------------')\n",
    "\n",
    "\n",
    "func2 = lambda x,y,z : x+y+z\n",
    "\n",
    "print(func2(1,2,3))\n",
    "\n"
   ]
  },
  {
   "cell_type": "code",
   "execution_count": 50,
   "metadata": {},
   "outputs": [
    {
     "name": "stdout",
     "output_type": "stream",
     "text": [
      "60\n",
      "70\n"
     ]
    }
   ],
   "source": [
    "def make_incrementor(n):\n",
    "    return lambda x: x + n\n",
    "\n",
    "f = make_incrementor(50)  # passing to n\n",
    "print(f(10)) # passing to x\n",
    "print(f(20))\n"
   ]
  },
  {
   "cell_type": "markdown",
   "metadata": {},
   "source": [
    "# Lamda & map function"
   ]
  },
  {
   "cell_type": "code",
   "execution_count": 51,
   "metadata": {},
   "outputs": [
    {
     "name": "stdout",
     "output_type": "stream",
     "text": [
      "[1, 4, 9]\n"
     ]
    }
   ],
   "source": [
    "#map function\n",
    "#lamda 也可以應用在map上\n",
    "\n",
    "my_list = [1, 2, 3]\n",
    "\n",
    "ans = list(map( lambda i: i * i, my_list ))  #須要轉成list, 才能卬出\n",
    "\n",
    "print(ans)   #[1, 4, 9]"
   ]
  },
  {
   "cell_type": "code",
   "execution_count": null,
   "metadata": {},
   "outputs": [],
   "source": [
    "\n",
    "a = [1, 2, 3, 4]\n",
    "b = [17, 12]\n",
    "c = [-1, -4, 5, 9]\n",
    "\n",
    "print(list(map(lambda x,y: x, a,b)))\n",
    "\n",
    "#lamda 須要2個數兩個參數\n",
    "print(list(map(lambda x,y: x+y, a,b)))    #[18, 14, 14, 14] ; 5 is ignored\n",
    "\n",
    "\n",
    "#lamda 須要3個數兩個參數\n",
    "print(list(map(lambda x,y,z: x+y+z, a,b,c)))   #[17, 10, 19, 23]\n"
   ]
  },
  {
   "cell_type": "markdown",
   "metadata": {},
   "source": [
    "# Generator and yield"
   ]
  },
  {
   "cell_type": "code",
   "execution_count": 52,
   "metadata": {},
   "outputs": [
    {
     "name": "stdout",
     "output_type": "stream",
     "text": [
      "<class 'generator'>\n"
     ]
    }
   ],
   "source": [
    "def yrange(n):\n",
    "    i = 0\n",
    "    while i < n:\n",
    "        x = yield i   # 用yield來產生值，yield像是return會傳回值\n",
    "        i += 1\n",
    "\n",
    "b = yrange(10)\n",
    "print(type(b))"
   ]
  },
  {
   "cell_type": "code",
   "execution_count": 53,
   "metadata": {},
   "outputs": [
    {
     "name": "stdout",
     "output_type": "stream",
     "text": [
      "0123456789"
     ]
    }
   ],
   "source": [
    "def yrange(n):\n",
    "    i = 0\n",
    "    while i < n:\n",
    "        x = yield i   # 用yield來產生值，yield像是return會傳回值\n",
    "        i += 1\n",
    "    \n",
    "for i in yrange(10):\n",
    "    print(i, end='')"
   ]
  },
  {
   "cell_type": "code",
   "execution_count": 54,
   "metadata": {},
   "outputs": [
    {
     "name": "stdout",
     "output_type": "stream",
     "text": [
      "0123456789"
     ]
    }
   ],
   "source": [
    "def yrange(n):\n",
    "    x = 0\n",
    "    while x < n:\n",
    "        yield x\n",
    "        x += 1\n",
    "    \n",
    "for i in yrange(10):\n",
    "    print(i, end='')"
   ]
  },
  {
   "cell_type": "markdown",
   "metadata": {},
   "source": [
    "# Generator and yield - example"
   ]
  },
  {
   "cell_type": "code",
   "execution_count": 55,
   "metadata": {},
   "outputs": [
    {
     "data": {
      "text/plain": [
       "1"
      ]
     },
     "execution_count": 55,
     "metadata": {},
     "output_type": "execute_result"
    }
   ],
   "source": [
    "def foo():\n",
    "    bar = yield 1\n",
    "    bar = yield 2\n",
    "    bar = yield 3\n",
    "\n",
    "f = foo()\n",
    "next(f)"
   ]
  },
  {
   "cell_type": "code",
   "execution_count": 56,
   "metadata": {},
   "outputs": [
    {
     "data": {
      "text/plain": [
       "2"
      ]
     },
     "execution_count": 56,
     "metadata": {},
     "output_type": "execute_result"
    }
   ],
   "source": [
    "def foo():\n",
    "    bar = yield 1\n",
    "    bar = yield 2\n",
    "    bar = yield 3\n",
    "\n",
    "f = foo()\n",
    "next(f)\n",
    "next(f)"
   ]
  },
  {
   "cell_type": "code",
   "execution_count": null,
   "metadata": {},
   "outputs": [],
   "source": []
  },
  {
   "cell_type": "markdown",
   "metadata": {},
   "source": [
    "# Generator and yield - p2"
   ]
  },
  {
   "cell_type": "code",
   "execution_count": 57,
   "metadata": {},
   "outputs": [
    {
     "name": "stdout",
     "output_type": "stream",
     "text": [
      "0123456789"
     ]
    }
   ],
   "source": [
    "def yrange(n):\n",
    "    i = 0\n",
    "    while i < n:\n",
    "        x = yield i   # 用yield來產生值，yield像是return會傳回值\n",
    "        i += 1\n",
    "\n",
    "gen = yrange(10)\n",
    "\n",
    "for i in gen:\n",
    "    print(i, end='')"
   ]
  },
  {
   "cell_type": "code",
   "execution_count": 58,
   "metadata": {},
   "outputs": [
    {
     "name": "stdout",
     "output_type": "stream",
     "text": [
      "0\n",
      "1\n"
     ]
    }
   ],
   "source": [
    "def yrange(n):\n",
    "    i = 0\n",
    "    while i < n:\n",
    "        x = yield i   # 用yield來產生值，yield像是return會傳回值\n",
    "        i += 1\n",
    "\n",
    "gen = yrange(10)\n",
    "\n",
    "print(next(gen))\n",
    "print(next(gen))"
   ]
  },
  {
   "cell_type": "code",
   "execution_count": null,
   "metadata": {},
   "outputs": [],
   "source": [
    "def yrange(n):\n",
    "    i = 0\n",
    "    while i < n:\n",
    "        x = yield i   # 用yield來產生值，yield像是return會傳回值\n",
    "        i += 1\n",
    "\n",
    "gen = yrange(10)\n",
    "\n",
    "next(gen)\n"
   ]
  },
  {
   "cell_type": "code",
   "execution_count": null,
   "metadata": {},
   "outputs": [],
   "source": [
    "def yrange(n):\n",
    "    i = 0\n",
    "    while i < n:\n",
    "        x = yield i   # 用yield來產生值，yield像是return會傳回值\n",
    "        i += 1\n",
    "\n",
    "gen = yrange(10)\n",
    "\n",
    "next(gen)\n",
    "\n",
    "gen.send(0)  # 要先有next(gen)產出"
   ]
  },
  {
   "cell_type": "code",
   "execution_count": null,
   "metadata": {},
   "outputs": [],
   "source": [
    "def foo():\n",
    "    bar_a = yield 1\n",
    "    bar_b = yield bar_a\n",
    "    yield \"old car\"\n",
    "\n",
    "f = foo()\n",
    "\n",
    "print(f.send(None))\n",
    "print(f.send(\"new car\"))\n",
    "print(next(f))"
   ]
  },
  {
   "cell_type": "markdown",
   "metadata": {},
   "source": [
    "# Decorator"
   ]
  },
  {
   "cell_type": "code",
   "execution_count": 59,
   "metadata": {},
   "outputs": [
    {
     "name": "stdout",
     "output_type": "stream",
     "text": [
      "hi() function\n",
      "greet() function\n",
      "welcome() function\n",
      "back in the hi() function\n"
     ]
    },
    {
     "ename": "NameError",
     "evalue": "name 'greet' is not defined",
     "output_type": "error",
     "traceback": [
      "\u001b[1;31m---------------------------------------------------------------------------\u001b[0m",
      "\u001b[1;31mNameError\u001b[0m                                 Traceback (most recent call last)",
      "\u001b[1;32m<ipython-input-59-e3129639a9cf>\u001b[0m in \u001b[0;36m<module>\u001b[1;34m\u001b[0m\n\u001b[0;32m     14\u001b[0m \u001b[0mhi\u001b[0m\u001b[1;33m(\u001b[0m\u001b[1;33m)\u001b[0m\u001b[1;33m\u001b[0m\u001b[1;33m\u001b[0m\u001b[0m\n\u001b[0;32m     15\u001b[0m \u001b[1;33m\u001b[0m\u001b[0m\n\u001b[1;32m---> 16\u001b[1;33m \u001b[0mgreet\u001b[0m\u001b[1;33m(\u001b[0m\u001b[1;33m)\u001b[0m\u001b[1;33m\u001b[0m\u001b[1;33m\u001b[0m\u001b[0m\n\u001b[0m\u001b[0;32m     17\u001b[0m \u001b[1;31m#outputs: NameError: name 'greet' is not defined\u001b[0m\u001b[1;33m\u001b[0m\u001b[1;33m\u001b[0m\u001b[1;33m\u001b[0m\u001b[0m\n",
      "\u001b[1;31mNameError\u001b[0m: name 'greet' is not defined"
     ]
    }
   ],
   "source": [
    "def hi(name=\"yasoob\"):\n",
    "    print(\"hi() function\")\n",
    " \n",
    "    def greet():\n",
    "        return \"greet() function\"\n",
    " \n",
    "    def welcome():\n",
    "        return \"welcome() function\"\n",
    " \n",
    "    print(greet())\n",
    "    print(welcome())\n",
    "    print(\"back in the hi() function\")\n",
    " \n",
    "hi()\n",
    " \n",
    "greet()\n",
    "#outputs: NameError: name 'greet' is not defined"
   ]
  },
  {
   "cell_type": "code",
   "execution_count": 60,
   "metadata": {},
   "outputs": [
    {
     "name": "stdout",
     "output_type": "stream",
     "text": [
      "greet() function\n",
      "greet() function\n"
     ]
    }
   ],
   "source": [
    "def hi(name=\"yasoob\"):\n",
    "    def greet():\n",
    "        return \"greet() function\"\n",
    " \n",
    "    def welcome():\n",
    "        return \"welcome() function\"\n",
    " \n",
    "    if name == \"yasoob\":\n",
    "        return greet\n",
    "    else:\n",
    "        return welcome\n",
    " \n",
    "a = hi()\n",
    "\n",
    "b = a()\n",
    "\n",
    "print(b)\n",
    "print(a())\n",
    "#outputs: greet() function"
   ]
  },
  {
   "cell_type": "code",
   "execution_count": null,
   "metadata": {},
   "outputs": [],
   "source": []
  },
  {
   "cell_type": "markdown",
   "metadata": {},
   "source": [
    "# 動手做 --------------------------------------------------------------------"
   ]
  },
  {
   "cell_type": "markdown",
   "metadata": {},
   "source": [
    "#### 題目: 計算點（x1，y1）和（x2，y2）之間的距離。\n",
    "* 給定四個表示笛卡爾坐標的實數：（x1，y1），（x2，y2）。編寫一個函數distance（x1，y1，x2，y2）以計算點（x1，y1）和（x2，y2）之間的距離。讀取四個實數並打印該函數計算出的結果距離。\n",
    "* 兩點之間的距離的公式可以在Wolfram中找到。\n",
    "\n",
    "* 範例:\n",
    " * input: \n",
    "   * 0\n",
    "   * 0\n",
    "   * 1\n",
    "   * 1\n",
    " * output: 1.4142135623730951"
   ]
  },
  {
   "cell_type": "code",
   "execution_count": null,
   "metadata": {},
   "outputs": [],
   "source": [
    "def dist(x1, y1, x2, y2):\n",
    "    d = ((x2 - x1) ** 2 + (y2 - y1) ** 2) ** 0.5\n",
    "    return d\n",
    "\n",
    "x1 = float(input())\n",
    "y1 = float(input())\n",
    "x2 = float(input())\n",
    "y2 = float(input())\n",
    "\n",
    "print(dist(x1, y1, x2, y2))"
   ]
  },
  {
   "cell_type": "markdown",
   "metadata": {},
   "source": [
    "# -------------------------------------------------------------------------end"
   ]
  },
  {
   "cell_type": "code",
   "execution_count": null,
   "metadata": {},
   "outputs": [],
   "source": []
  },
  {
   "cell_type": "code",
   "execution_count": null,
   "metadata": {},
   "outputs": [],
   "source": []
  },
  {
   "cell_type": "markdown",
   "metadata": {},
   "source": [
    "# 動手做 --------------------------------------------------------------------"
   ]
  },
  {
   "cell_type": "markdown",
   "metadata": {},
   "source": [
    "#### 題目: a的 n次方\n",
    "* 給定正實數a和整數n。計算一個編寫函數power（a，n）以使用該函數計算結果並打印表達式的結果。\n",
    "\n",
    "* 範例:\n",
    " * input: \n",
    "   * 2\n",
    "   * -3\n",
    " * output: 0.125"
   ]
  },
  {
   "cell_type": "code",
   "execution_count": 13,
   "metadata": {},
   "outputs": [
    {
     "name": "stdout",
     "output_type": "stream",
     "text": [
      "2\n",
      "-3\n",
      "0.125\n"
     ]
    }
   ],
   "source": [
    "def f(x, y):\n",
    "    n = x ** y\n",
    "    return n\n",
    "\n",
    "x = float(input())\n",
    "y = float(input())\n",
    "\n",
    "print (f(x, y))"
   ]
  },
  {
   "cell_type": "code",
   "execution_count": 14,
   "metadata": {},
   "outputs": [
    {
     "name": "stdout",
     "output_type": "stream",
     "text": [
      "2\n",
      "-3\n",
      "0.125\n"
     ]
    }
   ],
   "source": [
    "def power(a, n):\n",
    "    res = 1\n",
    "    for i in range(abs(n)):\n",
    "        res *= a\n",
    "    if n >= 0:\n",
    "        return res\n",
    "    else:\n",
    "        return 1 / res\n",
    "\n",
    "print(power(float(input()), int(input())))"
   ]
  },
  {
   "cell_type": "markdown",
   "metadata": {},
   "source": [
    "# -------------------------------------------------------------------------end"
   ]
  },
  {
   "cell_type": "code",
   "execution_count": null,
   "metadata": {},
   "outputs": [],
   "source": []
  },
  {
   "cell_type": "code",
   "execution_count": null,
   "metadata": {},
   "outputs": [],
   "source": []
  },
  {
   "cell_type": "markdown",
   "metadata": {},
   "source": [
    "# 動手做 --------------------------------------------------------------------"
   ]
  },
  {
   "cell_type": "markdown",
   "metadata": {},
   "source": [
    "#### 題目: 相反的順序列印\n",
    "* 給定一個以0結尾的整數序列。以相反的順序打印序列。不要使用列表或其他數據結構。請改用遞迴。\n",
    "\n",
    "* 範例:\n",
    " * input: \n",
    "    * 1\n",
    "    * 2\n",
    "    * 3\n",
    "    * 0\n",
    " * output: \n",
    "    * 0\n",
    "    * 3\n",
    "    * 2\n",
    "    * 1"
   ]
  },
  {
   "cell_type": "code",
   "execution_count": 15,
   "metadata": {},
   "outputs": [
    {
     "name": "stdout",
     "output_type": "stream",
     "text": [
      "1\n",
      "2\n",
      "3\n",
      "0\n",
      "0\n",
      "3\n",
      "2\n",
      "1\n"
     ]
    }
   ],
   "source": [
    "def reverse():\n",
    "    x = int(input())\n",
    "    if x != 0:\n",
    "        reverse()\n",
    "    print(x)\n",
    "\n",
    "reverse()"
   ]
  },
  {
   "cell_type": "markdown",
   "metadata": {},
   "source": [
    "# -------------------------------------------------------------------------end"
   ]
  },
  {
   "cell_type": "code",
   "execution_count": null,
   "metadata": {},
   "outputs": [],
   "source": []
  },
  {
   "cell_type": "code",
   "execution_count": null,
   "metadata": {},
   "outputs": [],
   "source": []
  },
  {
   "cell_type": "code",
   "execution_count": null,
   "metadata": {},
   "outputs": [],
   "source": []
  }
 ],
 "metadata": {
  "kernelspec": {
   "display_name": "Python 3",
   "language": "python",
   "name": "python3"
  },
  "language_info": {
   "codemirror_mode": {
    "name": "ipython",
    "version": 3
   },
   "file_extension": ".py",
   "mimetype": "text/x-python",
   "name": "python",
   "nbconvert_exporter": "python",
   "pygments_lexer": "ipython3",
   "version": "3.8.3"
  }
 },
 "nbformat": 4,
 "nbformat_minor": 2
}
