{
 "cells": [
  {
   "cell_type": "markdown",
   "metadata": {},
   "source": [
    "## List"
   ]
  },
  {
   "cell_type": "markdown",
   "metadata": {},
   "source": [
    "# 動手做"
   ]
  },
  {
   "cell_type": "markdown",
   "metadata": {},
   "source": [
    "### Common Operations for sequence type"
   ]
  },
  {
   "cell_type": "markdown",
   "metadata": {},
   "source": [
    "#### 題目: 計算有幾個字\n",
    "* 給定一個由用空格分隔的句子組成的單字串。確定它有多少個單字。要解決此問題，請使用方法計數。\n",
    "* 範例:\n",
    " * input: In the hole in the ground there lived a hobbit\n",
    " * output: 10"
   ]
  },
  {
   "cell_type": "code",
   "execution_count": null,
   "metadata": {},
   "outputs": [],
   "source": [
    "inputStr = \"In the hole in the ground there lived a hobbit\"\n",
    "splitStr = inputStr.split(\" \")\n",
    "print(splitStr)\n",
    "print(\"共有{}個字\".format(len(splitStr)))"
   ]
  },
  {
   "cell_type": "markdown",
   "metadata": {},
   "source": [
    "#### 也可以用str.count(\" \")"
   ]
  },
  {
   "cell_type": "code",
   "execution_count": null,
   "metadata": {},
   "outputs": [],
   "source": [
    "mylist=[1,2,4,7,0]\n",
    "for i in mylist:\n",
    "    print(i,end='')\n"
   ]
  },
  {
   "cell_type": "markdown",
   "metadata": {},
   "source": [
    "## Range"
   ]
  },
  {
   "cell_type": "code",
   "execution_count": null,
   "metadata": {},
   "outputs": [],
   "source": [
    "\n",
    "a=list(range(1,5))\n",
    "a+=list(range(5,10))\n",
    "print(a)          #[1, 2, 3, 4, 5, 6, 7, 8, 9]"
   ]
  },
  {
   "cell_type": "code",
   "execution_count": null,
   "metadata": {},
   "outputs": [],
   "source": [
    "print([0]*3)    #[0, 0, 0]\n",
    "b = [(1,2)]*3   #[(1, 2), (1, 2), (1, 2)]\n",
    "print(b)\n",
    "c = [[]]*3      #[[], [], []]\n",
    "print(c)\n",
    "print(id(c[0]))\n",
    "print(id(c[1]))\n",
    "\n",
    "\n",
    "d = [list() for i in range(3)]  #[[], [], []]\n",
    "print(d)\n",
    "print(id(d[0]))\n",
    "print(id(d[1]))\n"
   ]
  },
  {
   "cell_type": "code",
   "execution_count": null,
   "metadata": {},
   "outputs": [],
   "source": [
    "x = []\n",
    "for i in range(12):\n",
    "    x.append([])\n",
    "    for j in range(3):\n",
    "        x[i].append(j)\n",
    "\n",
    "print(x)\n",
    "print('---------------')\n",
    "x[0]=[100,200,300,400]\n",
    "x[1]=[3,3,3,3]\n",
    "print(x)\n",
    "print(x[1])\n",
    "print(x[0][2])"
   ]
  },
  {
   "cell_type": "code",
   "execution_count": null,
   "metadata": {},
   "outputs": [],
   "source": [
    "#list, dict 內部只是reference某一個元素,而不是copy \n",
    "\n",
    "a=[1,2,3]\n",
    "mylist=[]\n",
    "print(id(a))\n",
    "mylist.append(a)\n",
    "a=[4,5,6]\n",
    "print(id(a))\n",
    "mylist.append(a)\n",
    "print('mylist1-->',mylist)  #兩次append的a, refenece 到不同object id, \n",
    "       \n",
    "\n",
    "mylist2=[]\n",
    "for i in range(2):\n",
    "    a[i]+=1\n",
    "    mylist2.append(a)\n",
    "    #print(id(a))  \n",
    "    print('mylist2-->',mylist2)   \n",
    "                     \n",
    "\n",
    "    \n",
    "mylist3=[]\n",
    "for i in range(2):\n",
    "    b=[4,5,6]  # reset b\n",
    "    b[i]+=1\n",
    "    #print(id(b))\n",
    "    mylist3.append(b) \n",
    "    print('mylist3-->',mylist3)\n"
   ]
  },
  {
   "cell_type": "code",
   "execution_count": null,
   "metadata": {},
   "outputs": [],
   "source": [
    "#多維陣列 (2,4)\n",
    "mylist=[]\n",
    "w, h = 5, 4;\n",
    "\n",
    "Matrix = [[0 for x in range(h)] for y in range(w)] \n",
    "print(Matrix)\n",
    "Matrix[0][1]=4\n",
    "mylist.append(Matrix)\n",
    "\n",
    "print(mylist)\n",
    "print(mylist[0])\n",
    "print(mylist[0][0])\n",
    "print(mylist[0][0][1])\n",
    "\n",
    "\n",
    "for i in  mylist:\n",
    "    for j in i:\n",
    "        print(j)\n"
   ]
  },
  {
   "cell_type": "markdown",
   "metadata": {},
   "source": [
    "## Tuple Example\n"
   ]
  },
  {
   "cell_type": "code",
   "execution_count": null,
   "metadata": {},
   "outputs": [],
   "source": [
    "# for a,b var in [(tuple),(tuple)]\n",
    "x=[1,2,3,4]\n",
    "for i in range(1,5):\n",
    "    print(i)\n",
    "\n",
    "\n",
    "y=[5,6,7,8]\n",
    "\n",
    "for a in [(x, \"Incremental PCA\",100), (y, \"PCA\",200)]:\n",
    "    print(a[2])\n"
   ]
  },
  {
   "cell_type": "markdown",
   "metadata": {},
   "source": [
    "# 動手做"
   ]
  },
  {
   "cell_type": "markdown",
   "metadata": {},
   "source": [
    "#### 題目: 分蘋果\n",
    "* 給定整數N，按升序列印從1到N的所有奇數。\n",
    "* 範例:\n",
    " * input: 12\n",
    " * output: \n",
    "1\n",
    "3\n",
    "5\n",
    "7\n",
    "9\n",
    "11\n"
   ]
  },
  {
   "cell_type": "code",
   "execution_count": null,
   "metadata": {},
   "outputs": [],
   "source": [
    "n = int(input(\"請輸入整數N，按升序列印從1到N的所有奇數。\"))\n",
    "x = 1\n",
    "\n",
    "if n % 2 == 0:\n",
    "    for i in range(n//2):\n",
    "        print(x)\n",
    "        x = x + 2        \n",
    "else:\n",
    "    for i in range((n//2)+1):\n",
    "        print(x)\n",
    "        x = x + 2"
   ]
  },
  {
   "cell_type": "markdown",
   "metadata": {},
   "source": [
    "# 動手做"
   ]
  },
  {
   "cell_type": "markdown",
   "metadata": {},
   "source": [
    "#### 題目: 列印偶數\n",
    "* 給定一個數字列表，查找並打印所有為偶數的元素。在這種情況下，請使用for循環遍列列表，而不是遍列其索引！也就是說，不要使用range（）\n",
    "* 範例:\n",
    " * input: 44 -51 32 -60 -7 -67 62 91 26 -14\n",
    " * output: 44 32 -60 62 26 -14"
   ]
  },
  {
   "cell_type": "code",
   "execution_count": null,
   "metadata": {},
   "outputs": [],
   "source": [
    "inputList = [44, -51, 32, -60, -7, -67, 62, 91, 26, -14]\n",
    "print([e for e in inputList if e % 2 ==0])"
   ]
  },
  {
   "cell_type": "markdown",
   "metadata": {},
   "source": [
    "#### 題目: 第一個字母，轉成大寫\n",
    "* 給定一行小寫ASCII單詞（句子用空格分隔），並將每個單字的首字母大寫。\n",
    "* 範例:\n",
    " * input: we danced the mamushka at waterloo\n",
    " * output: We Danced The Mamushka At Waterloo"
   ]
  },
  {
   "cell_type": "code",
   "execution_count": null,
   "metadata": {},
   "outputs": [],
   "source": [
    "inputStr = \"we danced the mamushka at waterloo\"\n",
    "splitStr = inputStr.split(\" \")\n",
    "print(splitStr)\n",
    "capitalStr = [word.capitalize() for word in splitStr]\n",
    "print(capitalStr)"
   ]
  },
  {
   "cell_type": "markdown",
   "metadata": {},
   "source": [
    "#### 題目: 找出最大數字，並標示位置\n",
    "* 給定數字列表。確定列表中具有最大值的元素。列印最大元素的值，然後打印索引號。如果最高元素不是唯一的，則打印第一個實例的索引。\n",
    "* 範例:\n",
    " * input: 1 2 3 2 1\n",
    " * output: 3 2\n"
   ]
  },
  {
   "cell_type": "code",
   "execution_count": 4,
   "metadata": {},
   "outputs": [
    {
     "name": "stdout",
     "output_type": "stream",
     "text": [
      "請輸入數字清單，以空白鍵相隔1 2 3 2 1\n",
      "3\n",
      "2\n"
     ]
    }
   ],
   "source": [
    "maxElement = 0\n",
    "indexElement = []\n",
    "inputStr = input(\"請輸入數字清單，以空白鍵相隔\")\n",
    "splitStr = inputStr.split(\" \")\n",
    "\n",
    "for i in range(len(splitStr)):\n",
    "    if int(splitStr[i]) > int(maxElement):\n",
    "        maxElement = splitStr[i]\n",
    "        indexElement.append(i)\n",
    "        \n",
    "print(maxElement)\n",
    "print(indexElement[-1])\n",
    "    "
   ]
  },
  {
   "cell_type": "code",
   "execution_count": null,
   "metadata": {},
   "outputs": [],
   "source": []
  },
  {
   "cell_type": "code",
   "execution_count": null,
   "metadata": {},
   "outputs": [],
   "source": []
  }
 ],
 "metadata": {
  "celltoolbar": "Raw Cell Format",
  "kernelspec": {
   "display_name": "Python 3",
   "language": "python",
   "name": "python3"
  },
  "language_info": {
   "codemirror_mode": {
    "name": "ipython",
    "version": 3
   },
   "file_extension": ".py",
   "mimetype": "text/x-python",
   "name": "python",
   "nbconvert_exporter": "python",
   "pygments_lexer": "ipython3",
   "version": "3.8.5"
  }
 },
 "nbformat": 4,
 "nbformat_minor": 2
}
