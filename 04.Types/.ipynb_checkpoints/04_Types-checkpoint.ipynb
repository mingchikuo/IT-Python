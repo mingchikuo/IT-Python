{
 "cells": [
  {
   "cell_type": "markdown",
   "metadata": {},
   "source": [
    "## List"
   ]
  },
  {
   "cell_type": "markdown",
   "metadata": {},
   "source": [
    "# 動手做"
   ]
  },
  {
   "cell_type": "markdown",
   "metadata": {},
   "source": [
    "### Common Operations for sequence type"
   ]
  },
  {
   "attachments": {},
   "cell_type": "markdown",
   "metadata": {},
   "source": [
    "#### 題目: 計算有幾個字\n",
    "* 給定一個由用空格分隔的句子組成的單字串。確定它有多少個單字。要解決此問題，請使用方法計數。\n",
    "* 範例:\n",
    " * input: In the hole in the ground there lived a hobbit\n",
    " * output: 10"
   ]
  },
  {
   "cell_type": "code",
   "execution_count": 25,
   "metadata": {},
   "outputs": [
    {
     "name": "stdout",
     "output_type": "stream",
     "text": [
      "12470"
     ]
    }
   ],
   "source": [
    "mylist=[1,2,4,7,0]\n",
    "for i in mylist:\n",
    "    print(i,end='')\n"
   ]
  },
  {
   "cell_type": "markdown",
   "metadata": {},
   "source": [
    "## Range"
   ]
  },
  {
   "cell_type": "code",
   "execution_count": 26,
   "metadata": {},
   "outputs": [
    {
     "name": "stdout",
     "output_type": "stream",
     "text": [
      "[1, 2, 3, 4, 5, 6, 7, 8, 9]\n"
     ]
    }
   ],
   "source": [
    "\n",
    "a=list(range(1,5))\n",
    "a+=list(range(5,10))\n",
    "print(a)          #[1, 2, 3, 4, 5, 6, 7, 8, 9]"
   ]
  },
  {
   "cell_type": "code",
   "execution_count": 28,
   "metadata": {},
   "outputs": [
    {
     "name": "stdout",
     "output_type": "stream",
     "text": [
      "[0, 0, 0]\n",
      "[(1, 2), (1, 2), (1, 2)]\n",
      "[[], [], []]\n",
      "140631733912512\n",
      "140631733912512\n",
      "[[], [], []]\n",
      "140631734618704\n",
      "140631734619264\n"
     ]
    }
   ],
   "source": [
    "print([0]*3)    #[0, 0, 0]\n",
    "b = [(1,2)]*3   #[(1, 2), (1, 2), (1, 2)]\n",
    "print(b)\n",
    "c = [[]]*3      #[[], [], []]\n",
    "print(c)\n",
    "print(id(c[0]))\n",
    "print(id(c[1]))\n",
    "\n",
    "\n",
    "d = [list() for i in range(3)]  #[[], [], []]\n",
    "print(d)\n",
    "print(id(d[0]))\n",
    "print(id(d[1]))\n"
   ]
  },
  {
   "cell_type": "code",
   "execution_count": 29,
   "metadata": {},
   "outputs": [
    {
     "name": "stdout",
     "output_type": "stream",
     "text": [
      "[[0, 1, 2], [0, 1, 2], [0, 1, 2], [0, 1, 2], [0, 1, 2], [0, 1, 2], [0, 1, 2], [0, 1, 2], [0, 1, 2], [0, 1, 2], [0, 1, 2], [0, 1, 2]]\n",
      "---------------\n",
      "[[100, 200, 300, 400], [3, 3, 3, 3], [0, 1, 2], [0, 1, 2], [0, 1, 2], [0, 1, 2], [0, 1, 2], [0, 1, 2], [0, 1, 2], [0, 1, 2], [0, 1, 2], [0, 1, 2]]\n",
      "[3, 3, 3, 3]\n",
      "300\n"
     ]
    }
   ],
   "source": [
    "x = []\n",
    "for i in range(12):\n",
    "    x.append([])\n",
    "    for j in range(3):\n",
    "        x[i].append(j)\n",
    "\n",
    "print(x)\n",
    "print('---------------')\n",
    "x[0]=[100,200,300,400]\n",
    "x[1]=[3,3,3,3]\n",
    "print(x)\n",
    "print(x[1])\n",
    "print(x[0][2])"
   ]
  },
  {
   "cell_type": "code",
   "execution_count": 31,
   "metadata": {},
   "outputs": [
    {
     "name": "stdout",
     "output_type": "stream",
     "text": [
      "140631734691552\n",
      "140631734691552\n",
      "140631734472608\n",
      "mylist1--> [[1, 2, 3], [4, 5, 6]]\n",
      "mylist2--> [[5, 5, 6]]\n",
      "mylist2--> [[5, 6, 6], [5, 6, 6]]\n",
      "mylist3--> [[5, 5, 6]]\n",
      "mylist3--> [[5, 5, 6], [4, 6, 6]]\n"
     ]
    }
   ],
   "source": [
    "#list, dict 內部只是reference某一個元素,而不是copy \n",
    "\n",
    "a=[1,2,3]\n",
    "mylist=[]\n",
    "print(id(a))\n",
    "mylist.append(a)\n",
    "a=[4,5,6]\n",
    "print(id(a))\n",
    "mylist.append(a)\n",
    "print('mylist1-->',mylist)  #兩次append的a, refenece 到不同object id, \n",
    "       \n",
    "\n",
    "mylist2=[]\n",
    "for i in range(2):\n",
    "    a[i]+=1\n",
    "    mylist2.append(a)\n",
    "    #print(id(a))  \n",
    "    print('mylist2-->',mylist2)   \n",
    "                     \n",
    "\n",
    "    \n",
    "mylist3=[]\n",
    "for i in range(2):\n",
    "    b=[4,5,6]  # reset b\n",
    "    b[i]+=1\n",
    "    #print(id(b))\n",
    "    mylist3.append(b) \n",
    "    print('mylist3-->',mylist3)\n"
   ]
  },
  {
   "cell_type": "code",
   "execution_count": 34,
   "metadata": {},
   "outputs": [
    {
     "name": "stdout",
     "output_type": "stream",
     "text": [
      "[[0, 0, 0, 0], [0, 0, 0, 0], [0, 0, 0, 0], [0, 0, 0, 0], [0, 0, 0, 0]]\n",
      "[[[0, 4, 0, 0], [0, 0, 0, 0], [0, 0, 0, 0], [0, 0, 0, 0], [0, 0, 0, 0]]]\n",
      "[[0, 4, 0, 0], [0, 0, 0, 0], [0, 0, 0, 0], [0, 0, 0, 0], [0, 0, 0, 0]]\n",
      "[0, 4, 0, 0]\n",
      "4\n",
      "[0, 4, 0, 0]\n",
      "[0, 0, 0, 0]\n",
      "[0, 0, 0, 0]\n",
      "[0, 0, 0, 0]\n",
      "[0, 0, 0, 0]\n"
     ]
    }
   ],
   "source": [
    "#多維陣列 (2,4)\n",
    "mylist=[]\n",
    "w, h = 5, 4;\n",
    "\n",
    "Matrix = [[0 for x in range(h)] for y in range(w)] \n",
    "print(Matrix)\n",
    "Matrix[0][1]=4\n",
    "mylist.append(Matrix)\n",
    "\n",
    "print(mylist)\n",
    "print(mylist[0])\n",
    "print(mylist[0][0])\n",
    "print(mylist[0][0][1])\n",
    "\n",
    "\n",
    "for i in  mylist:\n",
    "    for j in i:\n",
    "        print(j)\n"
   ]
  },
  {
   "cell_type": "markdown",
   "metadata": {},
   "source": [
    "## Tuple Example\n"
   ]
  },
  {
   "cell_type": "code",
   "execution_count": 38,
   "metadata": {},
   "outputs": [
    {
     "name": "stdout",
     "output_type": "stream",
     "text": [
      "1\n",
      "2\n",
      "3\n",
      "4\n",
      "100\n",
      "200\n"
     ]
    }
   ],
   "source": [
    "# for a,b var in [(tuple),(tuple)]\n",
    "x=[1,2,3,4]\n",
    "for i in range(1,5):\n",
    "    print(i)\n",
    "\n",
    "\n",
    "y=[5,6,7,8]\n",
    "\n",
    "for a in [(x, \"Incremental PCA\",100), (y, \"PCA\",200)]:\n",
    "    print(a[2])\n"
   ]
  },
  {
   "cell_type": "markdown",
   "metadata": {},
   "source": [
    "# 動手做"
   ]
  },
  {
   "cell_type": "markdown",
   "metadata": {},
   "source": [
    "#### 題目: 分蘋果\n",
    "* 給定整數N，按升序列印從1到N的所有奇數。\n",
    "* 範例:\n",
    " * input: 12\n",
    " * output: \n",
    "1\n",
    "3\n",
    "5\n",
    "7\n",
    "9\n",
    "11\n"
   ]
  },
  {
   "cell_type": "markdown",
   "metadata": {},
   "source": [
    "# 動手做"
   ]
  },
  {
   "attachments": {},
   "cell_type": "markdown",
   "metadata": {},
   "source": [
    "#### 題目: 列印偶數\n",
    "* 給定一個數字列表，查找並打印所有為偶數的元素。在這種情況下，請使用for循環遍列列表，而不是遍列其索引！也就是說，不要使用range（）\n",
    "* 範例:\n",
    " * input: 44 -51 32 -60 -7 -67 62 91 26 -14\n",
    " * output: 44 32 -60 62 26 -14"
   ]
  },
  {
   "attachments": {},
   "cell_type": "markdown",
   "metadata": {},
   "source": [
    "#### 題目: 第一個字母，轉成大寫\n",
    "* 給定一行小寫ASCII單詞（句子用空格分隔），並將每個單字的首字母大寫。\n",
    "* 範例:\n",
    " * input: we danced the mamushka at waterloo\n",
    " * output: We Danced The Mamushka At Waterloo"
   ]
  },
  {
   "attachments": {},
   "cell_type": "markdown",
   "metadata": {},
   "source": [
    "#### 題目: 找出最大數字，並標示位置\n",
    "* 給定數字列表。確定列表中具有最大值的元素。列印最大元素的值，然後打印索引號。如果最高元素不是唯一的，則打印第一個實例的索引。\n",
    "* 範例:\n",
    " * input: 1 2 3 2 1\n",
    " * output: 3 2\n"
   ]
  },
  {
   "cell_type": "code",
   "execution_count": null,
   "metadata": {},
   "outputs": [],
   "source": []
  }
 ],
 "metadata": {
  "celltoolbar": "Raw Cell Format",
  "kernelspec": {
   "display_name": "Python 3",
   "language": "python",
   "name": "python3"
  },
  "language_info": {
   "codemirror_mode": {
    "name": "ipython",
    "version": 3
   },
   "file_extension": ".py",
   "mimetype": "text/x-python",
   "name": "python",
   "nbconvert_exporter": "python",
   "pygments_lexer": "ipython3",
   "version": "3.8.3"
  }
 },
 "nbformat": 4,
 "nbformat_minor": 2
}
