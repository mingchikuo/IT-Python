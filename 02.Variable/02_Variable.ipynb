{
 "cells": [
  {
   "cell_type": "markdown",
   "metadata": {},
   "source": [
    "## Variable"
   ]
  },
  {
   "cell_type": "markdown",
   "metadata": {},
   "source": [
    "#### Dynamic type"
   ]
  },
  {
   "cell_type": "code",
   "execution_count": null,
   "metadata": {},
   "outputs": [],
   "source": [
    "x = 3\n",
    "print(x)\n",
    "\n",
    "x = \"This is a string\"\n",
    "print(x)\n",
    "\n",
    "x = [1, 2, 3, 4, 5]\n",
    "print(x)"
   ]
  },
  {
   "cell_type": "markdown",
   "metadata": {},
   "source": [
    "#### Everything in python is an object"
   ]
  },
  {
   "cell_type": "code",
   "execution_count": null,
   "metadata": {},
   "outputs": [],
   "source": [
    "x = 3\n",
    "print(id(x))\n",
    "print(id(3))\n",
    "\n",
    "y = 3; z = 3\n",
    "print(id(y))\n",
    "print(id(z))"
   ]
  },
  {
   "cell_type": "code",
   "execution_count": null,
   "metadata": {},
   "outputs": [],
   "source": [
    "x = 3\n",
    "print(id(x))\n",
    "print(id(3))\n",
    "\n",
    "x = 5\n",
    "print(id(x))\n",
    "print(id(5))\n",
    "print(id(3))"
   ]
  },
  {
   "cell_type": "code",
   "execution_count": null,
   "metadata": {},
   "outputs": [],
   "source": [
    "a = [3, 3, 1]\n",
    "print('a =', a)\n",
    "print('id(a) =',id(a))\n",
    "\n",
    "print('id(a[0]) =', id(a[0]))\n",
    "print('id(a[1]) =', id(a[1]))\n",
    "print('id(a[2]) =', id(a[2]))\n",
    "\n",
    "a[0] = 50\n",
    "print('a =', a)\n",
    "\n",
    "print('id(a[0]) =', id(a[0]))\n",
    "print('id(a[1]) =', id(a[1]))"
   ]
  },
  {
   "cell_type": "code",
   "execution_count": null,
   "metadata": {},
   "outputs": [],
   "source": [
    "a = [3, 3, [100, 200]]\n",
    "print('id(a[2]) =', id(a[2]))\n",
    "print('id(a[2][0]) =', id(a[2][0]))\n",
    "print('id(a[2][1]) =', id(a[2][1]))\n",
    "\n",
    "a[2][0] = 200\n",
    "print('a[2][0] =', a[2][0])\n",
    "print('a =', a)\n",
    "\n",
    "print('id(a[2][1]) =', id(a[2][1]))\n",
    "print('id(a[2][0]) =', id(a[2][0]))\n",
    "a[2] = []\n",
    "print('id(a[2]) =', id(a[2]))\n"
   ]
  },
  {
   "cell_type": "markdown",
   "metadata": {},
   "source": [
    "#### Mutable and immutable"
   ]
  },
  {
   "cell_type": "code",
   "execution_count": null,
   "metadata": {},
   "outputs": [],
   "source": [
    "x = 3\n",
    "print(id(x))\n",
    "\n",
    "x = 1\n",
    "print(id(x))\n",
    "\n",
    "x = x + 1\n",
    "print(id(x))  #immutable"
   ]
  },
  {
   "cell_type": "code",
   "execution_count": null,
   "metadata": {},
   "outputs": [],
   "source": [
    "x = \"dead\"\n",
    "print(id(x))\n",
    "\n",
    "x += \"beef\"\n",
    "print(x)\n",
    "print(id(x))  #immutable"
   ]
  },
  {
   "cell_type": "code",
   "execution_count": 2,
   "metadata": {},
   "outputs": [
    {
     "name": "stdout",
     "output_type": "stream",
     "text": [
      "[1, 2]\n",
      "140613630201984\n",
      "1\n",
      "4338571616\n",
      "140613630201984\n",
      "4338574784\n"
     ]
    }
   ],
   "source": [
    "numTuple = ([1,2], [3,4])\n",
    "print(numTuple[0])\n",
    "print(id(numTuple[0]))\n",
    "print(numTuple[0][0])\n",
    "print(id(numTuple[0][0]))\n",
    "\n",
    "#numTuple[0] = 100  #Tuple is immutable\n",
    "numTuple[0][0] = 100  #List is mutable\n",
    "print(id(numTuple[0])) \n",
    "print(id(numTuple[0][0]))"
   ]
  },
  {
   "cell_type": "code",
   "execution_count": null,
   "metadata": {},
   "outputs": [],
   "source": [
    "num = [1, 2, [3]]\n",
    "print(id(num[2][0]))\n",
    "print(id(num[2]))\n",
    "\n",
    "num[2][0] = 100\n",
    "print(id(num[2][0]))\n",
    "print(id(num[2]))  #List is mutable"
   ]
  },
  {
   "cell_type": "code",
   "execution_count": 18,
   "metadata": {},
   "outputs": [
    {
     "name": "stdout",
     "output_type": "stream",
     "text": [
      "[[], [], []]\n",
      "[]\n",
      "140613630197824\n",
      "140613630197824\n",
      "140613630197824\n",
      "[['sss'], ['sss'], ['sss']]\n",
      "140613630197824\n",
      "140613630197824\n",
      "140613630197824\n"
     ]
    }
   ],
   "source": [
    "lists = [[]] * 3\n",
    "print(lists)\n",
    "print(lists[0])\n",
    "print(id(lists[0]))\n",
    "print(id(lists[1]))\n",
    "print(id(lists[2]))\n",
    "\n",
    "lists[1].append('sss')\n",
    "print(lists)\n",
    "print(id(lists[0]))\n",
    "print(id(lists[1]))\n",
    "print(id(lists[2]))"
   ]
  },
  {
   "cell_type": "markdown",
   "metadata": {},
   "source": [
    "### 基本輸出 Print"
   ]
  },
  {
   "cell_type": "code",
   "execution_count": null,
   "metadata": {},
   "outputs": [],
   "source": [
    "city = \"Amsterdam\"\n",
    "country = \"Netherlands\"\n",
    "\n",
    "print(\"City\",city,'is in the country',country)"
   ]
  },
  {
   "cell_type": "code",
   "execution_count": null,
   "metadata": {},
   "outputs": [],
   "source": [
    "city = \"Amsterdam\"\n",
    "country = \"Netherlands\"\n",
    "\n",
    "print(\"City {} is in the country {}\".format(city, country))"
   ]
  },
  {
   "cell_type": "code",
   "execution_count": null,
   "metadata": {},
   "outputs": [],
   "source": [
    "a = \"Amsterdam\"\n",
    "b = \"Netherlands\"\n",
    "\n",
    "print(\"City {1} is in the country {0}\".format(b, a))"
   ]
  },
  {
   "cell_type": "code",
   "execution_count": null,
   "metadata": {},
   "outputs": [],
   "source": [
    "print(\"City {1} is in the country {0}\".format('Netherlands', 'Amsterdam'))"
   ]
  },
  {
   "cell_type": "markdown",
   "metadata": {},
   "source": [
    "### 基本輸入 input"
   ]
  },
  {
   "cell_type": "code",
   "execution_count": null,
   "metadata": {},
   "outputs": [],
   "source": [
    "a = int(input(\"please input a numbers: \"))\n",
    "print(a)"
   ]
  },
  {
   "cell_type": "code",
   "execution_count": 13,
   "metadata": {},
   "outputs": [
    {
     "name": "stdout",
     "output_type": "stream",
     "text": [
      "please input 2 numbers: 1 2\n",
      "1 2\n",
      "<class 'int'>\n"
     ]
    }
   ],
   "source": []
  },
  {
   "cell_type": "code",
   "execution_count": null,
   "metadata": {
    "scrolled": true
   },
   "outputs": [],
   "source": [
    "#變數交換\n",
    "a,b=10,5\n",
    "print(\"a=%d,b=%d\"%(a,b))\n",
    "\n",
    "a,b=b,a\n",
    "print(\"a=%d,b=%d\"%(a,b))\n",
    "\n"
   ]
  },
  {
   "cell_type": "code",
   "execution_count": null,
   "metadata": {},
   "outputs": [],
   "source": [
    "list = ['1', '2', '3']\n",
    "a, b, c = map(int, list)\n",
    "print(a, b, c)\n",
    "print(type(a))"
   ]
  },
  {
   "cell_type": "markdown",
   "metadata": {},
   "source": [
    "# 動手做"
   ]
  },
  {
   "cell_type": "markdown",
   "metadata": {},
   "source": [
    "#### 題目:\n",
    "* 分別在單獨的行輸入三個數字，並列印三個數字的總和。"
   ]
  },
  {
   "cell_type": "code",
   "execution_count": 3,
   "metadata": {},
   "outputs": [
    {
     "name": "stdout",
     "output_type": "stream",
     "text": [
      "1\n",
      "2\n",
      "3\n",
      "6\n"
     ]
    }
   ],
   "source": [
    "a = int(input())\n",
    "b = int(input())\n",
    "c = int(input())\n",
    "print(a + b + c)"
   ]
  },
  {
   "cell_type": "markdown",
   "metadata": {},
   "source": [
    "#### 題目:\n",
    "* 編寫一個程式，通過列印“ Hi”和該人的名字來問候該人。\n",
    "* 範例: \n",
    " * input: John\n",
    " * output: Hi, John!"
   ]
  },
  {
   "cell_type": "code",
   "execution_count": 6,
   "metadata": {},
   "outputs": [
    {
     "name": "stdout",
     "output_type": "stream",
     "text": [
      "Ｗhat is your name?Peter\n",
      "hi, Peter!\n"
     ]
    }
   ],
   "source": [
    "name = input(\"Ｗhat is your name?\")\n",
    "print(\"hi, {}!\".format(name))\n"
   ]
  },
  {
   "cell_type": "markdown",
   "metadata": {},
   "source": [
    "## 後置變數print方法"
   ]
  },
  {
   "cell_type": "code",
   "execution_count": null,
   "metadata": {},
   "outputs": [],
   "source": [
    "a = \"Amsterdam\"\n",
    "b = \"Netherlands\"\n",
    "\n",
    "print(\"City {1} is in the country {0}\".format(b, a))\n",
    "# City Amsterdam is in the country Netherlands"
   ]
  },
  {
   "cell_type": "markdown",
   "metadata": {},
   "source": [
    "## 後置描述input方法(.split用空白鍵切割)"
   ]
  },
  {
   "cell_type": "code",
   "execution_count": null,
   "metadata": {},
   "outputs": [],
   "source": [
    "a = input(\"please input 2 numbers split by space: \").split()\n",
    "m, n = map(int, a)\n",
    "print(m, n)\n",
    "print(type(m))"
   ]
  }
 ],
 "metadata": {
  "celltoolbar": "Raw Cell Format",
  "kernelspec": {
   "display_name": "Python 3",
   "language": "python",
   "name": "python3"
  },
  "language_info": {
   "codemirror_mode": {
    "name": "ipython",
    "version": 3
   },
   "file_extension": ".py",
   "mimetype": "text/x-python",
   "name": "python",
   "nbconvert_exporter": "python",
   "pygments_lexer": "ipython3",
   "version": "3.8.5"
  }
 },
 "nbformat": 4,
 "nbformat_minor": 2
}
