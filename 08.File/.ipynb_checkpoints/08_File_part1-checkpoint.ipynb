{
 "cells": [
  {
   "cell_type": "markdown",
   "metadata": {},
   "source": [
    "# Formatting Output"
   ]
  },
  {
   "cell_type": "code",
   "execution_count": null,
   "metadata": {},
   "outputs": [],
   "source": [
    "for x in range(1, 11):\n",
    "    print('{0:2d} {1:3d} {2:4d}'.format(x, x*x, x*x*x))"
   ]
  },
  {
   "cell_type": "code",
   "execution_count": null,
   "metadata": {},
   "outputs": [],
   "source": [
    "for x in range(1, 11):\n",
    "    print('{2:>6d} {1:<6d} {0:<6d}'.format(x, x*x, x*x*x))"
   ]
  },
  {
   "cell_type": "code",
   "execution_count": null,
   "metadata": {},
   "outputs": [],
   "source": [
    "print('We are the {} who say \"{}!\"'.format('knights', 'Ni'))"
   ]
  },
  {
   "cell_type": "code",
   "execution_count": null,
   "metadata": {},
   "outputs": [],
   "source": [
    "print('{0} and {1}'.format('spam', 'eggs'))"
   ]
  },
  {
   "cell_type": "code",
   "execution_count": null,
   "metadata": {},
   "outputs": [],
   "source": [
    "print('{1} and {0}'.format('spam', 'eggs'))"
   ]
  },
  {
   "cell_type": "code",
   "execution_count": null,
   "metadata": {},
   "outputs": [],
   "source": [
    "print(\"{a} {c} {b}\".format(a=\"A\", b=\"B\", c=\"C\"))"
   ]
  },
  {
   "cell_type": "markdown",
   "metadata": {},
   "source": [
    "# Formatting Output - dict"
   ]
  },
  {
   "cell_type": "code",
   "execution_count": null,
   "metadata": {},
   "outputs": [],
   "source": [
    "table = {'Sjoerd': 4127, 'Jack': 4098, 'Dcab': 7678}\n",
    "\n",
    "for name, phone in table.items():\n",
    "    print('{0:10} ==> {1:10d}'.format(name, phone))"
   ]
  },
  {
   "cell_type": "code",
   "execution_count": null,
   "metadata": {},
   "outputs": [],
   "source": [
    "table = {'Sjoerd': 4127, 'Jack': 4098, 'Dcab': 7678}\n",
    "\n",
    "for name, phone in table.items():\n",
    "    print('{} ==> {}'.format(name, phone))"
   ]
  },
  {
   "cell_type": "markdown",
   "metadata": {},
   "source": [
    "# Reading FIles"
   ]
  },
  {
   "cell_type": "code",
   "execution_count": null,
   "metadata": {
    "scrolled": true
   },
   "outputs": [],
   "source": [
    "# read txt file ==>read()：\n",
    "#1、讀取整個文檔，將文檔內容放到一個字符串變量中\n",
    "#2、如果文檔大於可用內存，不可能使用這種處理\n",
    "\n",
    "f=open('article.txt', 'r',encoding=\"utf8\")\n",
    "\n",
    "print(f.read())\n",
    "\n",
    "f.close()    \n",
    "    "
   ]
  },
  {
   "cell_type": "code",
   "execution_count": null,
   "metadata": {
    "scrolled": true
   },
   "outputs": [],
   "source": [
    "# read txt file ==>read()：\n",
    "#1、讀取整個文檔，將文檔內容放到一個字符串變量中\n",
    "#2、如果文檔大於可用內存，不可能使用這種處理\n",
    "\n",
    "f=open('C:\\\\test\\\\article.txt', 'r', encoding=\"utf8\")\n",
    "\n",
    "print(f.read())\n",
    "\n",
    "f.close()    \n",
    "    "
   ]
  },
  {
   "cell_type": "code",
   "execution_count": null,
   "metadata": {
    "scrolled": true
   },
   "outputs": [],
   "source": [
    "# read txt file ==>read()：\n",
    "#1、讀取整個文檔，將文檔內容放到一個字符串變量中\n",
    "#2、如果文檔大於可用內存，不可能使用這種處理\n",
    "\n",
    "f=open(r'C:\\test\\article.txt', 'r', encoding=\"utf8\")\n",
    "\n",
    "print(f.read())\n",
    "\n",
    "f.close()    \n",
    "    "
   ]
  },
  {
   "cell_type": "code",
   "execution_count": null,
   "metadata": {},
   "outputs": [],
   "source": [
    "# read txt file==>readline()\n",
    "#每次讀取一行，比readlines()慢得多\n",
    "\n",
    "f = open('article.txt','r',encoding=\"utf8\")\n",
    "while True:\n",
    "    line = f.readline()\n",
    "    if line:\n",
    "        print (line)\n",
    "    else:\n",
    "        break\n",
    "        \n",
    "f.close()"
   ]
  },
  {
   "cell_type": "markdown",
   "metadata": {},
   "source": [
    "# Reading FIles - 路徑處理"
   ]
  },
  {
   "cell_type": "code",
   "execution_count": null,
   "metadata": {},
   "outputs": [],
   "source": [
    "#路徑處理\n",
    "datafile = os.path.join(r'C:\\Users\\jason', 'c.docx')\n",
    "print(datafile)"
   ]
  },
  {
   "cell_type": "code",
   "execution_count": null,
   "metadata": {},
   "outputs": [],
   "source": [
    "#路徑處理\n",
    "\n",
    "import os.path\n",
    "myFiles = ['a.txt', 'b.csv', 'c.docx']\n",
    "for filename in myFiles:\n",
    "    print(os.path.join(r'C:\\Users\\jason', filename))"
   ]
  },
  {
   "cell_type": "code",
   "execution_count": null,
   "metadata": {
    "scrolled": true
   },
   "outputs": [],
   "source": [
    "#路徑處理\n",
    "\n",
    "datafile = os.path.join(r'C:\\test', 'article.txt')\n",
    "f=open(datafile, 'r', encoding=\"utf8\")\n",
    "\n",
    "print(f.read())\n",
    "\n",
    "f.close()    \n",
    "    "
   ]
  },
  {
   "cell_type": "code",
   "execution_count": null,
   "metadata": {},
   "outputs": [],
   "source": []
  }
 ],
 "metadata": {
  "celltoolbar": "Raw Cell Format",
  "kernelspec": {
   "display_name": "Python 3",
   "language": "python",
   "name": "python3"
  },
  "language_info": {
   "codemirror_mode": {
    "name": "ipython",
    "version": 3
   },
   "file_extension": ".py",
   "mimetype": "text/x-python",
   "name": "python",
   "nbconvert_exporter": "python",
   "pygments_lexer": "ipython3",
   "version": "3.7.6"
  }
 },
 "nbformat": 4,
 "nbformat_minor": 2
}
