{
 "cells": [
  {
   "cell_type": "markdown",
   "metadata": {},
   "source": [
    "# Formatting Output"
   ]
  },
  {
   "cell_type": "code",
   "execution_count": null,
   "metadata": {},
   "outputs": [],
   "source": [
    "for x in range(1, 11):\n",
    "    print('{0:2d} {1:3d} {2:4d}'.format(x, x*x, x*x*x))"
   ]
  },
  {
   "cell_type": "code",
   "execution_count": null,
   "metadata": {},
   "outputs": [],
   "source": [
    "for x in range(1, 11):\n",
    "    print('{2:>6d} {1:<6d} {0:<6d}'.format(x, x*x, x*x*x))"
   ]
  },
  {
   "cell_type": "code",
   "execution_count": null,
   "metadata": {},
   "outputs": [],
   "source": [
    "print('We are the {} who say \"{}!\"'.format('knights', 'Ni'))"
   ]
  },
  {
   "cell_type": "code",
   "execution_count": null,
   "metadata": {},
   "outputs": [],
   "source": [
    "print('{0} and {1}'.format('spam', 'eggs'))"
   ]
  },
  {
   "cell_type": "code",
   "execution_count": null,
   "metadata": {},
   "outputs": [],
   "source": [
    "print('{1} and {0}'.format('spam', 'eggs'))"
   ]
  },
  {
   "cell_type": "code",
   "execution_count": null,
   "metadata": {},
   "outputs": [],
   "source": [
    "print(\"{a} {c} {b}\".format(a=\"A\", b=\"B\", c=\"C\"))"
   ]
  },
  {
   "cell_type": "markdown",
   "metadata": {},
   "source": [
    "# Formatting Output - dict"
   ]
  },
  {
   "cell_type": "code",
   "execution_count": null,
   "metadata": {},
   "outputs": [],
   "source": [
    "table = {'Sjoerd': 4127, 'Jack': 4098, 'Dcab': 7678}\n",
    "\n",
    "for name, phone in table.items():\n",
    "    print('{0:10} ==> {1:10d}'.format(name, phone))"
   ]
  },
  {
   "cell_type": "code",
   "execution_count": null,
   "metadata": {},
   "outputs": [],
   "source": [
    "table = {'Sjoerd': 4127, 'Jack': 4098, 'Dcab': 7678}\n",
    "\n",
    "for name, phone in table.items():\n",
    "    print('{} ==> {}'.format(name, phone))"
   ]
  },
  {
   "cell_type": "markdown",
   "metadata": {},
   "source": [
    "# 動手做 --------------------------------------------------------------------"
   ]
  },
  {
   "cell_type": "markdown",
   "metadata": {},
   "source": [
    "#### 題目: 格式列印\n",
    "* 給定一個以0結尾的整數序列。以相反的順序打印序列。不要使用列表或其他數據結構。請改用遞迴。\n",
    "\n",
    "* 範例:\n",
    " * input: \n",
    "    * 1\n",
    "    * 2\n",
    "    * 3\n",
    "    * 0\n",
    " * output: \n",
    "    * 0\n",
    "    * 3\n",
    "    * 2\n",
    "    * 1"
   ]
  },
  {
   "cell_type": "markdown",
   "metadata": {},
   "source": [
    "# -------------------------------------------------------------------------end"
   ]
  },
  {
   "cell_type": "code",
   "execution_count": null,
   "metadata": {},
   "outputs": [],
   "source": []
  },
  {
   "cell_type": "markdown",
   "metadata": {},
   "source": [
    "# 動手做 --------------------------------------------------------------------"
   ]
  },
  {
   "cell_type": "markdown",
   "metadata": {},
   "source": [
    "#### 題目: 格式列印，結合for loop的題目\n",
    "* 給定一個以0結尾的整數序列。以相反的順序打印序列。不要使用列表或其他數據結構。請改用遞迴。\n",
    "\n",
    "* 範例:\n",
    " * input:"
   ]
  },
  {
   "cell_type": "markdown",
   "metadata": {},
   "source": [
    "# -------------------------------------------------------------------------end"
   ]
  },
  {
   "cell_type": "code",
   "execution_count": null,
   "metadata": {},
   "outputs": [],
   "source": []
  },
  {
   "cell_type": "markdown",
   "metadata": {},
   "source": [
    "# Reading FIles"
   ]
  },
  {
   "cell_type": "code",
   "execution_count": null,
   "metadata": {
    "scrolled": true
   },
   "outputs": [],
   "source": [
    "# read txt file ==>read()：\n",
    "#1、讀取整個文檔，將文檔內容放到一個字符串變量中\n",
    "#2、如果文檔大於可用內存，不可能使用這種處理\n",
    "\n",
    "f=open('article.txt', 'r',encoding=\"utf8\")\n",
    "\n",
    "print(f.read())\n",
    "\n",
    "f.close()    \n",
    "    "
   ]
  },
  {
   "cell_type": "code",
   "execution_count": null,
   "metadata": {
    "scrolled": true
   },
   "outputs": [],
   "source": [
    "# read txt file ==>read()：\n",
    "#1、讀取整個文檔，將文檔內容放到一個字符串變量中\n",
    "#2、如果文檔大於可用內存，不可能使用這種處理\n",
    "\n",
    "f=open('C:\\\\test\\\\article.txt', 'r', encoding=\"utf8\")\n",
    "\n",
    "print(f.read())\n",
    "\n",
    "f.close()    \n",
    "    "
   ]
  },
  {
   "cell_type": "code",
   "execution_count": null,
   "metadata": {
    "scrolled": true
   },
   "outputs": [],
   "source": [
    "# read txt file ==>read()：\n",
    "#1、讀取整個文檔，將文檔內容放到一個字符串變量中\n",
    "#2、如果文檔大於可用內存，不可能使用這種處理\n",
    "\n",
    "f=open(r'C:\\test\\article.txt', 'r', encoding=\"utf8\")\n",
    "\n",
    "print(f.read())\n",
    "\n",
    "f.close()    \n",
    "    "
   ]
  },
  {
   "cell_type": "code",
   "execution_count": null,
   "metadata": {},
   "outputs": [],
   "source": [
    "# read txt file==>readline()\n",
    "#每次讀取一行，比readlines()慢得多\n",
    "\n",
    "f = open('article.txt','r',encoding=\"utf8\")\n",
    "while True:\n",
    "    line = f.readline()\n",
    "    if line:\n",
    "        print (line)\n",
    "    else:\n",
    "        break\n",
    "        \n",
    "f.close()"
   ]
  },
  {
   "cell_type": "markdown",
   "metadata": {},
   "source": [
    "# Reading FIles - 路徑處理"
   ]
  },
  {
   "cell_type": "code",
   "execution_count": null,
   "metadata": {},
   "outputs": [],
   "source": [
    "#路徑處理\n",
    "datafile = os.path.join(r'C:\\Users\\jason', 'c.docx')\n",
    "print(datafile)"
   ]
  },
  {
   "cell_type": "code",
   "execution_count": null,
   "metadata": {},
   "outputs": [],
   "source": [
    "#路徑處理\n",
    "\n",
    "import os.path\n",
    "myFiles = ['a.txt', 'b.csv', 'c.docx']\n",
    "for filename in myFiles:\n",
    "    print(os.path.join(r'C:\\Users\\jason', filename))"
   ]
  },
  {
   "cell_type": "code",
   "execution_count": null,
   "metadata": {
    "scrolled": true
   },
   "outputs": [],
   "source": [
    "#路徑處理\n",
    "\n",
    "datafile = os.path.join(r'C:\\test', 'article.txt')\n",
    "f=open(datafile, 'r', encoding=\"utf8\")\n",
    "\n",
    "print(f.read())\n",
    "\n",
    "f.close()    \n",
    "    "
   ]
  },
  {
   "cell_type": "markdown",
   "metadata": {},
   "source": [
    "# 動手做 --------------------------------------------------------------------"
   ]
  },
  {
   "cell_type": "markdown",
   "metadata": {},
   "source": [
    "#### 題目: 開啟檔案(路徑設定)，列印\n",
    "* 給定一個以0結尾的整數序列。以相反的順序打印序列。不要使用列表或其他數據結構。請改用遞迴。\n",
    "\n",
    "* 範例:\n",
    " * input: \n",
    "    * 1\n",
    "    * 2\n",
    "    * 3\n",
    "    * 0\n",
    " * output: \n",
    "    * 0\n",
    "    * 3\n",
    "    * 2\n",
    "    * 1"
   ]
  },
  {
   "cell_type": "markdown",
   "metadata": {},
   "source": [
    "# -------------------------------------------------------------------------end"
   ]
  },
  {
   "cell_type": "code",
   "execution_count": null,
   "metadata": {},
   "outputs": [],
   "source": []
  },
  {
   "cell_type": "markdown",
   "metadata": {},
   "source": [
    "# Writing File"
   ]
  },
  {
   "cell_type": "code",
   "execution_count": null,
   "metadata": {
    "scrolled": false
   },
   "outputs": [],
   "source": [
    "# read txt file ==>readlines()\n",
    "#1、一次性讀取整個文檔。\n",
    "#2、自動將文檔內容分析成 list\n",
    "\n",
    "f = open('article.txt','r',encoding=\"utf8\")\n",
    "\n",
    "lines = f.readlines()\n",
    "result = list()\n",
    "\n",
    "for line in lines:\n",
    "    print(line, end='\\n')\n",
    "    result.append(line.strip()) #remove SPACE character\n",
    "    \n",
    "f.close()  \n",
    "\n",
    "print('-'*40)\n",
    "print (result)\n",
    "              \n",
    "#open('result-readline.txt', 'w').write('%s' % '\\n'.join(result))"
   ]
  },
  {
   "cell_type": "code",
   "execution_count": null,
   "metadata": {},
   "outputs": [],
   "source": [
    "f = open('output.txt', 'w')\n",
    "\n",
    "f.write(\"這是要寫入的資料\\n\")\n",
    "f.write(\"這是要寫入的資料\\n\")\n",
    "\n",
    "f.close()"
   ]
  },
  {
   "cell_type": "code",
   "execution_count": null,
   "metadata": {},
   "outputs": [],
   "source": [
    "# Writetxt File\n",
    "#'r+'  read + write text\n",
    "#'w+'  read + write text\n",
    "#'a+'  append + read text\n",
    "\n",
    "f = open('result-readline.txt', 'w', encoding=\"utf-8\")   # must have encoding=\"utf-8\"\n",
    "\n",
    "for line in result:\n",
    "    print(line, end='\\n') \n",
    "    f.write(line)\n",
    "    \n",
    "f.close()  \n",
    "\n",
    "# method 2\n",
    "#open('result-readline.txt', 'w').write('%s' % '\\n'.join(result))"
   ]
  },
  {
   "cell_type": "markdown",
   "metadata": {},
   "source": [
    "# 動手做 --------------------------------------------------------------------"
   ]
  },
  {
   "cell_type": "markdown",
   "metadata": {},
   "source": [
    "#### 題目: 輸入一堆資料，存檔\n",
    "* 給定一個以0結尾的整數序列。以相反的順序打印序列。不要使用列表或其他數據結構。請改用遞迴。\n",
    "\n",
    "* 範例:\n",
    " * input: "
   ]
  },
  {
   "cell_type": "code",
   "execution_count": null,
   "metadata": {},
   "outputs": [],
   "source": []
  },
  {
   "cell_type": "code",
   "execution_count": null,
   "metadata": {},
   "outputs": [],
   "source": []
  },
  {
   "cell_type": "markdown",
   "metadata": {},
   "source": [
    "# -------------------------------------------------------------------------end"
   ]
  },
  {
   "cell_type": "code",
   "execution_count": null,
   "metadata": {},
   "outputs": [],
   "source": []
  },
  {
   "cell_type": "markdown",
   "metadata": {},
   "source": [
    "# try...finally"
   ]
  },
  {
   "cell_type": "code",
   "execution_count": null,
   "metadata": {},
   "outputs": [],
   "source": [
    "x = 1\n",
    "\n",
    "try:\n",
    "  print(x)\n",
    "\n",
    "except:\n",
    "  print(\"Something went wrong\")\n",
    "\n",
    "finally:\n",
    "  print(\"The 'try except' is finished\")"
   ]
  },
  {
   "cell_type": "code",
   "execution_count": null,
   "metadata": {
    "scrolled": true
   },
   "outputs": [],
   "source": [
    "#file I/O: try ... except\n",
    "try:\n",
    "    with open('article.txt', 'r',encoding=\"utf8\") as f:\n",
    "        print(f.read())\n",
    "\n",
    "except IOError:\n",
    "    print(\"ERROR\")\n",
    "\n",
    "f.close()    \n",
    "    "
   ]
  },
  {
   "cell_type": "code",
   "execution_count": null,
   "metadata": {
    "scrolled": true
   },
   "outputs": [],
   "source": [
    "#file I/O: try ... except\n",
    "try:\n",
    "    with open('aaaaaarticle.txt', 'r',encoding=\"utf8\") as f:\n",
    "        print(f.read())\n",
    "\n",
    "except IOError:\n",
    "    print(\"ERROR\")\n",
    "\n",
    "f.close()    \n",
    "    "
   ]
  },
  {
   "cell_type": "code",
   "execution_count": null,
   "metadata": {
    "scrolled": true
   },
   "outputs": [],
   "source": [
    "#file I/O: try ... except\n",
    "try:\n",
    "    with open('article.txt', 'r',encoding=\"utf8\") as f:\n",
    "        print(f.read())\n",
    "\n",
    "finally:\n",
    "    f.close()    \n",
    "    print('file is closed')"
   ]
  },
  {
   "cell_type": "code",
   "execution_count": null,
   "metadata": {},
   "outputs": [],
   "source": [
    "#file I/O\n",
    "try:\n",
    "    open('log.txt', 'w')\n",
    "    f.write(\"hello\")\n",
    "except :\n",
    "    print(\"ERROR\")\n",
    "finally:\n",
    "    print(\"OK\")"
   ]
  },
  {
   "cell_type": "code",
   "execution_count": null,
   "metadata": {},
   "outputs": [],
   "source": [
    "#file I/O\n",
    "try:\n",
    "    f = open('log.txt', 'a+')\n",
    "    print(\"ready to read file\")\n",
    "    f.write(\"hello\")\n",
    "except :\n",
    "    print(\"ERROR\")\n",
    "finally:\n",
    "    print(\"OK\")"
   ]
  },
  {
   "cell_type": "markdown",
   "metadata": {},
   "source": [
    "# with ... as"
   ]
  },
  {
   "cell_type": "code",
   "execution_count": 7,
   "metadata": {},
   "outputs": [
    {
     "name": "stdout",
     "output_type": "stream",
     "text": [
      "﻿科技部長陳良基表示，AI時代，軟硬整合非常重要，\n",
      "台灣強項顯現！過去台灣在硬體、半導體領域創造典範，\n",
      "不過在世界邁向軟硬整合的過程中，台灣企業在導入AI的腳步仍稍嫌緩慢。\n",
      "如果你是韌體開發工程師、嵌入式開發工程師、FPGA工程師等工程背景，\n",
      "現在是最好的機會，透過培養AI職能來發揮軟硬整合的價值。\n",
      "\n",
      "\n",
      "\n",
      "若您非理工相關背景，也不需擔心，透過培養AI職能，\n",
      "幫你的本業加分。我們雖然不一定要成為創造AI的工程師，\n",
      "但我們必須了解AI，知道它所影響的層面，才能發揮自身優勢。\n",
      "因為未來是AI的時代，知己知彼才能百戰百勝。"
     ]
    }
   ],
   "source": [
    "file = open('article.txt', 'r', encoding='UTF-8')\n",
    "try:\n",
    "    for line in file:\n",
    "        print(line, end='')\n",
    "        \n",
    "except:\n",
    "    print('讀取檔案發生錯誤')\n",
    "    \n",
    "finally:\n",
    "    file.close()"
   ]
  },
  {
   "cell_type": "code",
   "execution_count": 6,
   "metadata": {},
   "outputs": [
    {
     "name": "stdout",
     "output_type": "stream",
     "text": [
      "﻿科技部長陳良基表示，AI時代，軟硬整合非常重要，\n",
      "台灣強項顯現！過去台灣在硬體、半導體領域創造典範，\n",
      "不過在世界邁向軟硬整合的過程中，台灣企業在導入AI的腳步仍稍嫌緩慢。\n",
      "如果你是韌體開發工程師、嵌入式開發工程師、FPGA工程師等工程背景，\n",
      "現在是最好的機會，透過培養AI職能來發揮軟硬整合的價值。\n",
      "\n",
      "\n",
      "\n",
      "若您非理工相關背景，也不需擔心，透過培養AI職能，\n",
      "幫你的本業加分。我們雖然不一定要成為創造AI的工程師，\n",
      "但我們必須了解AI，知道它所影響的層面，才能發揮自身優勢。\n",
      "因為未來是AI的時代，知己知彼才能百戰百勝。"
     ]
    }
   ],
   "source": [
    "with open('article.txt', 'r', encoding='UTF-8') as file:\n",
    "    for line in file:\n",
    "        print(line, end='')  #即使在with as的區塊中發生了例外，最後一定會關閉file所參考的物件。\n",
    "\n",
    "        "
   ]
  },
  {
   "cell_type": "markdown",
   "metadata": {},
   "source": [
    "# 動手做 --------------------------------------------------------------------"
   ]
  },
  {
   "cell_type": "markdown",
   "metadata": {},
   "source": [
    "#### 題目: 待確認\n",
    "* 給定一個以0結尾的整數序列。以相反的順序打印序列。不要使用列表或其他數據結構。請改用遞迴。\n",
    "\n",
    "* 範例:\n",
    " * input: "
   ]
  },
  {
   "cell_type": "code",
   "execution_count": null,
   "metadata": {},
   "outputs": [],
   "source": []
  },
  {
   "cell_type": "code",
   "execution_count": null,
   "metadata": {},
   "outputs": [],
   "source": []
  },
  {
   "cell_type": "markdown",
   "metadata": {},
   "source": [
    "# -------------------------------------------------------------------------end"
   ]
  },
  {
   "cell_type": "code",
   "execution_count": null,
   "metadata": {},
   "outputs": [],
   "source": []
  },
  {
   "cell_type": "markdown",
   "metadata": {},
   "source": [
    "# Process CSV data"
   ]
  },
  {
   "cell_type": "markdown",
   "metadata": {},
   "source": [
    "# Read CSV data - Get file using HTTPS (URLlib) - start"
   ]
  },
  {
   "cell_type": "code",
   "execution_count": null,
   "metadata": {},
   "outputs": [],
   "source": [
    "url = \"https://www.python.org/static/img/python-logo@2x.png\"\n",
    "\n",
    "urllib.request.urlretrieve(url, \"python_logo.png\")"
   ]
  },
  {
   "cell_type": "code",
   "execution_count": null,
   "metadata": {},
   "outputs": [],
   "source": [
    "import matplotlib.pyplot as plt\n",
    "import matplotlib.image as mpimg\n",
    "\n",
    "I = mpimg.imread('python_logo.png')\n",
    "plt.imshow(I)"
   ]
  },
  {
   "cell_type": "code",
   "execution_count": 3,
   "metadata": {},
   "outputs": [
    {
     "name": "stdout",
     "output_type": "stream",
     "text": [
      "['\\ufeff醫事機構代碼', '醫事機構名稱', '醫事機構地址', '醫事機構電話', '成人口罩剩餘數', '兒童口罩剩餘數', '來源資料時間']\n",
      "['5901013371', '玖田藥局', '臺北市松山區八德路４段６５５號', '(02)27666578', '3', '425', '2020/09/20 23:02:51']\n",
      "['5901020590', '燕福藥局', '臺北市大安區羅斯福路３段２８３巷１４弄１４號之３', '(02)23627307', '522', '2132', '2020/09/20 23:02:51']\n",
      "['5901023653', '信安健康藥局', '臺北市大安區仁愛路４段１２２巷５８號', '(02)27084858', '40', '465', '2020/09/20 23:02:51']\n",
      "['5901092087', '躍獅文昌藥局', '臺北市大同區民生西路１０８號（實際營業：一層）', '(02)25586189', '0', '670', '2020/09/20 23:02:51']\n",
      "['5901102971', '保德明水藥局', '臺北市中山區北安路６０８巷４弄１號', '(02)85097769', '346', '120', '2020/09/20 23:02:51']\n",
      "['5901110393', '明湖藥局', '臺北市內湖區東湖路７巷２７號１Ｆ', '(02)26313515', '243', '600', '2020/09/20 23:02:51']\n",
      "['5901162173', '小明藥局', '臺北市北投區中央南路１段６９號２樓', '(02)28928950', '522', '250', '2020/09/20 23:02:51']\n",
      "['5901163527', '理得藥局', '臺北市北投區石牌路１段１５０號', '(02)28289680', '4', '270', '2020/09/20 23:02:51']\n",
      "['5902040087', '世詠藥局', '高雄市楠梓區楠都東街１３８號', '(07)3539869', '84', '1237', '2020/09/20 23:02:51']\n",
      "['5902042657', '皇慶藥局', '高雄市楠梓區和光街１９１號', '(07)3643352', '40', '0', '2020/09/20 23:02:51']\n",
      "['5902050154', '杏安藥局', '高雄市三民區十全一路91 號', '(07)3111606', '0', '700', '2020/09/20 23:02:51']\n",
      "['5902050298', '瑞鶴藥局', '高雄市三民區寶德里義德路２５號', '(07)3862757', '63', '1010', '2020/09/20 23:02:51']\n",
      "['5902051240', '明皇藥局', '高雄市三民區寶國里義華路１８１號', '(07)3860121', '2106', '897', '2020/09/20 23:02:51']\n",
      "['5902057144', '欣仁惠藥局', '高雄市三民區大昌二路２４８號', '(07)3837833', '569', '452', '2020/09/20 23:02:51']\n",
      "['5902057822', '建工丁丁藥局', '高雄市三民區建工路５６８號', '(07)3830841', '426', '319', '2020/09/20 23:02:51']\n",
      "['5902080376', '政德藥局', '高雄市苓雅區正大里武廟路２９號', '(07)7114371', '0', '1200', '2020/09/20 23:02:51']\n",
      "['5902090032', '全國大藥局', '高雄市前鎮區三多二路４０３號１樓', '(07)3345775', '1', '837', '2020/09/20 23:02:51']\n",
      "['5903090116', '上宇藥局', '臺中市潭子區中山路２段３８１號１樓', '(04)25321258', '792', '1005', '2020/09/20 23:02:51']\n",
      "['5903150019', '統元藥局', '臺中市烏日區中華路５８３號', '(04)23377588', '3213', '605', '2020/09/20 23:02:51']\n",
      "['5903220114', '鄧博士藥局', '臺中市中區中山路３２５號１樓', '(04)22256851', '5', '936', '2020/09/20 23:02:51']\n",
      "['5903270570', '百富藥局', '臺中市西屯區福上巷１６號', '(04)22970708', '443', '752', '2020/09/20 23:02:51']\n",
      "['5903280165', '南屯福倫藥局', '臺中市南屯區南屯路２段３１７號', '(04)24758018', '756', '1230', '2020/09/20 23:02:51']\n",
      "['5905050094', '建昌藥局佳里店', '臺南市佳里區光復路３７１號', '(06)7221369', '180', '150', '2020/09/20 23:02:51']\n",
      "['5905270087', '嘉鶴藥局', '臺南市仁德區仁和里二空路９８號１樓', '(06)2680608', '1467', '1120', '2020/09/20 23:02:51']\n",
      "['5905290025', '義德藥局', '臺南市關廟區關廟里忠孝街７號', '(06)5954061', '145', '681', '2020/09/20 23:02:51']\n",
      "['5907310173', '安健藥局', '高雄市楠梓區鳳楠路２５０號', '(07)3520167', '3216', '1444', '2020/09/20 23:02:51']\n",
      "['5907340046', '銘益藥局', '高雄市前金區七賢二路２０８、２１０號１樓', '(07)2853107', '371', '98', '2020/09/20 23:02:51']\n",
      "['5907360146', '好芳鄰藥局', '高雄市前鎮區光華二路２５７號', '(07)3318657', '2852', '1010', '2020/09/20 23:02:51']\n",
      "['5907360226', '順康健保藥局', '高雄市前鎮區一心二路６７號', '(07)5364438', '157', '836', '2020/09/20 23:02:51']\n",
      "['5907360584', '聖名健保藥局', '高雄市前鎮區復興三路２４６號１樓', '(07)3319431', '1533', '564', '2020/09/20 23:02:51']\n",
      "['5911031176', '家宏藥局', '基隆市暖暖區源遠路２８１之２號１樓', '(02)24595982', '1211', '764', '2020/09/20 23:02:51']\n",
      "['5911051409', '順豐藥局', '基隆市中山區中華路４號', '(02)24369176', '1881', '707', '2020/09/20 23:02:51']\n",
      "['5911051490', '大哈密藥局', '基隆市中山區中山二路５號', '(02)24285368', '3642', '1973', '2020/09/20 23:02:51']\n",
      "['5917010082', '仁壽藥局', '臺中市中區東墩里三民路三段１號', '(04)22228058', '2554', '710', '2020/09/20 23:02:51']\n",
      "['5917030128', '太信藥局', '臺中市西區三民路一段９５－１號１樓', '(04)23718318', '746', '1119', '2020/09/20 23:02:51']\n",
      "['5917030388', '富永藥局', '臺中市西區三民西路１６１號', '(04)23714681', '0', '570', '2020/09/20 23:02:51']\n",
      "['5917030646', '華隆藥局', '臺中市西區樂群街６之２號', '(04)22243785', '1116', '950', '2020/09/20 23:02:51']\n",
      "['5917060331', '宏吉藥局', '臺中市西屯區大福里長安路二段３１６號１樓', '(04)22910825', '954', '1010', '2020/09/20 23:02:51']\n",
      "['5917070659', '德安藥局', '臺中市南屯區文山里忠勇路１１５－６號１樓', '(04)23894920', '3', '28', '2020/09/20 23:02:51']\n",
      "['5917081170', '順天大藥局', '臺中市北屯區中清路二段２３２號１樓', '(04)22918847', '1040', '0', '2020/09/20 23:02:51']\n",
      "['5917083316', '春元藥局', '臺中市北屯區東山路１段２８７號', '(04)24361008', '0', '641', '2020/09/20 23:02:51']\n",
      "['5917083343', '豋盛藥局', '臺中市北屯區北平路三段１０７號', '(04)22373863', '0', '462', '2020/09/20 23:02:51']\n",
      "['5921042289', '公園店菁安藥局', '臺南市北區公園路６１１號', '(06)2834488', '0', '330', '2020/09/20 23:02:51']\n",
      "['5921051537', '大全藥局', '臺南市中西區府連路３９號', '(06)2145007', '801', '1040', '2020/09/20 23:02:51']\n",
      "['5922010441', '穎川保健藥局', '嘉義市東區仁武里中山路２０４號', '(05)2223609', '1006', '434', '2020/09/20 23:02:51']\n",
      "['5922013031', '德昌藥局', '嘉義市東區中央里吳鳳北路２１１號', '(05)2280306', '1578', '1226', '2020/09/20 23:02:51']\n",
      "['5922020661', '大正藥局', '嘉義市西區書院里民族路７０２號', '(05)2285812', '180', '40', '2020/09/20 23:02:51']\n",
      "['5922028863', '益生堂藥局', '嘉義市西區杭州三街３０號', '(05)2861415', '0', '3', '2020/09/20 23:02:51']\n",
      "['592202A296', '秉原藥局', '嘉義市西區書院里民族路７００號', '(05)2285811', '54', '30', '2020/09/20 23:02:51']\n",
      "['592202A349', '力健藥局', '嘉義市西區文化路５９１號', '(05)2323217', '779', '725', '2020/09/20 23:02:51']\n",
      "['5931021372', '福昌大藥局', '新北市三重區溪尾街２０５號', '(02)29714069', '1011', '233', '2020/09/20 23:02:51']\n",
      "['5931024622', '萊康健保藥局', '新北市三重區溪尾街１７６號１樓', '(02)82871076', '625', '822', '2020/09/20 23:02:51']\n",
      "['5931025236', '祐銘藥局', '新北市三重區龍門路２２號１樓', '(02)29769001', '2777', '862', '2020/09/20 23:02:51']\n",
      "['5931060646', '王藥局', '新北市新莊區昌盛街３８號', '(02)29922404', '472', '966', '2020/09/20 23:02:51']\n",
      "['5931068302', '宏發藥局', '新北市新莊區民安西路２６３號１樓', '(02)22048303', '1797', '1130', '2020/09/20 23:02:51']\n",
      "['5931071774', '澤安藥師藥局', '新北市樹林區保安二街２６號１樓', '(02)26872764', '496', '20', '2020/09/20 23:02:51']\n",
      "['5931071934', '樹新藥局', '新北市樹林區樹新路３０－３號１樓', '(02)26821080', '828', '100', '2020/09/20 23:02:51']\n",
      "['5931072066', '琉璃水藥師藥局', '新北市樹林區龍興街２１號１樓', '(02)26764262', '0', '1280', '2020/09/20 23:02:51']\n",
      "['5931171537', '茂晟藥局', '新北市林口區文化三路２段３２８號１樓', '(02)26020593', '1979', '290', '2020/09/20 23:02:51']\n",
      "['5931171779', '全球忠孝藥局', '新北市林口區忠孝路４９７號１樓', '(02)26092139', '2481', '0', '2020/09/20 23:02:51']\n",
      "['5932013007', '南門藥局', '桃園市桃園區南華街５３號', '(03)3335395', '0', '60', '2020/09/20 23:02:51']\n",
      "['5932013909', '莊敬長青藥師藥局', '桃園市桃園區莊敬路一段３２３號１樓', '(03)3587676', '891', '270', '2020/09/20 23:02:51']\n",
      "['5932022300', '育康藥局', '桃園市中壢區中正路３６６號', '(03)4278266', '0', '378', '2020/09/20 23:02:51']\n",
      "['5932023432', '敏康藥局', '桃園市中壢區福德路３４號之１樓', '(03)4611961', '306', '970', '2020/09/20 23:02:51']\n",
      "['5932023450', '環中藥局', '桃園市中壢區環中東路１８１號', '(03)4618873', '1192', '619', '2020/09/20 23:02:51']\n",
      "['5932029934', '康和藥局', '桃園市中壢區中光路５３號一樓', '(03)4253281', '541', '739', '2020/09/20 23:02:51']\n",
      "['5932060088', '銘方大藥局', '桃園市大園區大園里中華路３２號', '(03)3865077', '342', '700', '2020/09/20 23:02:51']\n",
      "['5932060168', '永固安藥局', '桃園市大園區中山南路五六號', '(03)3867233', '36', '100', '2020/09/20 23:02:51']\n",
      "['5932077154', '博爾康生活藥局', '桃園市龜山區大同路２５０號１樓', '(03)3506588', '0', '653', '2020/09/20 23:02:51']\n",
      "['5932077510', '左外野藥局', '桃園市龜山區文光街６號１樓', '(03)3271503', '315', '1053', '2020/09/20 23:02:51']\n",
      "['5933080119', '建仁藥局', '新竹縣新豐鄉建興路一段１２２號', '(03)5595850', '387', '0', '2020/09/20 23:02:51']\n",
      "['5934010086', '圓滿堂藥局', '宜蘭縣宜蘭市中山路３段４８號', '(03)9323413', '840', '0', '2020/09/20 23:02:51']\n",
      "['5934012366', '熊賀大藥局', '宜蘭縣宜蘭市女中路３段２６號', '(03)9352950', '156', '0', '2020/09/20 23:02:51']\n",
      "['5934022013', '康莊藥局', '宜蘭縣羅東鎮康樂巷１號', '(03)9553168', '3150', '0', '2020/09/20 23:02:51']\n",
      "['5934031165', '宏一藥局', '宜蘭縣蘇澳鎮中山路１段２９號', '(03)9962125', '10570', '1390', '2020/09/20 23:02:51']\n",
      "['5934091072', '新安藥局', '宜蘭縣五結鄉中正路１段１７０號１樓', '(03)9566377', '2235', '870', '2020/09/20 23:02:51']\n",
      "['5935050253', '泉興藥局', '苗栗縣頭份市仁愛里民族路２８號', '(037)664367', '0', '370', '2020/09/20 23:02:51']\n",
      "['5936010280', '快安藥局', '臺中市豐原區三豐路一段２０５號', '(04)25228169', '2226', '314', '2020/09/20 23:02:51']\n",
      "['5936021363', '小太陽藥局', '臺中市東勢區豐勢路４１２之１、４１６號１樓', '(04)25773481', '1008', '480', '2020/09/20 23:02:51']\n",
      "['5936031707', '大甲福倫藥局', '臺中市大甲區蔣公路２０２號', '(04)26765518', '0', '920', '2020/09/20 23:02:51']\n",
      "['593620A891', '御和藥局', '臺中市大里區東興里益民路二段３２３號', '(04)24821555', '1602', '360', '2020/09/20 23:02:51']\n",
      "['593620B138', '聯生中西健保藥局', '臺中市大里區現岱路１５８巷１１號', '(04)24834058', '706', '434', '2020/09/20 23:02:51']\n",
      "['5937071385', '正益藥局', '彰化縣田中鎮北路里新福路５３巷１３號１樓', '(04)8761001', '1665', '1161', '2020/09/20 23:02:51']\n",
      "['5937121237', '福慧藥局', '彰化縣秀水鄉彰水路２段２０３號', '(04)7689180', '1458', '742', '2020/09/20 23:02:51']\n",
      "['5937140018', '民生藥局', '彰化縣芬園鄉社口村彰南路４段１１３號', '(049)2522595', '3', '802', '2020/09/20 23:02:51']\n",
      "['5937140054', '正明藥局', '彰化縣芬園鄉茄荖村芬草路一段２７３號', '(049)2523918', '2699', '1146', '2020/09/20 23:02:51']\n",
      "['5937201061', '長春藥局', '彰化縣二水鄉文化村光文路１０３號', '(04)8795289', '1167', '901', '2020/09/20 23:02:51']\n",
      "['5938020104', '新仁壽藥局', '南投縣埔里鎮南門里南榮路１３號１樓', '(049)2983210', '0', '806', '2020/09/20 23:02:51']\n",
      "['5938040277', '潘藥局', '南投縣竹山鎮竹山里下橫街２６－１１號', '(049)2645613', '62', '1017', '2020/09/20 23:02:51']\n",
      "['5938041729', '早安藥局', '南投縣竹山鎮雲林路４１號', '(049)2651032', '0', '430', '2020/09/20 23:02:51']\n",
      "['5938041872', '優適藥局', '南投縣竹山鎮大明路１４９－５號', '(049)2630355', '1545', '730', '2020/09/20 23:02:51']\n",
      "['5939012133', '鎮東藥局', '雲林縣斗六市中華路４６０號', '(05)5332449', '1800', '160', '2020/09/20 23:02:51']\n",
      "['5939012455', '禾民藥局', '雲林縣斗六市民生南路７３號', '(05)5342486', '330', '599', '2020/09/20 23:02:51']\n",
      "['5939021392', '南安藥局', '雲林縣斗南鎮南昌路１３７號１樓', '(05)5952777', '828', '265', '2020/09/20 23:02:51']\n",
      "['5939031585', '利芳藥局', '雲林縣虎尾鎮光復路３１０號', '(05)6311016', '1520', '533', '2020/09/20 23:02:51']\n",
      "['5939032224', '文心藥局', '雲林縣虎尾鎮信義路６號', '(05)6362365', '2952', '582', '2020/09/20 23:02:51']\n",
      "['5939032626', '林藥師藥局', '雲林縣虎尾鎮中正路２０７號', '(05)6334135', '579', '810', '2020/09/20 23:02:51']\n",
      "['5939091170', '西河藥局', '雲林縣莿桐鄉饒平村饒平路１０２號', '(05)5842950', '1430', '463', '2020/09/20 23:02:51']\n",
      "['5939110027', '清華藥局', '雲林縣二崙鄉崙東村中山路一段２８４號', '(05)5982438', '561', '568', '2020/09/20 23:02:51']\n",
      "['5939130010', '瀧升藥局', '雲林縣麥寮鄉麥豐村中正路１０３號', '(05)6933880', '565', '690', '2020/09/20 23:02:51']\n",
      "['5939130029', '見春藥局', '雲林縣麥寮鄉橋頭村仁德路７４號', '(05)6912265', '2374', '1129', '2020/09/20 23:02:51']\n",
      "['5939131151', '三芳藥局', '雲林縣麥寮鄉橋頭村仁德路１７６號', '(05)6911053', '666', '1125', '2020/09/20 23:02:51']\n",
      "['5939191139', '寶健藥局', '雲林縣口湖鄉梧南村光明路１７２號', '(05)7907453', '2200', '793', '2020/09/20 23:02:51']\n",
      "['5939201283', '義生藥局', '雲林縣水林鄉水林路１９７號', '(05)7853701', '7657', '1351', '2020/09/20 23:02:51']\n",
      "['5940111469', '嘉安藥局', '嘉義縣太保市麻寮里中山路２段４６號', '(05)2387670', '0', '2', '2020/09/20 23:02:51']\n",
      "['5940121205', '楊藥局', '嘉義縣水上鄉忠和村６８之５號', '(05)2890687', '555', '1219', '2020/09/20 23:02:51']\n",
      "['5940121349', '照安藥局', '嘉義縣水上鄉水頭村中興路４０８號', '(05)2687897', '0', '1150', '2020/09/20 23:02:51']\n",
      "['5941040012', '杏林藥局', '臺南市麻豆區晉江里興中路１３６號', '(06)5722692', '2170', '1455', '2020/09/20 23:02:51']\n",
      "['5941041297', '台灣藥局', '臺南市麻豆區信義路１１之１３號', '(06)5726126', '603', '1370', '2020/09/20 23:02:51']\n",
      "['5941051453', '佳佳藥局', '臺南市佳里區中山路３８６號', '(06)7227639', '1205', '1260', '2020/09/20 23:02:51']\n",
      "['5941200045', '慶豐綜合藥局', '臺南市新市區新和里民生路５７號', '(06)5014888', '225', '470', '2020/09/20 23:02:51']\n",
      "['5941270109', '振裕藥局', '臺南市仁德區二行里二行一路１６５號', '(06)2661478', '483', '998', '2020/09/20 23:02:51']\n",
      "['5941291180', '安麗兒藥局關廟店', '臺南市關廟區中山路２段５０號', '(06)5951952', '0', '610', '2020/09/20 23:02:51']\n",
      "['5941310715', '都都藥局', '臺南市永康區中山南路１２８號', '(06)2314815', '1914', '919', '2020/09/20 23:02:51']\n",
      "['5942013260', '辰好藥局', '高雄市鳳山區中山東路２８１號', '(07)7027064', '0', '205', '2020/09/20 23:02:51']\n",
      "['5942021726', '天德藥局', '高雄市岡山區碧紅里中山北路３９號', '(07)6230111', '243', '0', '2020/09/20 23:02:51']\n",
      "['5943010156', '新東洋藥局', '屏東縣屏東市民生路２３８號', '(08)7323388', '2310', '1238', '2020/09/20 23:02:51']\n",
      "['5943010665', '中美藥局', '屏東縣屏東市扶風里林森路４５號', '(08)7348697', '1399', '930', '2020/09/20 23:02:51']\n",
      "['5943013166', '名正生活美藥局', '屏東縣屏東市復興南路１段９９號', '(08)7524395', '0', '179', '2020/09/20 23:02:51']\n",
      "['5943013648', '信安藥局', '屏東縣屏東市金泉里漢口街１１號', '(08)7322332', '1890', '625', '2020/09/20 23:02:51']\n",
      "['5943161121', '永明藥局', '屏東縣枋寮鄉安樂村中山路１１９－１號', '(08)8781481', '1187', '1378', '2020/09/20 23:02:51']\n",
      "['5945010154', '郭藥局', '花蓮縣花蓮市中美路９５號之３', '(03)8230761', '2515', '655', '2020/09/20 23:02:51']\n",
      "['5945010289', '易生藥局', '花蓮縣花蓮市中正路４４３號', '(03)8322927', '169', '890', '2020/09/20 23:02:51']\n",
      "['5945011795', '晉嘉藥局', '花蓮縣花蓮市明禮路７１之８號', '(03)8347329', '1755', '664', '2020/09/20 23:02:51']\n",
      "['5945051664', '吉安丁丁藥局', '花蓮縣吉安鄉中華路二段１１號', '(03)8536772', '0', '22', '2020/09/20 23:02:51']\n"
     ]
    }
   ],
   "source": [
    "import  urllib.request, csv\n",
    "\n",
    "url = 'http://data.nhi.gov.tw/Datasets/Download.ashx?rid=A21030000I-D50001-001&l=https://data.nhi.gov.tw/resource/mask/maskdata.csv'\n",
    "webpage = urllib.request.urlopen(url)  #開啟網頁\n",
    "open_data = csv.reader(webpage.read().decode('utf-8').splitlines()) #讀取資料到data陣列中\n",
    "\n",
    "for line in open_data:\n",
    "    print(line)"
   ]
  },
  {
   "cell_type": "code",
   "execution_count": null,
   "metadata": {},
   "outputs": [],
   "source": [
    "import  urllib.request, csv\n",
    "\n",
    "url = 'http://data.nhi.gov.tw/Datasets/Download.ashx?rid=A21030000I-D50001-001&l=https://data.nhi.gov.tw/resource/mask/maskdata.csv'\n",
    "webpage = urllib.request.urlopen(url)  #開啟網頁\n",
    "open_data = csv.reader(webpage.read().decode('utf-8').splitlines()) #讀取資料到data陣列中\n",
    "\n",
    "\n",
    "for i in open_data:\n",
    "    print('名稱->', i[1], '成人口罩=', i[4], '兒童口罩=', i[5])\n"
   ]
  },
  {
   "cell_type": "markdown",
   "metadata": {},
   "source": [
    "# Read CSV data - Get file using HTTPS (URLlib)"
   ]
  },
  {
   "cell_type": "code",
   "execution_count": null,
   "metadata": {},
   "outputs": [],
   "source": [
    "\n",
    "import sys\n",
    "import urllib.request\n",
    "import matplotlib.pyplot as plt\n",
    "src_file = \"data.csv\"\n",
    "\n",
    "try:\n",
    "    data= open(src_file, 'r', encoding=\"utf8\")\n",
    "\n",
    "except IOError:\n",
    "    print('no such file and try to get file using HTTP get')\n",
    "    urllib.request.urlretrieve(\"http://data.nhi.gov.tw/Datasets/Download.ashx?rid=A21030000I-D50001-001&l=https://data.nhi.gov.tw/resource/mask/maskdata.csv\", src_file)\n",
    "    data = open(src_file, 'r', encoding=\"utf8\")\n",
    "\n",
    "lines=[]\n",
    "DataSet=[]\n",
    "\n",
    "for line in data:\n",
    "    print(line.strip().split(','))\n",
    "    DataSet.append((line.strip().split(',')))\n",
    "\n",
    "#detrmine class position (line number\n",
    "allclass=['Education level','Average monthly income','Working environment']\n",
    "\n",
    "print('--'*40)\n",
    "print(DataSet[2][2])\n",
    "\n"
   ]
  },
  {
   "cell_type": "code",
   "execution_count": null,
   "metadata": {},
   "outputs": [],
   "source": [
    "\n",
    "import sys\n",
    "import urllib.request\n",
    "import matplotlib.pyplot as plt\n",
    "src_file = \"11111111data.csv\"\n",
    "\n",
    "try:\n",
    "    data= open(src_file, 'r', encoding=\"utf8\")\n",
    "\n",
    "except IOError:\n",
    "    print('no such file and try to get file using HTTP get')\n",
    "    urllib.request.urlretrieve(\"http://data.nhi.gov.tw/Datasets/Download.ashx?rid=A21030000I-D50001-001&l=https://data.nhi.gov.tw/resource/mask/maskdata.csv\", src_file)\n",
    "    data = open(src_file, 'r', encoding=\"utf8\")\n",
    "\n",
    "lines=[]\n",
    "DataSet=[]\n",
    "\n",
    "for line in data:\n",
    "    print(line.strip().split(','))\n",
    "    DataSet.append((line.strip().split(',')))\n",
    "\n",
    "#detrmine class position (line number\n",
    "allclass=['Education level','Average monthly income','Working environment']\n",
    "\n",
    "print('--'*40)\n",
    "print(DataSet[2][2])\n",
    "\n"
   ]
  },
  {
   "cell_type": "markdown",
   "metadata": {},
   "source": [
    "# 動手做 --------------------------------------------------------------------"
   ]
  },
  {
   "cell_type": "markdown",
   "metadata": {},
   "source": [
    "#### 題目: 下載檔案\n",
    "*  。\n",
    "\n",
    "* 範例:\n",
    " * input: \n",
    "\n",
    " * output: \n"
   ]
  },
  {
   "cell_type": "code",
   "execution_count": null,
   "metadata": {},
   "outputs": [],
   "source": []
  },
  {
   "cell_type": "markdown",
   "metadata": {},
   "source": [
    "# -------------------------------------------------------------------------end"
   ]
  },
  {
   "cell_type": "code",
   "execution_count": null,
   "metadata": {},
   "outputs": [],
   "source": []
  },
  {
   "cell_type": "markdown",
   "metadata": {},
   "source": [
    "# Write CSV file"
   ]
  },
  {
   "cell_type": "code",
   "execution_count": 10,
   "metadata": {},
   "outputs": [],
   "source": [
    "#process csv file\n",
    "import csv \n",
    "filename = \"my_validate.csv\"\n",
    "text = open(filename, \"w+\")\n",
    "\n",
    "s = csv.writer(text,delimiter=',',lineterminator='\\n')\n",
    "s.writerow([\"id\",\"value\"])\n",
    "\n",
    "ans=[[1,100],[2,200],[3,300]]\n",
    "\n",
    "for i in range(len(ans)):\n",
    "    s.writerow(ans[i]) \n",
    "    #print(ans[i],test_y[i])  \n",
    "    \n",
    "text.close()\n"
   ]
  },
  {
   "cell_type": "code",
   "execution_count": null,
   "metadata": {},
   "outputs": [],
   "source": []
  },
  {
   "cell_type": "markdown",
   "metadata": {},
   "source": [
    "# Process JSON data"
   ]
  },
  {
   "cell_type": "code",
   "execution_count": 11,
   "metadata": {},
   "outputs": [
    {
     "name": "stdout",
     "output_type": "stream",
     "text": [
      "{\"name\": \"ACME\", \"shares\": 100, \"price\": 542.23}\n"
     ]
    }
   ],
   "source": [
    "#process JSON format file\n",
    "import json\n",
    "\n",
    "data = {\n",
    "    'name' : 'ACME',\n",
    "    'shares' : 100,\n",
    "    'price' : 542.23\n",
    "}\n",
    "\n",
    "json_str = json.dumps(data)\n",
    "\n",
    "print(json_str)\n",
    "\n",
    "\n",
    "# Writing JSON data\n",
    "with open('data.json', 'w') as f:\n",
    "    json.dump(data, f)\n",
    "\n"
   ]
  },
  {
   "cell_type": "code",
   "execution_count": 12,
   "metadata": {},
   "outputs": [
    {
     "name": "stdout",
     "output_type": "stream",
     "text": [
      "{'name': 'ACME', 'shares': 100, 'price': 542.23}\n"
     ]
    }
   ],
   "source": [
    "# Reading data back\n",
    "with open('data.json', 'r') as f:\n",
    "    data = json.load(f)\n",
    "    \n",
    "print(data)"
   ]
  },
  {
   "cell_type": "code",
   "execution_count": null,
   "metadata": {},
   "outputs": [],
   "source": []
  },
  {
   "cell_type": "markdown",
   "metadata": {},
   "source": [
    "# Process Pickle data"
   ]
  },
  {
   "cell_type": "code",
   "execution_count": 13,
   "metadata": {},
   "outputs": [
    {
     "name": "stdout",
     "output_type": "stream",
     "text": [
      "Showing the pickled data:\n",
      "The data  0  is :  0\n",
      "The data  1  is :  1\n",
      "The data  2  is :  2\n",
      "The data  3  is :  3\n",
      "The data  4  is :  4\n"
     ]
    }
   ],
   "source": [
    "#process pickle format file\n",
    "\n",
    "import pickle\n",
    "\n",
    "# take user input to take the amount of data\n",
    "number_of_data = 5\n",
    "data = []\n",
    "\n",
    "# take input of the data\n",
    "for i in range(number_of_data):\n",
    "    raw =i\n",
    "    data.append(raw)\n",
    "\n",
    "# open a file, where you ant to store the data\n",
    "file = open('important.bin', 'wb')\n",
    "\n",
    "# dump information to that file\n",
    "pickle.dump(data, file)\n",
    "\n",
    "# close the file\n",
    "file.close()\n",
    "\n",
    "#-------------------------------------\n",
    "\n",
    "# open a file, where you stored the pickled data\n",
    "file = open('important.bin', 'rb')\n",
    "\n",
    "# dump information to that file\n",
    "data = pickle.load(file)\n",
    "\n",
    "# close the file\n",
    "file.close()\n",
    "\n",
    "print('Showing the pickled data:')\n",
    "\n",
    "cnt = 0\n",
    "for item in data:\n",
    "    print('The data ', cnt, ' is : ', item)\n",
    "    cnt += 1"
   ]
  },
  {
   "cell_type": "markdown",
   "metadata": {},
   "source": [
    "# 動手做 --------------------------------------------------------------------"
   ]
  },
  {
   "cell_type": "markdown",
   "metadata": {},
   "source": [
    "#### 題目: 下載.Pickle檔案\n",
    "* 給定一個以0結尾的整數序列。以相反的順序打印序列。不要使用列表或其他數據結構。請改用遞迴。\n",
    "\n",
    "* 範例:\n",
    " * input: \n",
    "    * 1"
   ]
  },
  {
   "cell_type": "markdown",
   "metadata": {},
   "source": [
    "#### 題目: 下載.json檔案\n",
    "* 給定一個以0結尾的整數序列。以相反的順序打印序列。不要使用列表或其他數據結構。請改用遞迴。\n",
    "\n",
    "* 範例:\n",
    " * input: \n",
    "    * 1"
   ]
  },
  {
   "cell_type": "code",
   "execution_count": null,
   "metadata": {},
   "outputs": [],
   "source": []
  },
  {
   "cell_type": "code",
   "execution_count": null,
   "metadata": {},
   "outputs": [],
   "source": []
  }
 ],
 "metadata": {
  "celltoolbar": "Raw Cell Format",
  "kernelspec": {
   "display_name": "Python 3",
   "language": "python",
   "name": "python3"
  },
  "language_info": {
   "codemirror_mode": {
    "name": "ipython",
    "version": 3
   },
   "file_extension": ".py",
   "mimetype": "text/x-python",
   "name": "python",
   "nbconvert_exporter": "python",
   "pygments_lexer": "ipython3",
   "version": "3.8.3"
  }
 },
 "nbformat": 4,
 "nbformat_minor": 2
}
