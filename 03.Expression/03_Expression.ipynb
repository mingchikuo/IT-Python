{
 "cells": [
  {
   "cell_type": "markdown",
   "metadata": {},
   "source": [
    "# 動手做"
   ]
  },
  {
   "cell_type": "markdown",
   "metadata": {},
   "source": [
    "### 算術運算"
   ]
  },
  {
   "cell_type": "markdown",
   "metadata": {},
   "source": [
    "#### 題目: 分蘋果\n",
    "* N名學生拿起K個蘋果，並將它們均勻分配。其餘（不可分割）部分保留在購物籃中。\n",
    "* 每個學生將獲得多少個蘋果？ 籃子裡還剩下多少個蘋果？\n",
    "* 範例:\n",
    " * input: 6, 50   #N名學生拿起K個蘋果，分別換行輸入\n",
    " * output: 8, 2"
   ]
  },
  {
   "cell_type": "code",
   "execution_count": null,
   "metadata": {},
   "outputs": [],
   "source": [
    "n = input()\n",
    "nInt = int(n)\n",
    "k = input()\n",
    "kInt = int(k)\n",
    "\n",
    "print(\"每個學生可以獲得：{}個蘋果\".format(kInt//nInt))\n",
    "print(\"籃子裡還剩下：{}個蘋果\".format(kInt%nInt))"
   ]
  },
  {
   "cell_type": "markdown",
   "metadata": {},
   "source": [
    "#### 題目: 需要多少桌子\n",
    "* 一所學校決定更換三個教室中的書桌。每張桌子坐著兩個學生。根據每個班級的學生人數，印出可以購買的最少數量的課桌。\n",
    "該程序應讀取三個整數：a，b和c這三個班級中每個班級的學生人數。\n",
    "\n",
    "* 範例說明: \n",
    "第一班有20個學生，因此需要10個課桌。\n",
    "第二班有21名學生，因此他們最多可以擁有11張桌子。\n",
    "第三班22名學生也可以使用11張書桌。因此，我們總共需要32個辦公桌。\n",
    "* 範例:\n",
    " * input: 20, 21, 22   #每個班級的學生人數分別換行輸入\n",
    " * output: 32"
   ]
  },
  {
   "cell_type": "code",
   "execution_count": 7,
   "metadata": {},
   "outputs": [
    {
     "name": "stdout",
     "output_type": "stream",
     "text": [
      "請輸入第1班人數7\n",
      "請輸入第2班人數7\n",
      "請輸入第3班人數7\n",
      "總共需要：12張桌子\n"
     ]
    }
   ],
   "source": [
    "studentNum1 = int(input(\"請輸入第1班人數\"))\n",
    "studentNum2 = int(input(\"請輸入第2班人數\"))\n",
    "studentNum3 = int(input(\"請輸入第3班人數\"))\n",
    "\n",
    "if studentNum1 % 2 == 0:\n",
    "    tableNum1 = studentNum1//2\n",
    "else:\n",
    "    tableNum1 = studentNum1//2 + 1\n",
    "\n",
    "if studentNum2 % 2 == 0:\n",
    "    tableNum2 = studentNum2//2\n",
    "else:\n",
    "    tableNum2 = studentNum2//2 + 1\n",
    "\n",
    "if studentNum3 % 2 == 0:\n",
    "    tableNum3 = studentNum3//2\n",
    "else:\n",
    "    tableNum3 = studentNum3//2 + 1\n",
    "\n",
    "print(\"總共需要：{}張桌子\".format(tableNum1 + tableNum2 + tableNum3))"
   ]
  },
  {
   "cell_type": "markdown",
   "metadata": {},
   "source": [
    "## 關係運算"
   ]
  },
  {
   "cell_type": "code",
   "execution_count": null,
   "metadata": {},
   "outputs": [],
   "source": [
    "a_list = [\"a\", \"b\", \"c\", \"d\"]\n",
    "b_list = [1, 2, 3, 4]\n",
    "print(a_list is b_list)\n",
    "print(a_list == b_list)\n",
    "\n",
    "a_list = b_list\n",
    "print(a_list is b_list)\n",
    "print(a_list == b_list)"
   ]
  },
  {
   "cell_type": "code",
   "execution_count": null,
   "metadata": {},
   "outputs": [],
   "source": [
    "a1 = ['sunny', 'bunny', 'chinny']\n",
    "a2 = ['sunny', 'bunny', 'chinny']\n",
    "print(a1 is not a2)\n",
    "print(a1 != a2)\n",
    "\n",
    "a1 = a2\n",
    "print(a1 is not a2)\n",
    "print(a1 != a2)"
   ]
  },
  {
   "cell_type": "markdown",
   "metadata": {},
   "source": [
    "### 邏輯運算"
   ]
  },
  {
   "cell_type": "code",
   "execution_count": null,
   "metadata": {},
   "outputs": [],
   "source": [
    "a = 1\n",
    "b = 2\n",
    "c = 3\n",
    "if a<b or b==c:\n",
    "    print(a<b, b==c)\n",
    "if a<b and b<c:\n",
    "    print(a<b, b<c)\n",
    "if not a:\n",
    "    print('a', a)\n",
    "else:\n",
    "    print('not a: ', not a)"
   ]
  },
  {
   "cell_type": "code",
   "execution_count": null,
   "metadata": {},
   "outputs": [],
   "source": [
    "a = 40  #0010 1000\n",
    "print(hex(a))\n",
    "print(bin(int(hex(a), 16)))\n",
    "\n",
    "b = 24  #0001 1000\n",
    "print(hex(b))\n",
    "print(bin(int(hex(b), 16)))\n",
    "\n",
    "c = a | b\n",
    "print(hex(c))\n",
    "print(bin(int(hex(c), 16)))"
   ]
  },
  {
   "cell_type": "code",
   "execution_count": 16,
   "metadata": {},
   "outputs": [
    {
     "name": "stdout",
     "output_type": "stream",
     "text": [
      "0b11000\n",
      "0b10101\n",
      "0b11101\n"
     ]
    }
   ],
   "source": [
    "print(bin(24))\n",
    "print(bin(21))\n",
    "print(bin(24 | 21))"
   ]
  },
  {
   "cell_type": "markdown",
   "metadata": {},
   "source": [
    "### 運算結合性"
   ]
  },
  {
   "cell_type": "code",
   "execution_count": null,
   "metadata": {},
   "outputs": [],
   "source": [
    "a = 6 / 3 * 2\n",
    "print(int(a))"
   ]
  },
  {
   "cell_type": "markdown",
   "metadata": {},
   "source": [
    "### 資料型別轉換"
   ]
  },
  {
   "cell_type": "code",
   "execution_count": null,
   "metadata": {},
   "outputs": [],
   "source": [
    "a = '321'\n",
    "b = '400'\n",
    "c = a + b\n",
    "print(c)\n",
    "\n",
    "d = int(a) + b  #int(b)\n",
    "print(d)"
   ]
  },
  {
   "cell_type": "code",
   "execution_count": null,
   "metadata": {},
   "outputs": [],
   "source": [
    "a = 45.32\n",
    "b = 14.9\n",
    "print(a+b)\n",
    "print(int(a+b))\n",
    "print(int(a) + int(b))"
   ]
  },
  {
   "cell_type": "markdown",
   "metadata": {},
   "source": [
    "# 動手做"
   ]
  },
  {
   "cell_type": "markdown",
   "metadata": {},
   "source": [
    "#### 題目: 小數點後第一位\n",
    "* 給定正整數，列印小數點右邊的第一位數字\n",
    "* 範例: \n",
    " * input: 1.79\n",
    " * output: 7"
   ]
  },
  {
   "cell_type": "code",
   "execution_count": 26,
   "metadata": {},
   "outputs": [
    {
     "name": "stdout",
     "output_type": "stream",
     "text": [
      "28.9999\n",
      "9\n"
     ]
    }
   ],
   "source": [
    "x = float(input())\n",
    "print(int(x*10)%10)"
   ]
  },
  {
   "cell_type": "markdown",
   "metadata": {},
   "source": [
    "#### 題目: M公里的路線需要多少天\n",
    "* 一輛汽車每天可以行駛N公里。綿延M公里的路線需要多少天？\n",
    "* 範例: \n",
    " * input: 700, 750    #行駛N公里。路線M公里分別換行輸入\n",
    " * output: 7"
   ]
  },
  {
   "cell_type": "code",
   "execution_count": null,
   "metadata": {},
   "outputs": [],
   "source": []
  },
  {
   "cell_type": "markdown",
   "metadata": {},
   "source": [
    "#### 題目: 蝸牛要花幾天往上爬\n",
    "* 蝸牛在白天上升A英尺，在晚上下降B英尺。他上H高的樹要花多長時間？\n",
    "* 範例: \n",
    " * input: 10, 3, 2    #樹高H，上升A英尺，下降B英尺。分別換行輸入\n",
    " * output: 7"
   ]
  },
  {
   "cell_type": "code",
   "execution_count": null,
   "metadata": {},
   "outputs": [],
   "source": []
  },
  {
   "cell_type": "markdown",
   "metadata": {},
   "source": [
    "### Import random library"
   ]
  },
  {
   "cell_type": "markdown",
   "metadata": {},
   "source": [
    "# 動手做"
   ]
  },
  {
   "cell_type": "markdown",
   "metadata": {},
   "source": [
    "#### 題目:\n",
    "* 設計一支程式可以讓使用者猜測11到20之間小女生的年齡(隨機產生的女生年齡)，使用者最多可猜3次。"
   ]
  },
  {
   "cell_type": "code",
   "execution_count": null,
   "metadata": {},
   "outputs": [],
   "source": [
    "from random import randint\n",
    "age = randint(11, 20)\n",
    "times = 1\n",
    "print(\"猜猜一個從11到20歲的年紀，你將有3次機會。\")\n",
    "\n",
    "while times <= 3:\n",
    "    guess = int(input(\"猜一個年紀: \"))\n",
    "    if guess > age:\n",
    "        print(\"猜的年紀太高\")\n",
    "    elif guess < age:\n",
    "        print(\"猜的年紀太輕\")\n",
    "    else:\n",
    "        print(\"猜對了，請不要告訴其他人\")\n",
    "    \n",
    "    times += 1\n",
    "\n"
   ]
  },
  {
   "cell_type": "markdown",
   "metadata": {},
   "source": [
    "### Additional Method on Integer Types"
   ]
  },
  {
   "cell_type": "code",
   "execution_count": null,
   "metadata": {},
   "outputs": [],
   "source": [
    "(1024).to_bytes(2, byteorder='big')"
   ]
  },
  {
   "cell_type": "code",
   "execution_count": null,
   "metadata": {},
   "outputs": [],
   "source": []
  }
 ],
 "metadata": {
  "celltoolbar": "Raw Cell Format",
  "kernelspec": {
   "display_name": "Python 3",
   "language": "python",
   "name": "python3"
  },
  "language_info": {
   "codemirror_mode": {
    "name": "ipython",
    "version": 3
   },
   "file_extension": ".py",
   "mimetype": "text/x-python",
   "name": "python",
   "nbconvert_exporter": "python",
   "pygments_lexer": "ipython3",
   "version": "3.8.5"
  }
 },
 "nbformat": 4,
 "nbformat_minor": 2
}
