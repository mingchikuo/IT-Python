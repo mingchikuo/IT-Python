{
 "cells": [
  {
   "cell_type": "markdown",
   "metadata": {},
   "source": [
    "# Class"
   ]
  },
  {
   "cell_type": "markdown",
   "metadata": {},
   "source": [
    "## Class & Instance\n"
   ]
  },
  {
   "cell_type": "code",
   "execution_count": null,
   "metadata": {
    "scrolled": true
   },
   "outputs": [],
   "source": [
    "# class \n",
    "\n",
    "class Myclass:\n",
    "    '''\n",
    "      This is my first class\n",
    "    '''   \n",
    "    x=0    # class attribute; class variable\n",
    "    y=0\n",
    "    print('Myclass created')\n",
    "    def __init__ (self, name):\n",
    "        #print(self)\n",
    "        self.name = name  #use self to define a object atriabute\n",
    "        self.y=100\n",
    "        #x += 1   #error! 'x' referenced before assignment\n",
    "        Myclass.x += 1\n",
    "\n",
    "    def show(self):\n",
    "        print(self.name)\n",
    "        print(Myclass.x)\n",
    "        print(self.y)\n",
    "        print(Myclass.y)\n",
    "    def BMI(self):\n",
    "        pass\n",
    "        \n",
    "\n",
    "        \n",
    "\n",
    "\n",
    "\n",
    "\n",
    "b = Myclass(\"Joseph\")\n",
    "b.show()\n",
    "\n",
    "My=Myclass   # set alternative class name \n",
    "c=My(\"ittraining\")\n",
    "c.show()\n",
    "c.BMI()\n",
    "print('---------------')\n",
    "print(Myclass.x)"
   ]
  },
  {
   "cell_type": "code",
   "execution_count": null,
   "metadata": {},
   "outputs": [],
   "source": [
    "a = Myclass(\"TQQQ\")\n",
    "a.show()\n",
    "\n",
    "print(a.name)"
   ]
  },
  {
   "cell_type": "markdown",
   "metadata": {},
   "source": [
    "## 小心命名空間"
   ]
  },
  {
   "cell_type": "code",
   "execution_count": null,
   "metadata": {},
   "outputs": [],
   "source": [
    "x = 10\n",
    "class MyClass:\n",
    "    x = 3  # 生成x所屬的命名空間\n",
    "\n",
    "    def __init__(self, y):\n",
    "        self.x += y   #若是計算, 變數必須要設定初值\n",
    "\n",
    "    def my_add(self, z):\n",
    "        x = x + z  # 錯誤： x的scope並未被生成, \n",
    "        # 使用self.x或MyClass.x便能參考 \n",
    "\n",
    "\n",
    "if __name__ == '__main__':\n",
    "    a = MyClass(10)\n",
    "    print(a.x)\n",
    "    \n",
    "    a.my_add(10)\n",
    "    \n",
    "    "
   ]
  },
  {
   "cell_type": "code",
   "execution_count": null,
   "metadata": {},
   "outputs": [],
   "source": [
    "x = 100\n",
    "class Demo:\n",
    "\n",
    "    i = 10 \n",
    "    x += 2  #102\n",
    "    xx = x + 2  #104\n",
    "    print('xx = ', xx)\n",
    "    def price(self):\n",
    "        y = self.i * x  # 參考全域命名空間裡的物件x\n",
    "        z = self.i * self.x  #依實例屬性→類別屬性的順序來搜尋並參考\n",
    "        # z = i * x  #這裡會發生錯誤（在此無法看到資料i）MyClass.i\n",
    "        print(\"price y = %d\" % y)\n",
    "        print(\"price z = %d\" % z)\n",
    "\n",
    "    def shop(self):\n",
    "        self.price()  # (8)這個方式OK\n",
    "        Demo.i = 20  #變更類別的資料\n",
    "\n",
    "\n",
    "\n",
    "# (11)用來確認動作的程式碼\n",
    "\n",
    "a = Demo()\n",
    "b = Demo()\n",
    "a.shop()  # 當中會執行 MyClass.i = 20\n",
    "print('(a.i, b.i) = ({}, {})'.format(a.i, b.i))\n",
    "a.i = 2  # 設定實例屬性\n",
    "Demo.i = 4  # 變更類別屬性\n",
    "print('(a.i, b.i) = ({}, {})'.format(a.i, b.i))\n"
   ]
  },
  {
   "cell_type": "markdown",
   "metadata": {},
   "source": [
    "## class inheritance "
   ]
  },
  {
   "cell_type": "code",
   "execution_count": null,
   "metadata": {},
   "outputs": [],
   "source": [
    "# class inheritance \n",
    "\n",
    "class MySubclass(Myclass):\n",
    "    '''\n",
    "      This is my first Subclass\n",
    "      \n",
    "    '''\n",
    "    print('MySubclass created')\n",
    "    def __init__ (self, name,height,weight):\n",
    "        \n",
    "        super().__init__(name)   #supber() to get the parent class\n",
    "        self.height=height  #new attribute\n",
    "        self.weight=weight  #new attribute\n",
    "        #print(self)\n",
    "\n",
    "    #def show(self):              # override the show() method in praenet class\n",
    "        #super().show()   #call parent show()\n",
    "    #    print(self.name,':',self.height,self.weight)\n",
    "    # BMI = 體重(公斤) / 身高2(公尺2)\n",
    "    def BMI(self):       #function overrid \n",
    "        return round(self.weight/((self.height/100)**2),2)\n",
    "\n",
    "\n",
    "\n",
    "MySub=MySubclass   # set alternative class name \n",
    "c=MySub(\"ittraining\",180,80)\n",
    "c.show()\n",
    "c.BMI()\n",
    "\n",
    "d=MySub(\"joseph\",200,80)\n",
    "d.show()\n",
    "d.BMI()\n"
   ]
  },
  {
   "cell_type": "markdown",
   "metadata": {},
   "source": [
    "## @staticmethod"
   ]
  },
  {
   "cell_type": "code",
   "execution_count": null,
   "metadata": {},
   "outputs": [],
   "source": [
    "# class--static method\n",
    "\n",
    "class MySubclass2(Myclass):\n",
    "    '''\n",
    "      This is my first Subclass\n",
    "    '''\n",
    "    def __init__ (self, name,height,weight):\n",
    "        super().__init__(name)   #supber() to get the parent class\n",
    "        self.height=height  #new attribute\n",
    "        self.weight=weight  #new attribute\n",
    "\n",
    "    def show(self):      # override the show() method in praenet class\n",
    "        super().show()   #call parent show()\n",
    "        print(self.height,self.weight)\n",
    "    #@staticmethod         \n",
    "    def BMI(h,w):    \n",
    "        return w/((h/100)**2)\n",
    "\n",
    "MySub=MySubclass2   # set alternative class name \n",
    "c=MySub(\"ittraining\",175,75)\n",
    "c.show()\n",
    "bmi=MySub.BMI(175,73) #call using classs name\n",
    "print(round(bmi,2))\n",
    "\n"
   ]
  },
  {
   "cell_type": "markdown",
   "metadata": {},
   "source": [
    "## @classmethod"
   ]
  },
  {
   "cell_type": "code",
   "execution_count": null,
   "metadata": {},
   "outputs": [],
   "source": [
    "class CoeffVar:\n",
    "    coefficient = 10\n",
    "\n",
    "    @classmethod  # 將方法mul指定為類別方法\n",
    "    def mul(cls, fact):  # 第1引數為cls\n",
    "        return cls.coefficient * fact\n",
    "\n",
    "\n",
    "# 定義繼承類別Coeffvar的類別MulFive\n",
    "class MulFive(CoeffVar):\n",
    "    coefficient = 5\n",
    "    pass\n",
    "\n",
    "\n",
    "x=CoeffVar.mul(4)\n",
    "print(x)\n",
    "x = MulFive.mul(4)  # CoeffVar.mul(MulFive, 4) -> 20\n",
    "#print(MulFive.coefficient)\n",
    "print(x)\n"
   ]
  },
  {
   "cell_type": "markdown",
   "metadata": {},
   "source": [
    "## private attribute & method"
   ]
  },
  {
   "cell_type": "code",
   "execution_count": null,
   "metadata": {
    "scrolled": true
   },
   "outputs": [],
   "source": [
    "# Private variable : __var\n",
    "# Private Method : __def xxx(self,...)\n",
    "class Demo:\n",
    "    __x = 0\n",
    "    y = 50\n",
    "    def __init__ (self, i):\n",
    "        self.j=10\n",
    "        self.__i = i\n",
    "        Demo.__x += 1\n",
    "    def getJ(self):\n",
    "        return self.j\n",
    "    def getI(self):\n",
    "        return self.__i\n",
    "    @classmethod\n",
    "    def getX(cls):   \n",
    "        return cls.__x\n",
    "    def __get(self):  #private method   \n",
    "        return (self.getJ(),self.getI(),Demo.__x)  \n",
    "\n",
    "    def get(self):   #public method\n",
    "        return self.__get()     \n",
    "\n",
    "a = Demo(1000)\n",
    "\n",
    "print(a.get())\n",
    "print('--------------')\n",
    "#---public instance variable--------------\n",
    "print(\"a.j=\",a.j)\n",
    "print(\"a.getJ()=\", a.getJ())\n",
    "\n",
    "#---private instance variable--------------\n",
    "#print(\"a.__i=\",a.__i)  #error: Object has no attribute '__x'\n",
    "print(\"a.getI()=\", a.getI())\n",
    "\n",
    "#---public Class variable--------------\n",
    "\n",
    "#print(\"Demo.x =\", Demo.__x) #error: Class has no attribute '__x'\n",
    "print(\"Demo.y =\", Demo.y)\n",
    "\n",
    "#---private Class variable--------------\n",
    "\n",
    "#print(\"Demo.x =\", Demo.__x) #error: Class has no attribute '__x'\n",
    "print(\"Demo.x =\", Demo.getX())\n",
    "\n",
    "#---private method--------------\n",
    "#print(\"a(i,j) =\", a.__get())  #error: Demo object has no attribute '__get'\n",
    "print(\"a(i,j) =\", a.get())\n",
    "\n",
    "\n"
   ]
  },
  {
   "cell_type": "markdown",
   "metadata": {},
   "source": [
    "# Modules & Packages"
   ]
  },
  {
   "cell_type": "markdown",
   "metadata": {},
   "source": [
    "## import customer.py"
   ]
  },
  {
   "cell_type": "code",
   "execution_count": null,
   "metadata": {},
   "outputs": [],
   "source": [
    "import sys\n",
    "sys.path.append(r'C:\\Users\\Joseph\\python\\code\\trunk\\my_module')\n",
    "import numpy as np\n",
    "print(np.__file__)"
   ]
  },
  {
   "cell_type": "code",
   "execution_count": null,
   "metadata": {},
   "outputs": [],
   "source": [
    "\n",
    "import customer \n",
    "  \n",
    "me = customer.Customer('joseph')\n",
    "print(me.name)\n",
    "\n",
    "import customer as Cu\n",
    "he = Cu.Customer('ittraining')\n",
    "print(he.name)\n",
    "\n",
    "\n",
    "from customer import Customer \n",
    "you = Customer('google')\n",
    "print(you.name)"
   ]
  },
  {
   "cell_type": "code",
   "execution_count": null,
   "metadata": {},
   "outputs": [],
   "source": [
    "me.set_balance(500)\n",
    "print(me.name)\n",
    "print(me.balance)\n",
    "print(Customer.count)\n",
    "print(customer.__file__)\n",
    "print(customer.__name__)"
   ]
  },
  {
   "cell_type": "code",
   "execution_count": null,
   "metadata": {},
   "outputs": [],
   "source": [
    "print(customer.__file__)\n",
    "print(customer.__name__)\n",
    "print('==============')\n",
    "print(dir(customer))\n",
    "print(help(customer))\n"
   ]
  },
  {
   "cell_type": "markdown",
   "metadata": {},
   "source": [
    "## if \\__name\\__ == '\\__main\\__'"
   ]
  },
  {
   "cell_type": "code",
   "execution_count": null,
   "metadata": {},
   "outputs": [],
   "source": [
    "#sys.argv is a list.\n",
    "#This list is created by your command line, it's a list of your command line arguments.\n",
    "#\n",
    "#For example:\n",
    "#\n",
    "#in your command line you input something like this,\n",
    "#\n",
    "#python3.2 file.py something\n",
    "#sys.argv will become a list ['file.py', 'something']\n",
    "#\n",
    "#In this case sys.argv[1] = 'something'\n",
    "\n",
    "\n",
    "\n",
    "#!/usr/bin/python3.1\n",
    "\n",
    "# import modules used here -- sys is a very standard one\n",
    "import sys\n",
    "\n",
    "# Gather our code in a main() function\n",
    "def main():\n",
    "    print(\"argument length:\",len(sys.argv))\n",
    "    for i in range(len(sys.argv)):\n",
    "        print (\"argument%d-->%s\"%(i,sys.argv[i]))\n",
    "  # Command line args are in sys.argv[1], sys.argv[2] ..\n",
    "  # sys.argv[0] is the script name itself and can be ignored\n",
    "\n",
    "# Standard boilerplate to call the main() function to begin\n",
    "# the program.\n",
    "if __name__ == '__main__':\n",
    "    main()"
   ]
  },
  {
   "cell_type": "markdown",
   "metadata": {},
   "source": [
    "## Generator & yield and next\n",
    "Generators simplifies creation of iterators"
   ]
  },
  {
   "cell_type": "code",
   "execution_count": null,
   "metadata": {
    "scrolled": false
   },
   "outputs": [],
   "source": [
    "def myrange(n): \n",
    "    x = 0 \n",
    "    while True: \n",
    "        yield x    #return a generat\n",
    "        x += 1\n",
    "        if x == n: \n",
    "            break \n",
    "gen=myrange(10)   \n",
    "print(gen)    #generator object\n",
    "print(list(myrange(10)))  # list(generator)\n",
    "\n",
    "print(next(gen))\n",
    "print(next(gen))\n",
    "print(next(gen))\n",
    "print(next(gen))\n",
    "\n",
    "\n",
    "\n",
    "\n",
    "\n"
   ]
  },
  {
   "cell_type": "code",
   "execution_count": null,
   "metadata": {},
   "outputs": [],
   "source": [
    "def f():\n",
    "    while True:\n",
    "        x=yield\n",
    "        yield x * 2\n",
    "        \n",
    "gen=f()\n",
    "\n",
    "next(gen)\n",
    "print(gen.send(1))\n",
    "next(gen)\n",
    "print(gen.send(2))\n",
    "\n"
   ]
  },
  {
   "cell_type": "code",
   "execution_count": null,
   "metadata": {},
   "outputs": [],
   "source": [
    "#yield\n",
    "\n",
    "def reverse(string): \n",
    "    for i in range(3,-1, -1): \n",
    "        yield string[i] \n",
    "\n",
    "for i in reverse(\"python\"): \n",
    "    print(i,end='') \n",
    "    "
   ]
  },
  {
   "cell_type": "code",
   "execution_count": null,
   "metadata": {},
   "outputs": [],
   "source": [
    "class Primes:\n",
    "    def __init__(self, max):\n",
    "        self.max = max\n",
    "        self.number = 1\n",
    "    def __iter__(self):\n",
    "        return self\n",
    "    def __next__(self):\n",
    "        self.number += 1\n",
    "        if self.number >= self.max:\n",
    "            raise StopIteration\n",
    "        elif check_prime(self.number):\n",
    "            return self.number\n",
    "        else:\n",
    "            return self.__next__()\n",
    "        \n",
    "primes = Primes(100)\n",
    "print(primes)\n",
    "for x in primes:\n",
    "    print(x)"
   ]
  },
  {
   "cell_type": "markdown",
   "metadata": {},
   "source": [
    "# MISC"
   ]
  },
  {
   "cell_type": "markdown",
   "metadata": {},
   "source": [
    "## Command Line argument"
   ]
  },
  {
   "cell_type": "code",
   "execution_count": null,
   "metadata": {},
   "outputs": [],
   "source": [
    "#Python get command line option, using getopt module\n",
    "import sys, getopt\n",
    "\n",
    "def main(argv):\n",
    "    inputfile = ''\n",
    "    outputfile = ''\n",
    "    try:\n",
    "        opts, args = getopt.getopt(argv,\"EAWlbp\")\n",
    "    except getopt.GetoptError:\n",
    "        print ('test.py -[EAW][lbp]')\n",
    "        sys.exit(2)\n",
    "    for opt, arg in opts:\n",
    "        if opt == '-h':\n",
    "            print ('test.py -i <inputfile> -o <outputfile>')\n",
    "            sys.exit()\n",
    "        elif opt == '-E':\n",
    "             print('-E')\n",
    "        elif opt == '-A':\n",
    "             print('-A')\n",
    "              "
   ]
  },
  {
   "cell_type": "markdown",
   "metadata": {},
   "source": [
    "## Generate pseudo-random numbers"
   ]
  },
  {
   "cell_type": "code",
   "execution_count": null,
   "metadata": {},
   "outputs": [],
   "source": [
    "#random \n",
    "import random\n",
    "print(random.random())        # Random float x, 0.0 <= x < 1.0\n",
    "print(random.uniform(1, 10))  # Random float x, 1.0 <= x < 10.0\n",
    "\n",
    "print(random.randint(1, 10))  # Integer from 1 to 10, endpoints included\n",
    "\n",
    "print(random.randrange(0, 10, 4))  # Even integer from 0 to 100, step=4\n",
    "\n",
    "print(random.choice('abcdefghij'))  # Choose a random element\n",
    "\n",
    "items = [1, 2, 3, 4, 5, 6, 7]\n",
    "random.shuffle(items)\n",
    "print(items)\n",
    "print(random.sample([1, 2, 3, 4, 5],  3))  # Choose 3 elements\n"
   ]
  },
  {
   "cell_type": "markdown",
   "metadata": {},
   "source": [
    "## Itertools\n"
   ]
  },
  {
   "cell_type": "code",
   "execution_count": null,
   "metadata": {},
   "outputs": [],
   "source": [
    "# 產生 C(n,m)\n",
    "import itertools\n",
    "\n",
    "a = range(3)\n",
    "choice=[]\n",
    "for i in range(0,len(a)+1):\n",
    "    choice.append(list(itertools.combinations(a,i)))\n",
    "\n",
    "for i in range(len(choice)):\n",
    "    for j in range(len(choice[i])):\n",
    "        print(list(choice[i][j]))\n",
    "\n",
    "\n"
   ]
  },
  {
   "cell_type": "markdown",
   "metadata": {},
   "source": [
    "## Time"
   ]
  },
  {
   "cell_type": "code",
   "execution_count": null,
   "metadata": {},
   "outputs": [],
   "source": [
    "#handle time\n",
    "from datetime import datetime,date\n",
    "\n",
    "def process_time(stime):\n",
    "    #'2017-11-24 7:59:25.334'\n",
    "    time_slot=-1\n",
    "    date1,time1= stime.split(' ')\n",
    "    date1=[int(i) for i in date1.split('-')]   #[2017, 6, 8] Y/M/D\n",
    "    time1=[float(i) for i in time1.split(':')]  #[15.0, 18.0, 25.334] H/M/S\n",
    "    t=datetime(date1[0], date1[1],date1[2],int(time1[0]),int(time1[1])).time()\n",
    "\n",
    "    t0=t.replace(hour=1,minute=0)\n",
    "    t1=t.replace(hour=9,minute=0)\n",
    "    t2=t.replace(hour=17,minute=0)\n",
    "    t3=t.replace(hour=21,minute=0)\n",
    "    #print(t)\n",
    "    #print(t0)  #01:00:00\n",
    "\n",
    "    if (t>=t0 and t<t1): #AM1:00~AM9:00\n",
    "        time_slot=0\n",
    "    elif (t>=t1 and t<t2):  #AM9:00~PM17:00\n",
    "        time_slot=1\n",
    "    elif (t>=t2 and t<t3): #PM17:00~PM9:00 \n",
    "        time_slot=2\n",
    "    else:  # >PM 9:00\n",
    "        time_slot=3\n",
    "    # weekday\n",
    "    weekday=date(date1[0], date1[1],date1[2]).weekday()   #Modnday:0, Tuesday:1 ,...Sunday:6\n",
    "    \n",
    "    return weekday,time_slot\n",
    "\n",
    "\n",
    "stime='2017-11-24 7:59:25.334'\n",
    "process_time(stime)\n"
   ]
  },
  {
   "cell_type": "markdown",
   "metadata": {},
   "source": [
    "## Handle matrix using List "
   ]
  },
  {
   "cell_type": "code",
   "execution_count": null,
   "metadata": {},
   "outputs": [],
   "source": [
    "#list to hanle matix\n",
    "\n",
    "A=list(range(5))      #[0, 1, 2, 3, 4]\n",
    "B=list(range(5,10))   #[5, 6, 7, 8, 9]\n",
    "C=list(range(10,15))  #[10, 11, 12, 13, 14]]\n",
    "\n",
    "Table=[A,B,C]\n",
    "print(Table[0][0])       #[[0, 1, 2, 3, 4], [5, 6, 7, 8, 9], [10, 11, 12, 13, 14]]\n",
    "print(Table[0][1:4])     #[1, 2, 3]\n",
    "\n",
    "\n",
    "#get column\n",
    "Y=list(zip(A,B,C))        #[((0, 5, 10),), ((1, 6, 11),), ((2, 7, 12),), ((3, 8, 13),), ((4, 9, 14),)]\n",
    "print(Y)\n",
    "Column=list(list(zip(A,B,C))[2])  #(2, 7, 12)  --> [2, 7, 12]\n",
    "\n",
    "\n",
    "#the sum of each row\n",
    "for i in range(len(Table)):\n",
    "    print(sum(Table[i]))         #10,35,60\n",
    "       \n",
    "#the sum of each column\n",
    "for i in range(len(Y)):\n",
    "    print(sum(Y[i]))            #15,18,21,24,27\n",
    "    \n",
    "\n",
    "#sum of each element\n",
    "total=0\n",
    "for i in range(len(Table)):\n",
    "    for j in range(len(Table[0])):\n",
    "        total+=Table[i][j]\n",
    "print(total)\n",
    "\n",
    "#extract subset table from list\n",
    "def list_subset(T,row_list,column_list):\n",
    "    d=[]\n",
    "    idx=0\n",
    "    #print(T)\n",
    "    for i in row_list:\n",
    "        d.append([])\n",
    "        for j in column_list:\n",
    "            d[idx].append(T[i][j])\n",
    "            \n",
    "        idx+=1\n",
    "    return d\n",
    "\n",
    "print(Table)\n",
    "\n",
    "k=list_subset(Table,[0,1],[0,1,4])\n",
    "print(k)\n",
    "\n",
    "Tbl=list_subset(Table,list(range(1,3)),[0,1,4])     #[[5, 6, 9], [10, 11, 14]]\n",
    "print(Tbl)\n",
    "\n",
    "\n",
    "    \n",
    "#define list operation \n",
    "\n",
    "def list_substract(list1,list2):\n",
    "    return list(map(lambda x, y: x - y, list1, list2))\n",
    "\n",
    "\n",
    "def list_add(list1,list2):\n",
    "    return list(map(lambda x, y: x + y, list1, list2))\n",
    "\n",
    "def list_div(list1,list2):\n",
    "    return list(map(lambda x, y: x / y, list1, list2))\n",
    "\n",
    "def list_multiply(list1,list2):\n",
    "    return list(map(lambda x, y: x * y, list1, list2))\n",
    "\n",
    "def get_one_column(T,cidx):\n",
    "    res=[]\n",
    "    t=list_subset(T,list(range(len(T))),[cidx])\n",
    "    for row in t:\n",
    "        for i in row:\n",
    "            res.append(i)\n",
    "    return res;\n",
    "    \n",
    "#column * column*..\n",
    "def calculate(T):\n",
    "    #for i in range(len(Table_column)):\n",
    "    #    print(Table_column[i])\n",
    "    print('-'*40)\n",
    "    i=0\n",
    "    print(T)\n",
    "    f1=get_one_column(T,0)\n",
    "    print(f1)\n",
    "    f2=get_one_column(T,1)\n",
    "    print(f2)\n",
    "    res=list_multiply(f1,f2)\n",
    "    print(f1,f2,res)\n",
    "    res=list_div(f1,[5,5,5])\n",
    "    print(f1,f2,res)\n",
    "    \n",
    "    \n",
    "#calculate(Tbl)\n",
    "calculate(Table)\n",
    "#[0, 1, 2, 3, 4]\n",
    "#[5, 6, 7, 8, 9]\n",
    "#[10, 11, 12, 13, 14]]\n"
   ]
  },
  {
   "cell_type": "code",
   "execution_count": null,
   "metadata": {},
   "outputs": [],
   "source": []
  }
 ],
 "metadata": {
  "celltoolbar": "Raw Cell Format",
  "kernelspec": {
   "display_name": "Python 3",
   "language": "python",
   "name": "python3"
  },
  "language_info": {
   "codemirror_mode": {
    "name": "ipython",
    "version": 3
   },
   "file_extension": ".py",
   "mimetype": "text/x-python",
   "name": "python",
   "nbconvert_exporter": "python",
   "pygments_lexer": "ipython3",
   "version": "3.8.3"
  }
 },
 "nbformat": 4,
 "nbformat_minor": 2
}
